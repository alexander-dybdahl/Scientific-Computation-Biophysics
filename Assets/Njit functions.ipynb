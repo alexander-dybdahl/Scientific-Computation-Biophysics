{
 "cells": [
  {
   "cell_type": "code",
   "execution_count": null,
   "metadata": {},
   "outputs": [],
   "source": [
    "@jit(nopython=True)\n",
    "def appendToList(arr, obj):\n",
    "    tot_length = int(np.shape(arr1)[0] + 1)\n",
    "    arr_total = np.append(arr,obj)\n",
    "    return arr_total.reshape((tot_length,2))\n",
    "\n",
    "@jit(nopython=True)\n",
    "def delete(a,b):\n",
    "    a = np.delete(a, (b,b+1))\n",
    "    return a\n",
    "\n",
    "@jit(nopython=True)\n",
    "def removeFromList(arr, obj):\n",
    "    new_arr = np.copy(arr)\n",
    "    tot_length = int(np.shape(arr)[0] - 1)\n",
    "    index = 1\n",
    "    for i in arr:\n",
    "        if i[0] == obj[0][0] and i[1] == obj[0][1]:\n",
    "            arr_new = delete(arr, index)\n",
    "        index += 1\n",
    "    return arr_new.reshape((tot_length,2))\n",
    "\n",
    "\n",
    "@jit(nopython=True)\n",
    "def inArray(arr, obj):\n",
    "    inArr = False\n",
    "    for pos in arr:\n",
    "        if pos[0] == obj[0][0] and pos[1] == obj[0][1]:\n",
    "            inArr = True\n",
    "    return inArr\n",
    "\n",
    "a = np.array([[1,2],[3,4],[5,6],[7,8],[9,10],[11,12]])\n",
    "b = np.array([[1,2]])\n",
    "print(removeFromList(a, b))\n",
    "\n"
   ]
  }
 ],
 "metadata": {
  "kernelspec": {
   "display_name": "Python 3",
   "language": "python",
   "name": "python3"
  },
  "language_info": {
   "codemirror_mode": {
    "name": "ipython",
    "version": 3
   },
   "file_extension": ".py",
   "mimetype": "text/x-python",
   "name": "python",
   "nbconvert_exporter": "python",
   "pygments_lexer": "ipython3",
   "version": "3.6.6+"
  }
 },
 "nbformat": 4,
 "nbformat_minor": 2
}
