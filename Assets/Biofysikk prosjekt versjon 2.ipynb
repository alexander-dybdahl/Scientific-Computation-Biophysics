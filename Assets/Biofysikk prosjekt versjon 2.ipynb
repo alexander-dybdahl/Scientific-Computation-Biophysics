{
 "cells": [
  {
   "cell_type": "markdown",
   "id": "da6cebc2",
   "metadata": {},
   "source": [
    "# **HØVING VITBER**"
   ]
  },
  {
   "cell_type": "markdown",
   "id": "24a55fc8",
   "metadata": {},
   "source": [
    "**Abstract**\n",
    "\n",
    "In this project we will utilize several numerical tools to study formations of membrane-less organells. We will be using some simple Monte Carlo simulations to illustrate how systemes of monomers and polymers will gradually develope over time. Our MC simulations will be following some basic physical principle to ensure a realistic model. We will also visualize the process to showcase different phenomenon, such as how monomers might consolidate into huge clusters and how polymers might adept their shape to best fit their enviromet. Thourghout the project we will also observe how energy will evolve and eventually oscillate around a equilibrium."
   ]
  },
  {
   "cell_type": "markdown",
   "id": "fbf82b56",
   "metadata": {},
   "source": [
    "**Describing the system**\n",
    "\n",
    "In our system we will simplify a plane to a 2-dimensional grid, meaning positions will be quantified. In these discrete system our meassure of distance and interaction inbetween monomers will also be simplified. If monomers are not neighbouring, they won't effect eachother. Even though there will be some kind of electrical force pulling and pushing monomers around, we will neglact this behavior. Moreover, our grid will be a relaitvly small representation of the entire cell. To ensure some realistic behavior \"outside\" the grid, we will assume the grid periodic. In practice this means our grid takes place on a geometric torus, looping around in all directions. Our unit step length will be $a = (23 \\cdot 10^{-6})^2 m$ and $a = (91 \\cdot 10^{-6})^2 m$ in the monomer and polymer case respectivly.\n",
    "\n",
    "When calculating energy, we will be using the usual superposition of electric potential. We will be looking at every potensial contribution seperatly and sum up to calculate the energy of the system. \n",
    "\n",
    "$$E = \\sum_{i,j} V_{ij} \\quad \\quad V_{ij} = \\frac{1}{4 \\pi \\varepsilon} \\frac{q_i q_j}{|r_i - r_j|} $$\n",
    "\n",
    "Since charge is quantified with the elementary charge we have\n",
    "\n",
    "$$ q_i = w_i e, \\quad w_i \\in \\mathbb{Z} $$\n",
    "\n",
    "Which yields\n",
    "\n",
    "$$V_{ij} = w_i w_j \\frac{1}{4 \\pi \\varepsilon_0 \\varepsilon_r} \\frac{e^2}{|r_i - r_j|} = w_i w_j \\frac{e^2}{4 \\pi \\varepsilon_0 \\varepsilon_r a} \\frac{a}{|r_i - r_j|}$$\n",
    "\n",
    "Choosing \n",
    "\n",
    "$$\\alpha = \\frac{e^2}{4 \\pi \\varepsilon_0 \\varepsilon_r a}$$ \n",
    "\n",
    "\n",
    "Due to that fact that only neighbours affect eachother, their distance $r = |r_i -r_j|$ will always be the unit length, namely $a$. Concluding \n",
    "\n",
    "$$\n",
    "V_{ij} = \\begin{cases}\n",
    "             w_i w_j \\alpha  & \\text{if NN} \\\\\n",
    "             0  & \\text{else }\n",
    "          \\end{cases}\n",
    "$$\n",
    "\n",
    "For the system of monomers, charge value is been limited to $\\pm 1$, and $w_i$ integer,  meaning energy will be given in quantified with $\\alpha$.\n",
    "\n",
    "$$E = \\sum_{i,j} V_{ij} = \\sum w_i w_j \\alpha = \\alpha \\sum w_i w_j = \\alpha z, \\quad z\\in\\mathbb{Z}$$"
   ]
  },
  {
   "cell_type": "markdown",
   "id": "fe07b9ec",
   "metadata": {},
   "source": [
    "**Physical priciples of our system**\n",
    "\n",
    "To illustarte our system, we will be using the Metropolis algorithm. First we need to attempt a legal move. The law of conservation of energy will ensure that the system energy will diminish or stabilize. Thus, the first step will take meassures before and after, $E_0$ and $E_n$, to verify that the energy level of the successive system has declined. If the process succeeds, the move will be initiated. \n",
    "\n",
    "Although we want a converging system we will occasionally allow a \"deviation\". If a move failes the first step there will be a slim chance for the move to occur. The probability will be $e^{-\\frac{\\Delta E}{k_B T}}$. Thus we have an increasing and decreaising contribution which eventually converges. For higher temperature, thermal fluxuation is more probable."
   ]
  },
  {
   "cell_type": "markdown",
   "id": "ddcc2a1b",
   "metadata": {},
   "source": [
    "**Energy of polymers**\n",
    "\n",
    "Polymers will operate as single organisms. While caluclating energy for polymer, we will be using the same model for energy contribution between monomers which neighbour a monomer from another polymer. Monomers within the same polymer will play no part in our energy calculation."
   ]
  },
  {
   "cell_type": "markdown",
   "id": "9d1b31cc",
   "metadata": {},
   "source": [
    "**Initializing grid**\n",
    "\n",
    "Vet ikke hvor mye vi trenger å forklare for disse spesifikt...\n",
    "\n",
    "We start by my making a 2D array of zeros, and making a list of values between $[-M,M]$ excluding $0$, which we shuffle. From the random library we are taking 20 random coordinates. \n",
    "\n"
   ]
  },
  {
   "cell_type": "markdown",
   "id": "71c4feb5",
   "metadata": {},
   "source": [
    "**Try Except**"
   ]
  },
  {
   "cell_type": "markdown",
   "id": "39ba36b1",
   "metadata": {},
   "source": [
    "**CreateSystemOfPolymers**\n",
    "\n",
    "When considering our code, there is a slight probability that createSystemOfPolymers() will run indefinitely. Big clusters of polymers may cage in sectors such that new polymers lack spaces to fully forge. Our while-lopp will always try to find a legal space to expand. However, if there are none, this loop will continue forever. This is a minor flaw that we are aware of. Thus far, it has caused close to no problem. If $M,L$ were relatively large compared to $N$, this would be a serious concern. However, our initial values have proven compatible with our code."
   ]
  },
  {
   "cell_type": "markdown",
   "id": "5c8aece6",
   "metadata": {},
   "source": [
    "**Randomness of creating polymers**\n",
    "\n",
    "When initilizing a system of polymers, we considered two diffrent ways to randomize its positions.\n",
    "\n",
    "Say a polymer where to make an L-shaped during initializing. Some legal spaces will be neighbouring multiple monomers. Some might say it is more natural that this space have higher chance to convert to a monomer. However in our model, we have decided to filtrate the list by removing duplicates, meaning every legal space has an equal chance. The other model is just a quick fix away. We have marked what code needs to be removed to introduce the other randomness."
   ]
  },
  {
   "cell_type": "markdown",
   "id": "9645a499",
   "metadata": {},
   "source": [
    "**Why system looks the way it does**\n",
    "\n",
    "As in the case of monomers, polymers will cluster together to make a huge blob. The final grid showcases few clusters where opposite charges are neighboring. The system is constantly trying to decrease its energy level. In the final grid we see that polymers with opposite charge are neighbouring, making in the system energy minimal. For the rigid move, all polymers keep their initial shape, leaveing quite a few holes inbetween polymers. Most likely there are configurations with lower energy, but comprehensive relocations are required to achive such states. "
   ]
  },
  {
   "cell_type": "markdown",
   "id": "21580c19",
   "metadata": {},
   "source": [
    "**How run time has changed for monomers to polymers**\n",
    "\n",
    "dont know"
   ]
  },
  {
   "cell_type": "markdown",
   "id": "f16dd4dd",
   "metadata": {},
   "source": [
    "**2g)**\n",
    "\n",
    "While using the rigid move, the energy plot becomes more discrete. Also, the system maintains a constant energy level for longer periods of time. On the other hand, The medium-flexible move has a smoother energy graph. A higher percentages of the possible moves is allowed meaning the system is in constant state of change. In both cases, if the temperature is reasonable, the system will slowly move towards a system with one cluster. The flexible moves will most likely converge to a lower energy minima since polymer may deform to fit better with eachother."
   ]
  },
  {
   "cell_type": "markdown",
   "id": "40e751a2",
   "metadata": {},
   "source": [
    "**Difference in runtime**\n",
    "\n",
    "in polymers, there is a huge number of moves which is illegal. When the MC-algorithm failes to make a move, we can sooner move to the next itterations. Therefore, it is much quicker. "
   ]
  },
  {
   "cell_type": "markdown",
   "id": "f9ac87f5",
   "metadata": {},
   "source": [
    "**What is a good sample space**\n",
    "\n",
    "For our system, it might be hard to define a \"good\" sample space, especially since our samples are semidependet. We chose our sample space to be $n=10$. By the smoothness of the graph, corresponding to our expectations, we will consider this plot realistic. "
   ]
  },
  {
   "cell_type": "markdown",
   "id": "1bef14e8",
   "metadata": {},
   "source": [
    "**LISTE OVER TING SOM MÅ GJØRES**\n",
    "\n",
    "Pass på å oppdater den ekstra a-en i alpha\n",
    "\n",
    "np.savez ?\n",
    "\n",
    "plotte standard deviation i $\\langle d \\rangle$\n",
    "\n"
   ]
  },
  {
   "cell_type": "markdown",
   "id": "708289a7",
   "metadata": {},
   "source": [
    "Sources:\n",
    "\n",
    "Dahl, Finn\n",
    "\n",
    "Project sheet"
   ]
  },
  {
   "cell_type": "markdown",
   "id": "5854a8a4",
   "metadata": {},
   "source": [
    "**Just in time**\n",
    "\n",
    "While working through the project, some of the tasks expected an enormous amount of iterations to achive a reasonable sample space or decent data. Trying to write an efficient enough code proved quite hard. Our Monte Carlo simulation was not compatible  with million iterations. Thus we tried to reach a higher potensial for the code. We have Numbe JiT to decrease run time. The majority of the functions, escpacially those with longer chains of for-loop, have been JiTed. \n",
    "\n",
    "In the process of implementing Jit, we needed to change the code quite a lot. Numba Jit were only compatible with a handful of the functions we initially used. Jit are very comfortable with the standard library and parts of the numpy library. On a rare occasions some external functions were implemented, but the mindset of the function are very basic. One can say that the code is \"better\" since it runs faster, but elementary principles in coding theory are not followed. We have prioritized runtime over code quality for this project. "
   ]
  },
  {
   "cell_type": "code",
   "execution_count": 3,
   "id": "bc1f152e",
   "metadata": {},
   "outputs": [
    {
     "ename": "ImportError",
     "evalue": "cannot import name 'TwoSlopeNorm'",
     "output_type": "error",
     "traceback": [
      "\u001b[0;31m---------------------------------------------------------------------------\u001b[0m",
      "\u001b[0;31mImportError\u001b[0m                               Traceback (most recent call last)",
      "\u001b[0;32m<ipython-input-3-4bee1a31de0c>\u001b[0m in \u001b[0;36m<module>\u001b[0;34m\u001b[0m\n\u001b[1;32m     10\u001b[0m \u001b[0;32mfrom\u001b[0m \u001b[0mitertools\u001b[0m \u001b[0;32mimport\u001b[0m \u001b[0mchain\u001b[0m\u001b[0;34m\u001b[0m\u001b[0m\n\u001b[1;32m     11\u001b[0m \u001b[0;32mfrom\u001b[0m \u001b[0mmatplotlib\u001b[0m\u001b[0;34m.\u001b[0m\u001b[0mcolors\u001b[0m \u001b[0;32mimport\u001b[0m \u001b[0mBoundaryNorm\u001b[0m\u001b[0;34m\u001b[0m\u001b[0m\n\u001b[0;32m---> 12\u001b[0;31m \u001b[0;32mfrom\u001b[0m \u001b[0mmatplotlib\u001b[0m\u001b[0;34m.\u001b[0m\u001b[0mcolors\u001b[0m \u001b[0;32mimport\u001b[0m \u001b[0mListedColormap\u001b[0m\u001b[0;34m,\u001b[0m\u001b[0mLinearSegmentedColormap\u001b[0m\u001b[0;34m,\u001b[0m \u001b[0mTwoSlopeNorm\u001b[0m\u001b[0;34m\u001b[0m\u001b[0m\n\u001b[0m\u001b[1;32m     13\u001b[0m \u001b[0;32mfrom\u001b[0m \u001b[0mmatplotlib\u001b[0m \u001b[0;32mimport\u001b[0m \u001b[0mcolors\u001b[0m\u001b[0;34m\u001b[0m\u001b[0m\n\u001b[1;32m     14\u001b[0m \u001b[0;32mfrom\u001b[0m \u001b[0mmatplotlib\u001b[0m \u001b[0;32mimport\u001b[0m \u001b[0mcm\u001b[0m\u001b[0;34m\u001b[0m\u001b[0m\n",
      "\u001b[0;31mImportError\u001b[0m: cannot import name 'TwoSlopeNorm'"
     ]
    }
   ],
   "source": [
    "import numpy as np\n",
    "import matplotlib\n",
    "import matplotlib.pyplot as plt\n",
    "import random\n",
    "import time\n",
    "import copy\n",
    "import matplotlib.ticker as ticker\n",
    "\n",
    "from scipy.constants import Boltzmann, epsilon_0, elementary_charge\n",
    "from itertools import chain\n",
    "from matplotlib.colors import BoundaryNorm\n",
    "from matplotlib.colors import ListedColormap,LinearSegmentedColormap, TwoSlopeNorm\n",
    "from matplotlib import colors\n",
    "from matplotlib import cm\n",
    "from operator import indexOf\n",
    "from sqlalchemy import distinct\n",
    "from sympy import apart\n",
    "\n",
    "from numba import jit\n",
    "from numba.core.errors import NumbaDeprecationWarning, NumbaPendingDeprecationWarning\n",
    "import warnings\n",
    "\n",
    "start_time = time.time()\n",
    "epsilon_r = 79\n",
    "a_mono = (23.e-6)**2\n",
    "a_poly = (91.e-6)**2\n",
    "alpha_mono = elementary_charge**2 /(4 * np.pi * epsilon_0 * epsilon_r * a_mono)\n",
    "alpha_poly = alpha_mono * a_mono / a_poly"
   ]
  },
  {
   "cell_type": "markdown",
   "id": "a3b501bb",
   "metadata": {},
   "source": [
    "# 1AB"
   ]
  },
  {
   "cell_type": "markdown",
   "id": "8258bff4",
   "metadata": {},
   "source": [
    "Before implementing Monte Carlo there is a lot of preperations needed. We will start by initiating our physical system which will be an $N\\times N$ grid of integers. This matrix will work as our system of monomers in solvent. To quickly retract informations from our code we wanted to visulize these grids in an adequate way. "
   ]
  },
  {
   "cell_type": "markdown",
   "id": "66fcd418",
   "metadata": {},
   "source": [
    "In the beginning part of this project we wanted to run large scale Monte Carlo simulations on simplified monomer systems. Therfore we needed efficient algorithmes to both initiate such grids of monomers, as well as visualizing them in an adequate way. To shorten the run time of our simulations, we were using built in functions of the NumPy library. These go well with the Numba library, which gave us access to the opportunity to use jit to further boost our computational efficiency.\n",
    "\n",
    "The algorithems we implemented for these purposes is presented below."
   ]
  },
  {
   "cell_type": "code",
   "execution_count": null,
   "id": "d0e2ca68",
   "metadata": {},
   "outputs": [],
   "source": [
    "@jit(nopython=True)\n",
    "def createSystemOfMonomers(N, M):\n",
    "    grid = np.zeros((N,N))                                                  #Initializing grid of size NxN with all coeffisients being zero\n",
    "\n",
    "    distinctValues = np.arange(-M, M + 1)                                   #Initializing numpay array with evry integer between -M and M\n",
    "    newDistinctValues = np.delete(distinctValues, M)                        #Deletes the element with index M, which is 0. \n",
    "    np.random.shuffle(newDistinctValues)                                    #Randomly shuffelig the distinct values of the monomer \n",
    "\n",
    "    count = 0\n",
    "\n",
    "    while count < 2 * M:                                                    #Using the random library to place monomers with distinct values one by one\n",
    "        x_value = random.randint(0, N-1)\n",
    "        y_value = random.randint(0, N-1)\n",
    "\n",
    "        if grid[y_value][x_value] == 0:\n",
    "            grid[y_value][x_value] = newDistinctValues[count]\n",
    "            count += 1\n",
    "\n",
    "    locations = np.argwhere(grid)                                           #Returns an array with the coordinates of nonzero values \n",
    "                                                                            #of all the monomers in the grid\n",
    "    return grid, locations                                              \n",
    "\n",
    "\n",
    "def checkMonomers(grid, M):                                                 #Checking if system contains 2 x M monomeres\n",
    "    nonZeroGrid = np.argwhere(grid)\n",
    "\n",
    "    numberOfMonomers = len(list(nonZeroGrid))\n",
    "\n",
    "    if numberOfMonomers == 2*M:\n",
    "        print(\"Has 2M monomers in system\")\n",
    "\n",
    "    elif numberOfMonomers < 2*M:\n",
    "        print(\"Has less than 2M monomers in system\")\n",
    "        \n",
    "    else:\n",
    "        print(\"Has more than 2M monomers in system\")\n",
    "\n",
    "\n",
    "def plotSystems(grids, info, title):\n",
    "    numPlots = len(grids)\n",
    "    a = (23.e-6)**2\n",
    "\n",
    "    titleString = list()\n",
    "    for i in range(0, numPlots):\n",
    "        n = len(grids[i])\n",
    "        titleString.append(info[0][i] + f\", N = {n}\")\n",
    "        if info[1][i] != 0:\n",
    "            titleString[i] += f\", $N_s$ = {info[1][i]}\"\n",
    "        if info[2][i] != 0:\n",
    "            titleString[i] += f\", M = {info[2][i]}\"\n",
    "        if info[3][i] != 0:\n",
    "            titleString[i] += f\", T = {info[3][i]}\"\n",
    "        if info[4][i] != 0:\n",
    "            titleString[i] += f\", L = {info[4][i]}\"\n",
    "\n",
    "    if len(grids) == 1:\n",
    "        fig, axs = plt.subplots(1,1, figsize=(8, 8))\n",
    "        axs = [axs,axs]\n",
    "    else:\n",
    "        fig, axs = plt.subplots(1,numPlots, figsize=(7*numPlots, 7))\n",
    "    fig.subplots_adjust(top=0.8, wspace=0.3)\n",
    "    fig.suptitle(title, fontsize=16)\n",
    "\n",
    "    backgroundColor = \"paleturquoise\"\n",
    "    for i in range(0,numPlots):\n",
    "        if info[5][i] == True:\n",
    "            vnorm = TwoSlopeNorm(vcenter = 0.)\n",
    "            grids[i] = np.ma.masked_where(grids[i] == 0., grids[i])\n",
    "            cmap = cm.get_cmap(\"twilight_shifted\").copy()\n",
    "            cmap.set_bad(color=backgroundColor)\n",
    "            im = axs[i].pcolormesh(grids[i][::-1], cmap=cmap, norm=vnorm)\n",
    "        elif info[6][i] == True:\n",
    "            a=91.e-6\n",
    "            vnorm = TwoSlopeNorm(vcenter = 0.)\n",
    "            grids[i] = np.ma.masked_where(grids[i] == 0., grids[i])\n",
    "            cmap = cm.get_cmap(\"PRGn\").copy()\n",
    "            cmap.set_bad(color=backgroundColor)\n",
    "            im = axs[i].pcolormesh(grids[i][::-1], cmap=cmap, norm=vnorm)\n",
    "        else:\n",
    "            cmap = colors.ListedColormap([\"purple\",backgroundColor,\"g\"])\n",
    "            im = axs[i].pcolormesh(grids[i][::-1], vmin= -1, vmax= 1, cmap=cmap)\n",
    "\n",
    "        axs[i].set_title(titleString[i])\n",
    "        axs[i].set(xlabel=f\"all units in a = {a}m\")\n",
    "    #fig.show()"
   ]
  },
  {
   "cell_type": "markdown",
   "id": "84cf299e",
   "metadata": {},
   "source": [
    "The first algorithem, createSystemOfMonomers(N, M) takes two arguments: N and M. These represent a given grid size and the amount of monomers in the system, respectively.\n",
    "The initilazation of an empty NxN grid is done by numpy.zeros([N,N]). Which creates an $N\\times N$ grid with all zeros. Furthermore it creates an array containing all of the possible values of the monomers in the system i.e. [-M, -M+1, ..., 0, ..., M-1, M]. Since the solvent is given the value 0, numpy.delete() is used to remove 0 from the array containg the distinct values of the monomers. The sign of each of the values represent the electrostatic charge of each of the given monomers.\n",
    "\n",
    "To provide a random grid of monomers the algorithem implements the numpy.random.shuffle() to make sure the distinct values will be placed arbitrarily. \n",
    "\n",
    "The implementation of a while loop in conjuction with an if statement is done to assure no monomer is placed upon another. The random.randint() built in function is used to generate random pairs of coordinates which is to be considered for the placement of a monomer. If such a pair of coordinates is allready occupied by a monomer, the if statement inside the while loop assures the generation of another such pair until a legal placement is obtained.\n",
    "\n",
    "When all of the monomers is placed in the grid, the function numpy.argwhere() is used to return an array containg the specific coordinates for the monomers in the grid. This array is sorted along the first axis.\n",
    "\n",
    "The second algorithem, checkMonomers(grid, M), utilizes argwhere to gather data on monomer positions. By checking the size of the returning array, the function can know how many monomers are placed. The functions confirmes or declines that the grid indeed contains $2M$ monomers, by printing an appropriate string. \n",
    "\n",
    "\n",
    "###Alex forklarer plote funksjonen###\n",
    "\n",
    "###Plot av en initialisert grid, med konfirmasjon av 2 * M monomerer forklare at positive verdier har en verdi, mens negative har en annen "
   ]
  },
  {
   "cell_type": "code",
   "execution_count": null,
   "id": "c9d903db",
   "metadata": {},
   "outputs": [],
   "source": [
    "N = 15\n",
    "M = 10\n",
    "\n",
    "grid, locations = createSystemOfMonomers(N, M)\n",
    "checkMonomers(grid, M)\n",
    "\n",
    "info = [[\"Initial\"],[0],[M],[0],[0],[False],[False]]\n",
    "\n",
    "plotSystems([grid], info, \"Mordi123\")"
   ]
  },
  {
   "cell_type": "markdown",
   "id": "ddb68c76",
   "metadata": {},
   "source": [
    "This will work is our physical system. Green square are monomers with positive charge and vice versa for purple. The paleturquoise will showcase solvent positions in the cell."
   ]
  },
  {
   "cell_type": "markdown",
   "id": "7d42b136",
   "metadata": {},
   "source": [
    "# 1CDE"
   ]
  },
  {
   "cell_type": "markdown",
   "id": "b2cbddb7",
   "metadata": {},
   "source": [
    "**Wind of change**\n",
    "\n",
    "\n",
    "Thus far we have initialized a matrix of numbers, which represents our system of monomers, and an convenient way to visualize the grid. The next step is to turn this system into life by implementing the described Monte Carlo simuluation with the Metropolis algorithm. Some handy functions needed be defined beforehand. "
   ]
  },
  {
   "cell_type": "code",
   "execution_count": null,
   "id": "2be77d72",
   "metadata": {},
   "outputs": [],
   "source": [
    "@jit(nopython=True)\n",
    "def findNeighbours(N, y, x):                  \n",
    "    neighbours = np.zeros((4,2))\n",
    "    \n",
    "    neighbours[0] = [int(y), int((x + 1) % N)]\n",
    "    neighbours[1] = [int(y), int((x - 1) % N)]\n",
    "    neighbours[2] = [int((y + 1) % N), int(x)]\n",
    "    neighbours[3] = [int((y - 1) % N),int(x)] \n",
    "    \n",
    "    return neighbours\n",
    "\n",
    "\n",
    "@jit(nopython=True)\n",
    "def totalEnergy(grid):\n",
    "    N = len(grid)                                     \n",
    "    energy = 0\n",
    "                                                            \n",
    "    locations = np.argwhere(grid != 0)\n",
    "\n",
    "    for i in range(len(locations)):\n",
    "        neighbours =  findNeighbours(N, locations[i][0], locations[i][1])\n",
    "        \n",
    "        for j in range(len(neighbours)):\n",
    "            \n",
    "            if grid[int(neighbours[j][0])][int(neighbours[j][1])] != 0:\n",
    "                energy += np.sign(grid[int(locations[i][0])][int(locations[i][1])] * grid[int(neighbours[j][0])][int(neighbours[j][1])])\n",
    "\n",
    "    return energy * alpha_mono / 2\n",
    "\n",
    "    \n",
    "@jit(nopython=True)\n",
    "def move_monomer_fast(grid, monomer_value, direction):\n",
    "    monomer_coordinates = np.argwhere(grid == monomer_value)[0]\n",
    "\n",
    "    N = grid.shape[0]\n",
    "    array_of_all_neighbor_coordinates = findNeighbours(N=N, y=monomer_coordinates[0],x=monomer_coordinates[1])\n",
    "    \n",
    "    desired_neigbor_coordinate = array_of_all_neighbor_coordinates[direction]\n",
    "\n",
    "    if grid[int(desired_neigbor_coordinate[0])][int(desired_neigbor_coordinate[1])] == 0:\n",
    "        grid[int(desired_neigbor_coordinate[0])][int(desired_neigbor_coordinate[1])] = monomer_value\n",
    "        grid[int(monomer_coordinates[0])][int(monomer_coordinates[1])] = 0\n",
    "\n",
    "        \n",
    "\n",
    "@jit(nopython=True)\n",
    "def MC(N_s, N, M, T, initGrid=None, initial=True):\n",
    "    if initial == True:\n",
    "        grid, locations = createSystemOfMonomers(N,M)\n",
    "    else:\n",
    "        grid = initGrid\n",
    "        locations = np.argwhere(grid)\n",
    "        \n",
    "    initialGrid = np.copy(grid)\n",
    "\n",
    "    epsilon = np.zeros(N_s)\n",
    "\n",
    "    EnergyOfState = totalEnergy(grid)\n",
    "\n",
    "    epsilon[0] = EnergyOfState\n",
    "\n",
    "    for i in range(N_s):\n",
    "        oldGrid = grid.copy()\n",
    "        \n",
    "        choosenMonomer = 0\n",
    "\n",
    "        while choosenMonomer == 0:\n",
    "            choosenMonomer = np.random.randint(-M, M - 1)\n",
    "                \n",
    "        k = np.random.randint(0,3)\n",
    "\n",
    "        move_monomer_fast(grid, choosenMonomer, k)\n",
    "\n",
    "        EnergyOfState_new = totalEnergy(grid)\n",
    "\n",
    "        if EnergyOfState_new < EnergyOfState:\n",
    "            EnergyOfState = EnergyOfState_new\n",
    "                            \n",
    "        elif random.random() < np.exp(- (1 / (Boltzmann * T)) * (EnergyOfState_new - EnergyOfState)):  \n",
    "            EnergyOfState = EnergyOfState_new\n",
    "\n",
    "        else:\n",
    "            grid = oldGrid.copy()\n",
    "                    \n",
    "        epsilon[i] = EnergyOfState\n",
    "    \n",
    "    return grid, epsilon, initialGrid\n"
   ]
  },
  {
   "cell_type": "markdown",
   "id": "f6986b8d",
   "metadata": {},
   "source": [
    "findNeighbours(N, y, x) takes in $x$ and $y$ coordinates of a $N \\times N$ grid and returns an array with the four neigbours. With the given coordinates, the function iterates through the right/left by shifting first index 1 value ([i $\\pm$ 1, j]). Similarly for up and down. To make sure indecies won't exceed the grid range, the function \"mods\" out N in index entries, making the grid index loop around in all directions. The int() inside indecies makes it compatable with Numba JiT, since it doesn't suppert floats. \n",
    "\n",
    "totalEnergy(grid) returns a scalar value representing the energy state of the given grid argument. Using argwhere(), the funciton memorizes monomer locations. Iterating through every monomer, the function find their respective negihbours by findNeighbours(). If a given neighbour is a monomer totalEnergy() find their signum value of the product of their number value in the grid. Lastly it sums all such contribution before returning. If monomers are neighbouring, both monomers will be iterated through. Both times their connection contribution are added, thus diving by $2$. Multiplication with $\\alpha$ to convert the sum to SI. \n",
    " \n",
    "\n",
    "move_monomer_fast(grid, monomer_value, direction) uses argwhere() to find position of the monomer with the given monomer_value. After finding its array of neighbours, it determine the new position of the monomer by the direction value. If that new position is unoccupied, its value updates whilst the initial position expunges. A valuable remark might be how the functions never returns any grids, It just directily updates the value.\n",
    "\n",
    "MC(N_s, N, M, T, initGrid=None, initial=True) is the funciton which executes steps in the grid. The arguments \"initGrid\" and \"initial\" are aguments given only when the Monte Carlo continues an already generated system of monomers. The if-else checks whether it shall continue or make a new system of monomers. To plot initial grid in the end, initialGrid copys the given grid argument. MC() also makes an array to keep track of the energy progression. \n",
    "\n",
    "For convenience reasons later, the function saves a copy of a grid before a move has been initiated. By randomly choosing a grid position untill the value is nonzero, the function finds a random monomer. Then randomly finding a number between $0$ and $3$ which determine a direction for the monomer. With move_monomer_fast() and totalEnergy() the function executes the move, gives an possible updated grid and calulates energy before and after. The If-elif-else chain goes thorugh the metropolis algorithm. If the move suceeds, the updated grid becomes the new grid, else the function reverts the move by setting the grid equal the copied grid. Regardless of a move beeing executed or not, the energy is extracted. MC() initiates a monomer move $N_s$ times, finally returning initial and final grid alongside energy array.\n",
    "\n",
    "np.copy(grid) and grid.copy() allocation new memory. After using the usual \"$b$ = $a$\", variables may still be dependet by some memory alocation problem. Whilst changing up $b$, $a$ might also alter in the porcess. By giving such variables completely different memory, by some copy function, one can avoid such problems."
   ]
  },
  {
   "cell_type": "markdown",
   "id": "b3be879e",
   "metadata": {},
   "source": [
    "In the Monte Carlo simulations there is a chance for monomers to advance to a higher energy state. This probability, if first step is rejected, is given by $e^{-\\frac{\\Delta E}{k_B T}}$. If the monomer where to find a move which maintains the energy level, this probability will be 1. We have included this senario in our simulations to make the system more fluid. For reasons described later in the project, it is ideal to have an active system. Fewer iterations are needed inbetween systems to make grids \"independet\". Also we want \"lonely\" monomers to have a chance to move."
   ]
  },
  {
   "cell_type": "code",
   "execution_count": null,
   "id": "9d8242e2",
   "metadata": {},
   "outputs": [],
   "source": [
    "N = 15\n",
    "M = 10\n",
    "T = 10\n",
    "N_s = 1000\n",
    "\n",
    "grid, locations = createSystemOfMonomers(N, M)\n",
    "initialGrid = grid.copy()\n",
    "move_monomer_fast(grid, 1, 0)\n",
    "\n",
    "grids = [initialGrid, grid]\n",
    "info = [[\"Initial\", \"1 step right\"],[0,0],[M,M],[0,0],[0,0],[False,False],[False,False]]\n",
    "plotSystems(grids, info, \"move_monomer_fast\")\n",
    "\n",
    "grid, epsilon, initialGrid = MC(N_s, N, M, T)\n",
    "\n",
    "grids = [initialGrid, grid]\n",
    "info = [[\"Initial\", \"final\"],[0,0],[M,M],[T,T],[0,0],[False,False],[False,False]]\n",
    "plotSystems(grids, info, \"Monte Carlo with \" + f\"{N_s} steps\")"
   ]
  },
  {
   "cell_type": "markdown",
   "id": "5b6bc193",
   "metadata": {},
   "source": [
    "The first plots ilustrate a right move in the leftmost green monomer. The latter plots showcases an intial system of monomer and the result after iterating $1000$ moves. \n",
    "\n",
    "### kanskje plotte energi ettersom den er endel av funksjone?? Pass på at vi beskriver hvilken monomer som flytter seg i den første plotten. "
   ]
  },
  {
   "cell_type": "markdown",
   "id": "ad03c23c",
   "metadata": {},
   "source": [
    "# 1F"
   ]
  },
  {
   "cell_type": "markdown",
   "id": "d3bf792b",
   "metadata": {},
   "source": [
    "Now we want to examine how our Monte Carlo algorithm tranforms random systems of monomers. We will run two different simulations with different temperatures to compare different size. We have choosen $T_1 = 200 K$ and $T_2 = 500 K$ for testing purpose even though these numbers are unatural from a biological point of view. Thorughout the course of the Monte Carlo we will keep an eye on how energy develops over time."
   ]
  },
  {
   "cell_type": "code",
   "execution_count": null,
   "id": "72386d22",
   "metadata": {},
   "outputs": [],
   "source": [
    "def plotEnergy(epsilon, title, n_s=0, m=0, t=0, l=0, comparison=False, epsilon2=0, t2=0, move=\"\", move2=\"\"):\n",
    "    t_val = np.linspace(0, len(epsilon) , len(epsilon))                         #Values for x axis\n",
    "    n = len(grid)                                                               #Length of grid\n",
    "\n",
    "    titleString = title + f\", N = {n}\"                                          #Main subplot title\n",
    "\n",
    "    if comparison == True:                                                      #Adding specific title for comparison plots\n",
    "        if t2 == 0:\n",
    "            titleString = f\"Comparison between {move} and {move2} moves\"        #Comparing different move types\n",
    "        else:\n",
    "            titleString = f\"Comparison between $T_1$ = {t} and $T_2$ = {t2}\"    #Comparing different temperatures\n",
    "    if n_s != 0:\n",
    "        titleString += f\", $N_s$ = {n_s}\"                                       #Adding N_s to subplot title\n",
    "    if m != 0:\n",
    "        titleString += f\", M = {m}\"                                             #Adding M to subplot title\n",
    "    if t != 0 and comparison == False:\n",
    "        titleString += f\", T = {t}\"                                             #Adding T to subplot title\n",
    "    if l != 0:\n",
    "        titleString += f\", L = {l}\"                                             #Adding L to subplot title\n",
    "\n",
    "    if comparison == False:                                                     #Adding E_t to subplot title if not comparing\n",
    "        label1 = f\"$E_{{{t}}}$(t)\"                                              \n",
    "    else:                                                                       \n",
    "        if t2 == 0:\n",
    "            label1 = f\"$E_{{{move}}}$(t)\"                                       #Adding E_move1 and E_move2 for comparing plots between different movements\n",
    "            label2 = f\"$E_{{{move2}}}$(t)\"\n",
    "        else:\n",
    "            label1 = f\"$E_{{{t}}}$(t)\"                                          #Adding E_t1 and E_t2 for comparing plots between different temperatures\n",
    "            label2 = f\"$E_{{{t2}}}$(t)\"\n",
    "\n",
    "    plt.figure(figsize=(12,8))                                                  #Increasing figure size\n",
    "    plt.title(titleString)                                                      #Adding main title\n",
    "    plt.plot(t_val, epsilon, \"r\", label=label1)                                 #Plotting energy development\n",
    "    if comparison == True: \n",
    "        plt.plot(temp, epsilon2, \"b\", label=label2)                             #Plotting energy development for comparing\n",
    "        plt.legend()                                                            #Adding legend to see wgho belongs to what\n",
    "    plt.xlabel(\"t\")\n",
    "    plt.ylabel(\"Joule\")\n",
    "    plt.show()"
   ]
  },
  {
   "cell_type": "markdown",
   "id": "d82a5a59",
   "metadata": {},
   "source": [
    "plotEnergy() is a fearly simple function for its sheer length. The functions creates an array with integers with the same length as epsilon. Since epsilon include the initial energy level, its length are $1$ bigger than amount of iterations. Therefore the second argument in linspace subtracts 1. The plots visulizes by utilizing some standard matplotlib.pyplot functions. "
   ]
  },
  {
   "cell_type": "markdown",
   "id": "923c6ce7",
   "metadata": {},
   "source": [
    "To make sure we are just changig $1$ parameter at the time, we will be using the same initial position for both temperatures. "
   ]
  },
  {
   "cell_type": "code",
   "execution_count": null,
   "id": "4e2fdaf8",
   "metadata": {},
   "outputs": [],
   "source": [
    "N_s =50000\n",
    "N = 15\n",
    "M = 25\n",
    "\n",
    "\n",
    "T1 = 200\n",
    "\n",
    "grid_200, epsilon_200, initialGrid_200 = MC(N_s, N, M, T1)\n",
    "grids = [initialGrid_200, grid_200]\n",
    "info = [[\"Initial\", \"Final\"],[0, N_s],[M, M],[T1, T1],[0, 0],[False, False],[False, False]]\n",
    "plotSystems(grids, info, f\"System of monomers after {N_s} steps with T = {T1}\")\n",
    "\n",
    "T2 = 500\n",
    "\n",
    "grid_500, epsilon_500, initialGrid_500 = MC(N_s, N, M, T2, initGrid = initialGrid_200, initial=False)\n",
    "grids = [initialGrid_500, grid_500]\n",
    "info = [[\"Initial\", \"Final\"],[0, N_s],[M, M],[T2, T2],[0, 0],[False, False],[False, False]]\n",
    "plotSystems(grids, info, f\"System of monomers after {N_s} steps with T = {T2}\")\n",
    "\n",
    "plotEnergy(epsilon_200, \"Energy comparison\", m=M, t=T1, comparison=True, epsilon2=epsilon_500, t2=T2)"
   ]
  },
  {
   "cell_type": "markdown",
   "id": "cb3320ef",
   "metadata": {},
   "source": [
    "Inspection of the energy plot instantly gives that the energy of system of monomers decrease when temperature falls. The final plots displays why it is the case. For lower temperature, monomers prefers to group together with their opposite charge. Green monomers want purple neighbours, making a chess board grid. For the higher temperture the grouping phenomenon still happens, but not as frequent nor big.\n",
    "\n",
    "These are a direct consequence of the metropolis algorithm. In a scalding enviroment monomers are more exposed to thermal fluxuation. In our model, the probability of a monomer moving to a higher energy state is given by $P(A)=e^{-\\frac{\\Delta E}{k_B T}}$ (If it didn't move to a lower state). Larger values of $T$ makes an total energy increase more likely. Moreover, in a freezing enviroment a increase in total energy is quite rare. We expect that higher temperatures will fluxuate around a higher energy level, which is illustrated in our plots.\n",
    "\n",
    "One can also observe that $t_{equil}$ is massive for small temperatures. An explaination might be that system with low temperatures are bearly active. The chances to increase system energy are slim whilst temperature is meager, thus the system may get stuck in a local minimum. To circumvent such behaviors, a lucky sequence of fluxuation may be neccessary to proceed. However, such chains are few and far between, indicating an enormous amount of iterations required to acchive equilibrium.\n",
    "\n",
    "An important remark is how energy for higher temperatures showcases more frenzy, supporting the fact that such systems are highly active. Even though the energy occilates around a mean, its \"amplitide\" is quick large. \n",
    "\n",
    "In our plot, the energy for the system of monomers in the freezing enviroment has a decreasing trend all the way, indicating that it yet has to reach its equilibrium. This supports our theory that lower temperatures need alot of iterations. In the scalding enviroment the energy seems to start to fluxuate around a stable value quickly. Already $6000$ iterations in the energy occilates. \n",
    "\n",
    "A possible explaination is a combination of the high equilibrium energy and that higher temperature have an larger \"interval of equilibrium\". In some sense the initial grid start within the equilibrium range. Thus needing few moves to reach it. "
   ]
  },
  {
   "cell_type": "markdown",
   "id": "a6240add",
   "metadata": {},
   "source": [
    "# 1G"
   ]
  },
  {
   "cell_type": "markdown",
   "id": "8d484bf9",
   "metadata": {},
   "source": [
    "The last plots showcased some kind of grouping of monomers, now we want to study it further. Thus far it seems as though lower temperatures gives huge clusters of monomers. To verify our hypothesis we will try finding a how clustering changing with temperature. First we need to implement some functions. "
   ]
  },
  {
   "cell_type": "code",
   "execution_count": null,
   "id": "2bd6bd6c",
   "metadata": {},
   "outputs": [],
   "source": [
    "@jit(nopython=True)\n",
    "def cluster(clusterGrid, N, k):\n",
    "    clusterGrid = clusterGrid.copy()\n",
    "    #clusterGrid = clusterGrid.astype(np.int64)\n",
    "    locationsOfMonomers = np.argwhere(clusterGrid)\n",
    "    \n",
    "    if k < len(locationsOfMonomers):\n",
    "        neighborsOfK = findNeighbours(N, locationsOfMonomers[k][0], locationsOfMonomers[k][1]).astype(np.int64)\n",
    "        \n",
    "        for element in neighborsOfK:\n",
    "            for i in range(len(locationsOfMonomers)):\n",
    "                if np.array_equal(locationsOfMonomers[i], element):\n",
    "                    clusterGrid = np.where(int(clusterGrid[int(element[0])][int(element[1])]) != clusterGrid, clusterGrid, clusterGrid[int(locationsOfMonomers[k][0])][int(locationsOfMonomers[k][1])])\n",
    "\n",
    "        return cluster(clusterGrid, N, k + 1)\n",
    "    \n",
    "    for i in range(-M, M):\n",
    "        if i != 0:\n",
    "            clusterGrid  = np.where(i != clusterGrid, clusterGrid, M + 10 * i)\n",
    "\n",
    "    clusterNumbers = np.unique(clusterGrid)\n",
    "    numberOfClusters = len(clusterNumbers) - 1\n",
    "\n",
    "    sizes = np.zeros(numberOfClusters + 1)\n",
    "    for i in range(len(clusterNumbers)):\n",
    "        for location in locationsOfMonomers:\n",
    "            if int(clusterGrid[int(location[0])][int(location[1])]) == int(clusterNumbers[i]):\n",
    "                sizes[i] += 1\n",
    "\n",
    "    return clusterGrid, numberOfClusters, sizes"
   ]
  },
  {
   "cell_type": "markdown",
   "id": "f4827023",
   "metadata": {},
   "source": [
    "Cluster(clusterGrid, N, k) is a recursive functon, taking three arguments, the grid we want to modify, the grid size N and k, the number of recursive steps in which the function already has preformed.\n",
    "\n",
    "Every recursive step begins with the copying of the grid created by the last recursive step. Furthermore numpy.argwhere() is used to create a 2D array of the coordinates of the given monomers in the grid.\n",
    "\n",
    "The if-statement k < len(locationsOfMonomers), assures that the ammount of recursive steps done is no more than the amount of monomers in the grid. Whilst this assumption holds the function creats an array of the four nearest neighbours of the k-th monomer in the system. For each of these neighbouring locations it checks whether or not the location is already occupied by a monomer, by use of the numpy.array_equal() functon. If one of these neighbouring positions is allready occupied by a monomer, every monomer with the same specific value needs to be assigned the value of the k-th monomer. This is accomplished by numpy.where() which takes a specific value as input and changes each occurrence of this value into a new one.  \n",
    "\n",
    "This modified grid is then used as an argument when the function is run anew, this time with k = k + 1.\n",
    "\n",
    "When all of the recursive steps are run. The grid needs to be modified such that each cluster is assigend a unique positive value. This is done by a the use of a for-loop in conjuncion with np.where(). The if-statement is used to ensure the algorithem does not change the value of the solvent.\n",
    "\n",
    "np.unique(clusterGrid) returns an array containing each unique value in the grid. The value of the solvent, i.e zero, is also represented in this array. Therefore the amount of clusters in the grid can be obtained by reducing the length of this array by one, i.e len(clusterNumbers) - 1.\n",
    "\n",
    "For practical purposes the function should return an array containg the size of each of the clusters. To create this array the algorithem initiates an array of zeros with the same lenght as the array created by the np.unique() function. Furthermore the function runs through every value in the array containing the cluster numbers. For each of these values the algorithem checks whether or not each of the monomers in the grid is assigned the given cluster number. For every monomers which is assigned the cluster number of interest, the array containing the sizes is updated. The element in the array which is supposed to represent the amount of zeros in the grid will be set to zero since none of these coordinates is represented in the array containg the positions of monomers."
   ]
  },
  {
   "cell_type": "code",
   "execution_count": null,
   "id": "674b0081",
   "metadata": {},
   "outputs": [],
   "source": [
    "clusterGrid_200, numberOfClusters_200, clusterSizes_200 = cluster(grid_200, 15, 0)\n",
    "grids = [grid_200, clusterGrid_200]\n",
    "info = [[\"Initial\", \"Cluster grid\"],[0, N_s],[M, M],[T, T],[0, 0],[False, True],[False, False]]\n",
    "plotSystems(grids, info, f\"System after clustering after {N_s} steps with T = {T}\")\n",
    "\n",
    "\n",
    "clusterGrid_500, numberOfClusters_500, clusterSizes_500 = cluster(grid_500, 15, 0)\n",
    "grids = [grid_500, clusterGrid_500]\n",
    "info = [[\"Initial\", \"Cluster grid\"],[0, N_s],[M, M],[T2, T2],[0, 0],[False, True],[False, False]]\n",
    "plotSystems(grids, info, f\"System after clustering after {N_s} steps with T = {T2}\")"
   ]
  },
  {
   "cell_type": "markdown",
   "id": "aa667291",
   "metadata": {},
   "source": [
    "The above plots shows the formations of aggregats after our first MC-simulations. The plots indicated some close relationship between amount of clusters and temperature. Thus far it seems as though lower temperatures gives bigger and few clusters and vice verse for higher temperatures. To further pursue this correlation we will implement a function which runs multiple consecutive simulations for different tempertures. After reaching equilibrium we will gather information about clustersizes. \n",
    "\n",
    "\n",
    "Since there were too many unknown variables, we were unable to find $\\langle d \\rangle$ analytic. Through our simulations we found some empiric values to give an estimate for the expected value. We consider multiple estimators and found that mean of mean to be our best estimator. We will include some rigorous calculations to justify our choice of estimator. \n",
    "\n",
    "Both mean ($\\hat \\mu$) and double mean ($\\tilde \\mu$) are unbiased estimators of the expected value.\n",
    "$$\n",
    "\\begin{align*}\n",
    "E[\\hat \\mu] &= E \\bigg[ \\frac{1}{n} \\sum_{i=1}^n x_i \\bigg] = \\frac{1}{n} \\sum_{i=1}^n E[x_i] = \\frac{1}{n} \\sum_{i=1}^n \\mu = \\mu \\\\\n",
    "E[\\tilde \\mu] &= E \\bigg[ \\frac{1}{n} \\sum_{i=1}^{n} \\frac{1}{m_i} \\sum_{j=1}^{m_i} x_j \\bigg] = \\frac{1}{n}  \\sum_{i=1}^{n} \\frac{1}{m_i} \\sum_{j=1}^{m_i} E[x_j] = \\frac{1}{n} \\sum_{i=1}^{n} \\frac{m_i}{m_i}\\mu = \\frac{n}{n} \\mu = \\mu \\\\\n",
    "\\end{align*}\n",
    "$$\n",
    "however, the variance of the double mean ilustrates that the estimator gives a more precise estimate. \n",
    "\n",
    "$$\n",
    "\\begin{align*}\n",
    "Var[\\hat \\mu] &= Var \\bigg[ \\frac{1}{n} \\sum_{i=1}^{n} x_i \\bigg] = \\frac{1}{n^{2}} \\sum_{i=1}^{n} Var[x_i] = \\frac{1}{n^{2}} \\sum_{i=1}^{n} \\sigma^{2} = \\frac{\\sigma^{2}}{n} \\\\\n",
    "Var[\\tilde \\mu] &= Var \\bigg[ \\frac{1}{n} \\sum_{i=1}^{n} \\frac{1}{m_i} \\sum_{j=1}^{m_i} x_j \\bigg] = \\frac{1}{n^2}  \\sum_{i=1}^{n} \\frac{1}{m_i^2} \\sum_{j=1}^{m_i} Var[x_j] = \\frac{1}{n^2} \\sum_{i=1}^{n} \\frac{1}{m_i}\\sigma^2 = \\frac{\\sigma^2}{n^2} \\big(\\frac{1}{m_1} + \\frac{1}{m_2} + ... \\frac{1}{m_n}\\big) \\leq^{*} \\frac{\\sigma^2}{n} \\\\\n",
    "\\end{align*}\n",
    "$$\n",
    "and our claim follows\n",
    "\n",
    "Throughout the proof, we have assumed independency of the random variables. In * every fraction $\\frac{1}{m_i} \\leq 1$, since $m_i \\in \\mathbb{N}$. Therefore, the sum of $n$ such quotions must be smaller or equal to $n$. In practice, for reasonable temperatures, the system prefers mulitple clusters, meaning there is a considerable differance in variance.\n",
    "\n",
    "\n",
    "To study how monomers behave after the system fluzuate around it's equilibrium, we need som kind of way to determine when a system has reached its state of stability. Our optimistic procedure will be to predict a reasonable number of iterations are neccessary for a given a temperature. By assignment\n",
    "\n",
    "$$t_{equil}(T) = t_{max} e^{-s(T-T_l)} + C, \\quad \\textrm{for } T \\in [100, 1000]$$\n",
    "\n",
    "Where $s = \\frac{1}{200}$, $t_{max} = 100000$, $C = 10000$, $T_l = 100 K$\n",
    "\n",
    "After reaching the equilibrium we will iterate $t_r = 1000$ times inbetween each sample. By assignment, $1000$ iterations will be large enough to assume grids independet. We will be choosing $n=385$, giving us a large sample space. \n",
    "\n",
    "A common formula for finding sample size (SS) for infinite sample spaces is given by $$SS = \\frac{Z^2 p(p-1)}{M^2}$$, where $Z$ represents the score of the confidence level, $M$ is margin of error and $p$ is the population proportion. Since we have no idea what the $p$ is we will just assume it be $0.5$ since it gives the largest value. Plugging in $Z = 1.96$ which is the confidence score for $95$% and $M = 0.5$ gives that the sample space should be $384.16$ and our choice of $n$ follows. \n",
    "\n",
    "\n",
    "We are well awere that this model holds some disadvantages. After a spesific number of iteration, there is never a warranty that equilibrium is reached. Some initial grid may need alot more iteraions to get ready. Such systems gives \"early samples\" which may skew our results.\n",
    "\n",
    "\n",
    "Our algorithem is presented below."
   ]
  },
  {
   "cell_type": "markdown",
   "id": "527cd08b",
   "metadata": {},
   "source": [
    "# 1H"
   ]
  },
  {
   "cell_type": "code",
   "execution_count": null,
   "id": "d6e395b7",
   "metadata": {},
   "outputs": [],
   "source": [
    "from statistics import mean\n",
    "\n",
    "t_max = 100000\n",
    "s = 1/200\n",
    "C = 10000\n",
    "\n",
    "def t_equili(T, T_l):\n",
    "    return int(t_max * np.exp(- s * (T - T_l)) + C)\n",
    "\n",
    "def meanSize(N, M, T0, T1, n):\n",
    "    t_r = 1000\n",
    "    T = np.linspace(T0, T1, 10)\n",
    "    meanSize_t = list()\n",
    "    meanSTD_t = list() \n",
    "    diff_t = list()\n",
    "\n",
    "    for t in T:\n",
    "        t_eq = t_equili(t, T0)\n",
    "        N_s = t_eq + t_r * n\n",
    "        print(t_eq)\n",
    "\n",
    "        grid_eq, epsilon_eq, initialGrid = MC(t_eq, N, M, t)\n",
    "\n",
    "        grid_i = grid_eq\n",
    "        meanSize_i = list()\n",
    "        for i in range(n):\n",
    "            grid_i, epsilon_i, initialGrid = MC(t_r, N, M, t, initGrid=grid_i, initial=False)\n",
    "\n",
    "            grid_i = copy.copy(grid_i)\n",
    "            \n",
    "            clusterGrid, numberOfClusters, sizes = cluster(grid_i, N, 0)\n",
    "\n",
    "            meanSize_i.append(sum(sizes)/numberOfClusters)\n",
    "        diff_t.append(np.amax(meanSize_i) - mean(meanSize_i))\n",
    "        meanSTD_t.append(np.std(meanSize_i))\n",
    "        meanSize_t.append(mean(meanSize_i))\n",
    "\n",
    "    return T, meanSize_t, meanSTD_t, diff_t"
   ]
  },
  {
   "cell_type": "markdown",
   "id": "ec0ec1e4",
   "metadata": {},
   "source": [
    "$t_{equil}(T, T_l)$ takes two arguments, the given temperature we want to consider, $T$, and the lowest temperature we consider in our sample, $T_l$. The resulting value is the amount of time steps needed to reach equlibrium, considering our above model.\n",
    "\n",
    "The function meanSize(N, M, T0, T1, n) takes five arguments, the grid size, $N$, the amount of monomers in the system, $M$, the lowest and highest temperatures we want to consider, T0 and T1, respectivly, and $n$, the amount of meassurments we want to do while considering a given temperature.\n",
    "\n",
    "The function starts of defining $t_r$, the amount of MC steps required for two grids to be considered independent. Further the function creates an array of ten evenly spaced temperatures between the T0 and T1. This is done by using numpy.linspace() function. From here, the algorithem initiates an empty list which consecuently is to be updated with estimates of the expected cluster size for the given temperatures.\n",
    "\n",
    "A for-loop is used to run through each of the temperatures that is to be considered. For each of these temperatures t_equili is used to return the amount of Monte Carlo steps required to reach equilibrium for the given temperature. Furthermore the MC algorithem is used to initiate a grid and runs a simulation until the system reaches equilibrium.\n",
    "\n",
    "From here we implement our double mean estimator by initiating an empty list which in the end will contain the mean cluster size for each of the grids we meassure for a given temperature. \n",
    "\n",
    "To make n measurments a for-loop is used. For every computation the algorithem run t_r MC-steps on the grid that was lastly modefied. Further it uses the cluster algorithem to return the number of clusters in the grid and the size of these clusters. From here the function computes the mean of the array containg the cluster sizes. Since the array containing sizes contains an additional zero, the mean can be computed using the built in sum() function and further deviding this sum by the amount of clusters in the grid. This value is appended to the list containing the mean cluster sizes for the given temperatur. When n such values is appended to the list. The function mean() is used to calculate the mean of the n meassurments done for each temperature. This mean value is appended to the list containg our estimate for the expected cluster size. When this is done for every temperature, the list containg every estimate is returned."
   ]
  },
  {
   "cell_type": "code",
   "execution_count": 1,
   "id": "b1c0ed34",
   "metadata": {},
   "outputs": [
    {
     "ename": "NameError",
     "evalue": "name 'meanSize' is not defined",
     "output_type": "error",
     "traceback": [
      "\u001b[0;31m---------------------------------------------------------------------------\u001b[0m",
      "\u001b[0;31mNameError\u001b[0m                                 Traceback (most recent call last)",
      "\u001b[0;32m<ipython-input-1-1ee60942698b>\u001b[0m in \u001b[0;36m<module>\u001b[0;34m\u001b[0m\n\u001b[1;32m     23\u001b[0m \u001b[0mT1\u001b[0m \u001b[0;34m=\u001b[0m \u001b[0;36m1000\u001b[0m\u001b[0;34m\u001b[0m\u001b[0m\n\u001b[1;32m     24\u001b[0m \u001b[0;34m\u001b[0m\u001b[0m\n\u001b[0;32m---> 25\u001b[0;31m \u001b[0mT\u001b[0m\u001b[0;34m,\u001b[0m \u001b[0md\u001b[0m\u001b[0;34m,\u001b[0m \u001b[0mstd\u001b[0m\u001b[0;34m,\u001b[0m \u001b[0mdiff\u001b[0m \u001b[0;34m=\u001b[0m \u001b[0mmeanSize\u001b[0m\u001b[0;34m(\u001b[0m\u001b[0mN\u001b[0m\u001b[0;34m,\u001b[0m \u001b[0mM\u001b[0m\u001b[0;34m,\u001b[0m \u001b[0mT0\u001b[0m\u001b[0;34m,\u001b[0m \u001b[0mT1\u001b[0m\u001b[0;34m,\u001b[0m \u001b[0mn\u001b[0m\u001b[0;34m)\u001b[0m\u001b[0;34m\u001b[0m\u001b[0m\n\u001b[0m\u001b[1;32m     26\u001b[0m \u001b[0mT_2\u001b[0m\u001b[0;34m,\u001b[0m \u001b[0md_2\u001b[0m\u001b[0;34m,\u001b[0m \u001b[0mstd_2\u001b[0m\u001b[0;34m,\u001b[0m \u001b[0mdiff_2\u001b[0m \u001b[0;34m=\u001b[0m \u001b[0mmeanSize\u001b[0m\u001b[0;34m(\u001b[0m\u001b[0mN\u001b[0m\u001b[0;34m,\u001b[0m \u001b[0mM\u001b[0m\u001b[0;34m,\u001b[0m \u001b[0mT0_2\u001b[0m\u001b[0;34m,\u001b[0m \u001b[0mT1_2\u001b[0m\u001b[0;34m,\u001b[0m \u001b[0mn_2\u001b[0m\u001b[0;34m)\u001b[0m\u001b[0;34m\u001b[0m\u001b[0m\n\u001b[1;32m     27\u001b[0m \u001b[0;34m\u001b[0m\u001b[0m\n",
      "\u001b[0;31mNameError\u001b[0m: name 'meanSize' is not defined"
     ]
    }
   ],
   "source": [
    "\n",
    "def compareMeanSize(d1, d2, t0, t1, m=0):                            \n",
    "    t_val = np.linspace(t0, t1, 10)\n",
    "    n = len(grid)\n",
    "\n",
    "    titleString = \"Comparison between $\\langled_1\\rangle$ and $\\langled_2\\rangle$\" + f\", N = {n}, $T_0$ = {t0}, $T_1$ = {t1}\"\n",
    "    \n",
    "    if m != 0:\n",
    "        titleString += f\", M = {m}\"\n",
    "    \n",
    "    plt.figure(figsize=(12,8))\n",
    "    plt.title(titleString)\n",
    "    plt.plot(t_val, d1, \"r\", label=f\"$\\langled_1\\rangle$\")\n",
    "    plt.plot(t_val, d2, \"b\", label=f\"$\\langled_2\\rangle$\")\n",
    "    plt.legend()\n",
    "    plt.xlabel(\"T\")\n",
    "    plt.ylabel(\"d\")\n",
    "    plt.show()\n",
    "\n",
    "n = 385\n",
    "N = 15\n",
    "M = 25\n",
    "T0 = 100\n",
    "T1 = 1000\n",
    "\n",
    "T, d, std, diff = meanSize(N, M, T0, T1, n)\n",
    "T_2, d_2, std_2, diff_2 = meanSize(N, M, T0_2, T1_2, n_2)\n",
    "\n",
    "compareMeanSize(d, d_2, T0, T1, m=M)\n",
    "#plt.title(r\"$\\langle{d}\\rangle$ after $t_{equil}$,\"+f\" with {n} samples between $T_0$={T0} and $T_1$={T1}\")\n",
    "\n",
    "compareMeanSize(std, std_2, T0, T1, m=M)\n",
    "#plt.title(r\"Standard deviation of $\\langle{d}\\rangle$ as function of temperature\")\n",
    "   \n",
    "compareMeanSize(diff, diff_2, T0, T1_2, m=M)\n",
    "#plt.title(r\"Difference between mean and most extreme value as function of temperature\")\n"
   ]
  },
  {
   "cell_type": "markdown",
   "id": "cd1c20c2",
   "metadata": {},
   "source": [
    "From our plots indicates that our intiuation were true, giving a monotonic decrease with cluster size with respect to temperature. As we have seen before, freezing enviroments will fluxuate around a low energy state. Opposite neighbour charges gives the highest negativ energy contribution, meaning monomers is merged together like a chess board grid. Such systems will only have a few such blobes, meaning the cluster sizes will be enormous. Our graphs illustraed our presumption quite well. \n",
    "\n",
    "\n",
    "\n",
    "Whilst we only present a single final plot, the graph structure is consistent. By empiric results and by the calculation we did earlier we will deem our $n$ representative. "
   ]
  },
  {
   "cell_type": "markdown",
   "id": "5856e7dc",
   "metadata": {},
   "source": [
    "\n",
    "**Discrepancy of low temperatures**\n",
    "\n",
    "As earlier mentiond, initial grids are very important. need to reach equilibrium. "
   ]
  },
  {
   "cell_type": "markdown",
   "id": "a6c99479",
   "metadata": {},
   "source": [
    "**Sicke ord**\n",
    "\n",
    "Chaos\n",
    "inconsistency\n",
    "simultaneously"
   ]
  },
  {
   "cell_type": "markdown",
   "id": "0950c231",
   "metadata": {},
   "source": [
    "**Scrap**"
   ]
  },
  {
   "cell_type": "markdown",
   "id": "7601ab83",
   "metadata": {},
   "source": [
    "1F\n",
    "The following plots presents the results of our first Monte Carlo simulations. We ran two simulations each for a different temperature, T_1 = 200 K and T_2 = 500 K. The purpose of the simulations were to compare how the energy of a system behaves as a function of time for the different temperatures. Furthermore we used the same initial grid for both simulations to create a better basis for comparison. The numerical values for the different parameters of the metropolis algorithem is listed in the cell below."
   ]
  },
  {
   "cell_type": "markdown",
   "id": "59c521b2",
   "metadata": {},
   "source": [
    "1f\n",
    "From the above plots we can derive by visual consideration the amount of Monte Carlo steps needed to reach equilibrium for each of the given temperatures. For T_1 = 200 K t_equili seems to be around 20 000 MC-steps, whilst considering T_2 = 500 K t_equili is about 2 000 MC-steps. \n",
    "\n",
    "These observations can be explaiend by..."
   ]
  },
  {
   "cell_type": "markdown",
   "id": "f44609ac",
   "metadata": {},
   "source": [
    "1g)\n",
    "The practicale implementation of the law of conservation of energy is the formation of aggregates in the system, that is, the clustering of monomers*. To reduce the overall energy of the system, monomers of opposite charges go together to create structures where there are as few equaly charged monomers side by side as possible. In our first large scale Monte Carlo simulation we want to observe how the mean cluster size behave as a function of temperature.\n",
    "\n",
    "To execute these simulations we needed an efficient algorithem to create a grid where every monomer in the same cluster is represented by the same positive integer. This function is presented below.\n",
    "\n",
    "e wanted to meassure the mean cluster size of systems for different temperatures, after equilibrium is obtained n times. For larger temperatures the amount of time steps required to reach equilibrium is severilly reduced compared to smaller temperatures."
   ]
  },
  {
   "cell_type": "markdown",
   "id": "4918a1f7",
   "metadata": {},
   "source": [
    "Now we want to run 10 consecutive simluations with different temperatures to find cluster size as a function of temperature."
   ]
  },
  {
   "cell_type": "markdown",
   "id": "2ae91152",
   "metadata": {},
   "source": [
    "**Plotting $\\langle d\\rangle$**\n",
    "\n",
    "As we have discused before, a freezing enviroment will fluxuate around a low energy state. Opposite neighbour charges gives the highest negativ energy contribution, meaning monomers is merged together like a chess board grid. Such systems will only have a few such blobes, meaning the cluster sizes will be enermous.\n",
    "\n",
    "We are expecting a mononotic decrease in $\\langle d \\rangle$ since higher temperatures will make monomers deviante from the grid. Our graphs illustraed our presumption quite well. However, in our plots, there might be a little dent. Our suspicion is that systemes are not independent enough after $t_r=1000$. A \"bad\" system of monomers, where say every monomer are grouped together, might give 10 equally skewed samples, making a dent in our graph"
   ]
  }
 ],
 "metadata": {
  "kernelspec": {
   "display_name": "Python 3",
   "language": "python",
   "name": "python3"
  },
  "language_info": {
   "codemirror_mode": {
    "name": "ipython",
    "version": 3
   },
   "file_extension": ".py",
   "mimetype": "text/x-python",
   "name": "python",
   "nbconvert_exporter": "python",
   "pygments_lexer": "ipython3",
   "version": "3.6.6+"
  }
 },
 "nbformat": 4,
 "nbformat_minor": 5
}
