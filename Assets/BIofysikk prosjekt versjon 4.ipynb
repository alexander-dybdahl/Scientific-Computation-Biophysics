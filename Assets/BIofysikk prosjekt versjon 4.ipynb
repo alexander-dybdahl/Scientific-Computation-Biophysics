{
 "cells": [
  {
   "cell_type": "code",
   "execution_count": null,
   "id": "55e394ac",
   "metadata": {},
   "outputs": [],
   "source": []
  },
  {
   "cell_type": "markdown",
   "id": "da6cebc2",
   "metadata": {},
   "source": [
    "# **HØVDING VITBER**"
   ]
  },
  {
   "cell_type": "markdown",
   "id": "24a55fc8",
   "metadata": {},
   "source": [
    "**Abstract**\n",
    "\n",
    "In this project we will utilize several numerical tools to study formations of membrane-less organells. We will be using some simple Monte Carlo simulations to illustrate how systemes of monomers and polymers will gradually develope over time. Our MC simulations will be following some basic physical principle to ensure a realistic model. We will also visualize the process to showcase different phenomenon, such as how monomers might consolidate into huge clusters and how polymers might adept their shape to best fit their enviromet. Thourghout the project we will also observe how energy will evolve and eventually oscillate around a equilibrium."
   ]
  },
  {
   "cell_type": "markdown",
   "id": "fbf82b56",
   "metadata": {},
   "source": [
    "**Describing the system**\n",
    "\n",
    "In our system we will simplify a plane to a 2-dimensional grid, meaning positions will be quantified. In these discrete system our meassure of distance and interaction inbetween monomers will also be simplified. If monomers are not neighbouring, they won't effect eachother. Even though there will be some kind of electrical force pulling and pushing monomers around, we will neglact this behavior. Moreover, our grid will be a relaitvly small representation of the entire cell. To ensure some realistic behavior \"outside\" the grid, we will assume the grid periodic. In practice this means our grid takes place on a geometric torus, looping around in all directions. Our unit step length will be $a = (23 \\cdot 10^{-6})^2 m$ and $a = (91 \\cdot 10^{-6})^2 m$ in the monomer and polymer case respectivly.\n",
    "\n",
    "When calculating energy, we will be using the usual superposition of electric potential. We will be looking at every potensial contribution seperatly and sum up to calculate the energy of the system. \n",
    "\n",
    "$$E = \\sum_{i,j} V_{ij} \\quad \\quad V_{ij} = \\frac{1}{4 \\pi \\varepsilon} \\frac{q_i q_j}{|r_i - r_j|} $$\n",
    "\n",
    "Since charge is quantified with the elementary charge we have\n",
    "\n",
    "$$ q_i = w_i e, \\quad w_i \\in \\mathbb{Z} $$\n",
    "\n",
    "Which yields\n",
    "\n",
    "$$V_{ij} = w_i w_j \\frac{1}{4 \\pi \\varepsilon_0 \\varepsilon_r} \\frac{e^2}{|r_i - r_j|} = w_i w_j \\frac{e^2}{4 \\pi \\varepsilon_0 \\varepsilon_r a} \\frac{a}{|r_i - r_j|}$$\n",
    "\n",
    "Choosing \n",
    "\n",
    "$$\\alpha = \\frac{e^2}{4 \\pi \\varepsilon_0 \\varepsilon_r a}$$ \n",
    "\n",
    "\n",
    "Due to that fact that only neighbours affect eachother, their distance $r = |r_i -r_j|$ will always be the unit length, namely $a$. Concluding \n",
    "\n",
    "$$\n",
    "V_{ij} = \\begin{cases}\n",
    "             w_i w_j \\alpha  & \\text{if NN} \\\\\n",
    "             0  & \\text{else }\n",
    "          \\end{cases}\n",
    "$$\n",
    "\n",
    "For the system of monomers, charge value is been limited to $\\pm 1$, and $w_i$ integer,  meaning energy will be given in quantified with $\\alpha$.\n",
    "\n",
    "$$E = z\\alpha, \\quad z\\in\\mathbb{Z}$$"
   ]
  },
  {
   "cell_type": "markdown",
   "id": "fe07b9ec",
   "metadata": {},
   "source": [
    "**Physical priciples of our system**\n",
    "\n",
    "To illustarte our system, we will be using the Metropolis algorithm. First we need to attempt a legal move. The law of conservation of energy will ensure that the system energy will diminish or stabilize. Thus, the first step will take meassures before and after, $E_0$ and $E_n$, to verify that the energy level of the successive system has declined. If the process succeeds, the move will be initiated. Although we want a converging system we will occasionally allow a \"deviation\". If a move failes the first step there will be a slim chance for the move to occur. The probability will be $e^{-\\frac{\\Delta E}{k_B T}}$. Thus we have a increasing and decreaising contribution which eventually converges. For higher temperature, thermal fluxuation is more probable."
   ]
  },
  {
   "cell_type": "markdown",
   "id": "ddcc2a1b",
   "metadata": {},
   "source": [
    "**Energy of polymers**\n",
    "\n",
    "Polymers will operate as single organisms. While caluclating energy for polymer, we will be using the same model for energy contribution between monomers which neighbour a monomer from another polymer. Monomers within the same polymer will play no part our energy calculation."
   ]
  },
  {
   "cell_type": "markdown",
   "id": "132abb03",
   "metadata": {},
   "source": [
    "**Dividing by 2**\n",
    "\n",
    "When we iterate though every monomer to check neighbours, we check every connection twice. While calcluating the energy contributuion in every bond we are iterating through both monomers in a bond. Since we both times are adding to our sum of energy we are counting every thing twice, thus diving by $2$."
   ]
  },
  {
   "cell_type": "markdown",
   "id": "b3be879e",
   "metadata": {},
   "source": [
    "**Higher energy state**\n",
    "\n",
    "In both Monte Carlo simulations there is a cahnce for monomers and polymer to advance to a higher energy state. This probability, if first if is rejected, is given by $e^{-\\frac{\\Delta E}{k_B T}}$. If the monomer where to find a move which maintains the energy level, this probability will be 1. We have included this senario in our simulations to make the system more fluid. For reasons described later in the project, it is ideal to have a active system. Fewer iterations are needed inbetween systems(?) to make grids \"independet\". "
   ]
  },
  {
   "cell_type": "markdown",
   "id": "9d1b31cc",
   "metadata": {},
   "source": [
    "**Initializing grid**\n",
    "\n",
    "Vet ikke hvor mye vi trenger å forklare for disse spesifikt...\n",
    "\n",
    "We start by my making a 2D array of zeros, and making a list of values between $[-M,M]$ excluding $0$, which we shuffle. From the random library we are taking 20 random coordinates. \n",
    "\n"
   ]
  },
  {
   "cell_type": "markdown",
   "id": "39ba36b1",
   "metadata": {},
   "source": [
    "**CreateSystemOfPolymers**\n",
    "\n",
    "When considering our code, there is a slight probability that createSystemOfPolymers() will run indefinitely. Big clusters of polymers may cage in sectors such that new polymers lack spaces to fully forge. Our while-lopp will always try to find a legal space to expand. However, if there are none, this loop will continue forever. This is a minor flaw that we are aware of. Thus far, it has caused close to no problem. If $M,L$ were relatively large compared to $N$, this would be a serious concern. However, our initial values have proven compatible with our code."
   ]
  },
  {
   "cell_type": "markdown",
   "id": "5c8aece6",
   "metadata": {},
   "source": [
    "**Randomness of creating polymers**\n",
    "\n",
    "When initilizing a system of polymers, we considered two diffrent ways to randomize its positions.\n",
    "\n",
    "Say a polymer where to make an L-shaped during initializing. Some legal spaces will be neighbouring multiple monomers. Some might say it is more natural that this space have higher chance to convert to a monomer. However in our model, we have decided to filtrate the list by removing duplicates, meaning every legal space has an equal chance. The other model is just a quick fix away. We have marked what code needs to be removed to introduce the other randomness."
   ]
  },
  {
   "cell_type": "markdown",
   "id": "58a57468",
   "metadata": {},
   "source": [
    "**Estimator**\n",
    "\n",
    "Since there were too many unknown variables, we were unable to find $\\langle d \\rangle$ analytic. Through our simulations we found some empiric values to give an estimate for the expected value. We consider multiple estimators and found that mean of mean to be our best estimator. We will include some rigorous calculations to justify our choice of estimator. \n",
    "\n",
    "Both mean ($\\hat \\mu$) and double mean ($\\tilde \\mu$) are unbiased estimators of the expected value.\n",
    "$$\n",
    "\\begin{align*}\n",
    "E[\\hat \\mu] &= E \\bigg[ \\frac{1}{n} \\sum_{i=1}^n x_i \\bigg] = \\frac{1}{n} \\sum_{i=1}^n E[x_i] = \\frac{1}{n} \\sum_{i=1}^n \\mu = \\mu \\\\\n",
    "E[\\tilde \\mu] &= E \\bigg[ \\frac{1}{n} \\sum_{i=1}^{n} \\frac{1}{m_i} \\sum_{j=1}^{m_i} x_j \\bigg] = \\frac{1}{n}  \\sum_{i=1}^{n} \\frac{1}{m_i} \\sum_{j=1}^{m_i} E[x_j] = \\frac{1}{n} \\sum_{i=1}^{n} \\frac{m_i}{m_i}\\mu = \\frac{n}{n} \\mu = \\mu \\\\\n",
    "\\end{align*}\n",
    "$$\n",
    "however, the variance of the double mean ilustrates that the estimator gives a more precise estimate. \n",
    "\n",
    "$$\n",
    "\\begin{align*}\n",
    "Var[\\hat \\mu] &= Var \\bigg[ \\frac{1}{n} \\sum_{i=1}^{n} x_i \\bigg] = \\frac{1}{n^{2}} \\sum_{i=1}^{n} Var[x_i] = \\frac{1}{n^{2}} \\sum_{i=1}^{n} \\sigma^{2} = \\frac{\\sigma^{2}}{n} \\\\\n",
    "Var[\\tilde \\mu] &= Var \\bigg[ \\frac{1}{n} \\sum_{i=1}^{n} \\frac{1}{m_i} \\sum_{j=1}^{m_i} x_j \\bigg] = \\frac{1}{n^2}  \\sum_{i=1}^{n} \\frac{1}{m_i^2} \\sum_{j=1}^{m_i} Var[x_j] = \\frac{1}{n^2} \\sum_{i=1}^{n} \\frac{1}{m_i}\\sigma^2 = \\frac{\\sigma^2}{n^2} \\big(\\frac{1}{m_1} + \\frac{1}{m_2} + ... \\frac{1}{m_n}\\big) \\leq^{*} \\frac{\\sigma^2}{n} \\\\\n",
    "\\end{align*}\n",
    "$$\n",
    "and our claim follows\n",
    "\n",
    "Throughout the proof, we have assumed independency of the random variables. In * every fraction $\\frac{1}{m_i} \\leq 1$, since $m_i \\in \\mathbb{N}$. Therefore, the sum of $n$ such quotions must be smaller or equal to $n$. In practice, for reasonable temperatures, the system prefers mulitple clusters, meaning there is a considerable differance in variance."
   ]
  },
  {
   "cell_type": "markdown",
   "id": "83e946a8",
   "metadata": {},
   "source": [
    "**Difference in energy for each temperature**\n",
    "\n",
    "The equilibrium is attained when the system is equally likely to increase and decrease in energy. In a scalding enviroment monomers are more exposed to thermal fluxuation. In our model, the probability of a monomer moving to a higher energy state is given by $P(A)=e^{-\\frac{\\Delta E}{k_B T}}$ (If it didn't move to a lower state). Larger values of $T$ makes an total energy increase more likely. Moreover, in a freezing enviroment a increase in total energy is quite rare. We expect that higher temperatures will fluxuate around a higher energy level, which is illustrated in our plots.\n",
    "\n",
    "One can also observe that $t_{equil}$ is massive for small temperatures. An explaination might be that system with low temperatures are bearly active. The chances to increase system energy are slim whilst temperature is meager, thus the system may get stuck in a local minimum. To circumvent such behaviors, a lucky sequence of fluxuation may be neccessary to proceed. However, such chains are few and far between, indicating an enormous amount of iterations required to reach acchive equilibrium.\n",
    "\n",
    "An important remark is how energy for higher temperatures showcases more chaos, supporting the fact that such systems are highly active."
   ]
  },
  {
   "cell_type": "markdown",
   "id": "2ae91152",
   "metadata": {},
   "source": [
    "**Plotting $\\langle d\\rangle$**\n",
    "\n",
    "As we have discused before, a freezing enviroment will fluxuate around a low energy state. Opposite neighbour charges gives the highest negativ energy contribution, meaning monomers is merged together like a chess board grid. Such systems will only have a few such blobes, meaning the cluster sizes will be enermous.\n",
    "\n",
    "We are expecting a mononotic decrease in $\\langle d \\rangle$ since higher temperatures will make monomers deviante from the grid. Our graphs illustraed our presumption quite well. However, in our plots, there might be a little dent. Our suspicion is that systemes are not independent enough after $t_r=1000$. A \"bad\" system of monomers, where say every monomer are grouped together, might give 10 equally skewed samples, making a dent in our graph"
   ]
  },
  {
   "cell_type": "markdown",
   "id": "5856e7dc",
   "metadata": {},
   "source": [
    "**Choice of $t_{equil}$**\n",
    "\n",
    "An interesting poroperty to study is how monomers behave when the system fluxuate around it's equilibrium. However, we need som kind of way to determine when a system has reached its state of stability. Our optimistic procedure will be to predict a reasonable number of iterations are neccessary for a given a temperature. By assignment text\n",
    "\n",
    "$$t_{equil}(T) = t_{max} e^{-s(T-T_l)} + C, \\quad \\textrm{for } T \\in [100,1000]$$\n",
    "\n",
    "Where $s = \\frac{1}{200}$, $t_{max} = 100000$, $C = 10000$, $T_l = 100 K$\n",
    "\n",
    "After reaching the equilibrium we will iterate $t_r = 1000$ times inbetween each sample.\n",
    "\n",
    "We are well awere that this model holds some disadvantages. After a spesific number of iteration, there is never a warranty that equilibrium is reached. Some initial grid may need alot more iteraions to get ready. Such systems gives \"early samples\" which may skew our results. "
   ]
  },
  {
   "cell_type": "markdown",
   "id": "e6d92232",
   "metadata": {},
   "source": [
    "**Discrepancy of low temperatures**\n",
    "\n",
    "As earlier mentiond, initial grids are very important. need to reach equilibrium. "
   ]
  },
  {
   "cell_type": "markdown",
   "id": "9645a499",
   "metadata": {},
   "source": [
    "**Why system looks the way it does**\n",
    "\n",
    "As in the case of monomers, polymers will cluster together to make a huge blob. The final grid showcases few clusters where opposite charges are neighboring. The system is constantly trying to decrease its energy level. In the final grid we see that polymers with opposite charge are neighbouring, making in the system energy minimal. For the rigid move, all polymers keep their initial shape, leaveing quite a few holes inbetween polymers. Most likely there are configurations with lower energy, but comprehensive relocations are required to achive such states. "
   ]
  },
  {
   "cell_type": "markdown",
   "id": "21580c19",
   "metadata": {},
   "source": [
    "**How run time has changed for monomers to polymers**\n",
    "\n",
    "dont know"
   ]
  },
  {
   "cell_type": "markdown",
   "id": "f16dd4dd",
   "metadata": {},
   "source": [
    "**2g)**\n",
    "\n",
    "While using the rigid move, the energy plot becomes more discrete. Also, the system maintains a constant energy level for longer periods of time. On the other hand, The medium-flexible move has a smoother energy graph. A higher percentages of the possible moves is allowed meaning the system is in constant state of change. In both cases, if the temperature is reasonable, the system will slowly move towards a system with one cluster. The flexible moves will most likely converge to a lower energy minima since polymer may deform to fit better with eachother."
   ]
  },
  {
   "cell_type": "markdown",
   "id": "40e751a2",
   "metadata": {},
   "source": [
    "**Difference in runtime**\n",
    "\n",
    "in polymers, there is a huge number of moves which is illegal. When the MC-algorithm failes to make a move, we can sooner move to the next itterations. Therefore, it is much quicker. "
   ]
  },
  {
   "cell_type": "markdown",
   "id": "5854a8a4",
   "metadata": {},
   "source": [
    "**Just in time**\n",
    "\n",
    "To achvive a reasonable sample space, we need to run a lot of code. The MC() function for both monomers and polymers has loads of code to run every interations. In our initial code, choosing $N_S = 100000$ might take up to 3 min. When we are estimating $\\langle d \\rangle$ we are running over $300000$ iterations, this with the given \"optimistic\" estimate of $t_{equil}$. Since we want a larger sample space we need to reach a higher potensial for the code. Therefore, we have implemeted Numba JiT to decrease run time. \n",
    "\n",
    "In the process of implementing JiT, we changed up the code quite alot. Some of the places we had to downgrade our code to make it compatible with JiT. In this project we have prioritized our time over code quality. One can say that the code is \"better\" since it runs faster, but elementary principles in coding theory is not followed."
   ]
  },
  {
   "cell_type": "markdown",
   "id": "f9ac87f5",
   "metadata": {},
   "source": [
    "**What is a good sample space**\n",
    "\n",
    "For our system, it might be hard to define a \"good\" sample space, especially since our samples are semidependet. We chose our sample space to be $n=10$. By the smoothness of the graph, corresponding to our expectations, we will consider this plot realistic. "
   ]
  },
  {
   "cell_type": "markdown",
   "id": "1bef14e8",
   "metadata": {},
   "source": [
    "**LISTE OVER TING SOM MÅ GJØRES**\n",
    "\n",
    "Pass på å oppdater den ekstra a-en i alpha\n",
    "\n",
    "np.savez ?\n",
    "\n",
    "plotte standard deviation i $\\langle d \\rangle$\n",
    "\n"
   ]
  },
  {
   "cell_type": "markdown",
   "id": "708289a7",
   "metadata": {},
   "source": [
    "Sources:\n",
    "\n",
    "Dahl, Finn\n",
    "\n",
    "Project sheet"
   ]
  },
  {
   "cell_type": "markdown",
   "id": "c1f97a93",
   "metadata": {},
   "source": []
  },
  {
   "cell_type": "markdown",
   "id": "508c9795",
   "metadata": {},
   "source": [
    "In the beginning part of this project we wanted to run large scale Monte Carlo simulations on simplified monomer systems. Therfore we needed efficient algorithmes to both initiate such grids of monomers, as well as visualizing them in an adequate way. To shorten the run time of our simulations, we were using built in functions of the NumPy library. These go well with the Numba library, whcich gave us access to the opurtunity to use jit to further boost our computational efficiency.\n",
    "\n",
    "The algorithems we implemented for these purposes is presented below."
   ]
  },
  {
   "cell_type": "code",
   "execution_count": null,
   "id": "c9b15e12",
   "metadata": {},
   "outputs": [],
   "source": [
    "@jit(nopython=True)\n",
    "def createSystemOfMonomers(N, M):\n",
    "    grid = np.zeros((N,N))                                                  #Initializing grid of size NxN with all coeffisients being zero\n",
    "\n",
    "    distinctValues = np.arange(-M, M + 1)                                   #Initializing numpay array with evry integer between -M and M\n",
    "    newDistinctValues = np.delete(distinctValues, M)                        #Making sure no monomer gets the value zero\n",
    "    np.random.shuffle(newDistinctValues)                                    #Randomly shuffelig the distinct values of the monomer \n",
    "\n",
    "    count = 0\n",
    "\n",
    "    while count < 2 * M:                                                    #Using the random library to place monomers with distinct values one by one\n",
    "        x_value = random.randint(0, N-1)\n",
    "        y_value = random.randint(0, N-1)\n",
    "\n",
    "        if grid[y_value][x_value] == 0:\n",
    "            grid[y_value][x_value] = newDistinctValues[count]\n",
    "            count += 1\n",
    "\n",
    "    locations = np.argwhere(grid)                                           #Using numpy.argwhere to create an array containg the x and y coordinates \n",
    "                                                                            #of all the monomers in the grid\n",
    "    return grid, locations                                              \n",
    "\n",
    "N = 20\n",
    "M = 15\n",
    "\n",
    "grid, locations = createSystemOfMonomers(N, M)\n",
    "\n",
    "def checkMonomers(grid, M):                                                 #Checking if system contains 2 x M monomeres\n",
    "    nonZeroGrid = np.argwhere(grid)\n",
    "\n",
    "    numberOfMonomers = len(list(nonZeroGrid))\n",
    "\n",
    "    if numberOfMonomers == 2*M:\n",
    "        print(\"Has 2M monomers in system\")\n",
    "\n",
    "    elif numberOfMonomers < 2*M:\n",
    "        print(\"Has less than 2M monomers in system\")\n",
    "        \n",
    "    else:\n",
    "        print(\"Has more than 2M monomers in system\")\n",
    "\n",
    "checkMonomers(grid, M)\n",
    "\n",
    "def plotSystems(grids, info, title):\n",
    "    numPlots = len(grids)                                    #Number of grids to plot\n",
    "    a=23.e-6                                                 #Standard value of a\n",
    "\n",
    "    titleString = list()                                     #List that contains title strings of each subplot\n",
    "    for i in range(0, numPlots):   \n",
    "        n = len(grids[i])                                    #N of the grid\n",
    "        titleString.append(info[0][i] + f\", N = {n}\")        #Adding the value of N to the subplot title\n",
    "        if info[1][i] != 0:\n",
    "            titleString[i] += f\", $N_s$ = {info[1][i]}\"      #Adding the value of N_s to the subplot title\n",
    "        if info[2][i] != 0:\n",
    "            titleString[i] += f\", M = {info[2][i]}\"          #Adding the value of M to the subplot title\n",
    "        if info[3][i] != 0:\n",
    "            titleString[i] += f\", T = {info[3][i]}\"          #Adding the value of T to the subplot title\n",
    "        if info[4][i] != 0:\n",
    "            titleString[i] += f\", L = {info[4][i]}\"          #Adding the value of L to the subplot title\n",
    "\n",
    "    if len(grids) == 1:                                      #Exception when only plotting one grid\n",
    "        fig, axs = plt.subplots(1,1, figsize=(8, 8))\n",
    "        axs = [axs,axs]\n",
    "    else:\n",
    "        fig, axs = plt.subplots(1,numPlots, figsize=(7*numPlots, 7))        #Creating a subplot for each grid located beside eachother.\n",
    "    fig.subplots_adjust(top=0.8, wspace=0.3)                                #Adjusting space between subplots\n",
    "    fig.suptitle(title, fontsize=16)                                        #Adding the main title for all subplots\n",
    "\n",
    "    solventColor = \"paleturquoise\"                                          #Solvent color, we choose the same color as the examples provided\n",
    "    vnorm = TwoSlopeNorm(vcenter = 0.)                                      #Setting the norm to 0, this means the coloring for divering colormaps starts in the middle of the colorbar.\n",
    "    for i in range(0,numPlots):                                             #Repeating the plotting process for all grids\n",
    "        if info[5][i] == True:                                              #Info[5][i] contains boolean values to determine if this grid is a clustered grid. Each cluster has its own color.\n",
    "            grids[i] = np.ma.masked_where(grids[i] == 0., grids[i])         #Marking all nonzero values of the grid. This is the solvent. Grids[i] is the specific grid.\n",
    "            cmap = cm.get_cmap(\"twilight_shifted\").copy()                   #Setting the colormap color, copying because we are editing this cmap.\n",
    "            cmap.set_bad(color=solventColor)                                #Color the marked values with the background color\n",
    "            im = axs[i].pcolormesh(grids[i][::-1], cmap=cmap, norm=vnorm)   #Axs[i] is specific axes to plot\n",
    "        elif info[6][i] == True:                                            #Info[6][i] contains boolean values to determine if this grid is a polymer grid. Each polymer has its own color, negative polymers has shades of purple and positive has shades of green.\n",
    "            a=91.e-6                                                        #Distance between grid points for polymers\n",
    "            grids[i] = np.ma.masked_where(grids[i] == 0., grids[i])         #Repeating same process \n",
    "            cmap = cm.get_cmap(\"PRGn\").copy()\n",
    "            cmap.set_bad(color=solventColor)\n",
    "            im = axs[i].pcolormesh(grids[i][::-1], cmap=cmap, norm=vnorm)\n",
    "        else:\n",
    "            cmap = colors.ListedColormap([\"purple\",solventColor,\"g\"])    #If normal monomer grid, setting color for positive and negative values. We choose the same colors as the examples\n",
    "            im = axs[i].pcolormesh(grids[i][::-1], vmin= -1, vmax= 1, cmap=cmap)\n",
    "\n",
    "        axs[i].set_title(titleString[i])\n",
    "        axs[i].set(xlabel=f\"all units in a = {a}m\")\n",
    "    fig.show()"
   ]
  },
  {
   "cell_type": "markdown",
   "id": "d576d847",
   "metadata": {},
   "source": [
    "The first algorithem, createSystemOfMonomers(N, M) takes two arguments: N and M. These represent a given grid size and the amount of monomers in the system, respectively.\n",
    "The initilazation of an empty NxN grid is done by numpy.zeros([N,N]). Which creates an NxN grid with all zeros. Furthermore it creates an array containing all of the possible values of the monomers in the system i.e. [-M, -M+1, ..., 0, ..., M-1, M]. Since the solvent is given the value 0, numpy.delete() is used to remove 0 from the array containg the distinct values of the monomers. The sign of each of the values represent the electrostatic charge of each of the given monomers.\n",
    "\n",
    "To provide a random grid of monomers the algorithem implements the numpy.random.shuffle() to make sure the distinct values will be placed arbitrarily. \n",
    "\n",
    "The implementation of a while loop in conjuction with an if statement is done to assure no monomer is placed upon another. The random.randint() built in function is used to generate random pairs of coordinates which is to be considered for the placement of a monomer. If such a pair of coordinates is allready occupied by a monomer, the if statement inside the while loop assures the generation of another such pair until a legal placement is obtained.\n",
    "\n",
    "When all of the monomers is placed in the grid, the function numpy.argwhere() is used to return an array containg the specific coordinates for the monomers in the grid. This array is sorted along the first axis.\n",
    "\n",
    "The second algorithem, checkMonomers(grid, M), is implemented as a easy way to confirm that the initialized grid does indeed contain 2 x M monomers.\n",
    "\n",
    "The third function, plotSystems(grids, info, title), is the plotting function. It takes inn a list of grids, a 2d list of informantion and values for each grid, and the title for all plots. Firstly the functions initializes the number of grids to plot and the distance between each grid points for monomers. Secondly we create the title for each subplot; we add the subplot tile together with the value of $N$. From the 2d info list we get the values for $N_s$, $M$, $T$ and $L$. We add these to the subplot title if they are nonzero.\n",
    "Furthermore we create subplots for each grid by using plt.subplots(). When only creating one subplot, axs will be a single element and not a list. Therefore we need an exception when only plotting one grid, and making axs a list. Using figsize, subplots_adjust and suptitle we adjust the sizes and distanses between the subplots and add a title for the whole figure.\n",
    "For the plotting, we first set the solvent the same color as the example provided and we iterate through all grids from the grids list. There are three different ways to color the systems, either a clustered grid with distinct positive values, a polymer system with $M$ positive and $M$ negative polymers with shades of green and purple, or simple monomers with positive or negative charges, thus green and purple color.\n",
    "Info[6][i] contains boolean values to determine if this grid is a clustered grid. Each cluster has its own color. We use twilight_shifted which is a similar color as the example. The darker the color, the higher the value of this grid point.\n",
    "Info[6][i] contains boolean values for the grid[i] to determine if this grid is a polymer grid. Each polymer has its own color, negative polymers has shades of purple and positive has shades of green.\n",
    "We use TwoSlopeNorm to normalize at 0, and consequently use divering colormaps divering at 0. Numpys function masked_where is used to mark the solvent, here the solvent is $0$. When creating our own cmap we choose appropriate colormaps and more imporantly, use .copy() because we cannot edit an already existing cmap. Lastly we add the title for each subplot containing information for this plot aswell as the unit of measurement $a$.\n",
    "The result is a figure with up to four plots on line with their assigned relevant values above each subplot as well as the unit of measurement below."
   ]
  },
  {
   "cell_type": "code",
   "execution_count": null,
   "id": "3b9b0964",
   "metadata": {},
   "outputs": [],
   "source": []
  },
  {
   "cell_type": "code",
   "execution_count": null,
   "id": "f84cf666",
   "metadata": {},
   "outputs": [],
   "source": [
    "###Plot av en initialisert grid, med konfirmasjon av 2 * M monomerer forklare at positive verdier har en verdi, mens negative har en annen "
   ]
  },
  {
   "cell_type": "markdown",
   "id": "5fa48e74",
   "metadata": {},
   "source": [
    "The following plots presents the results of our first Monte Carlo simulations. We ran two simulations each for a different temperature, T_1 = 200 K and T_2 = 500 K. The purpose of the simulations were to compare how the energy of a system behaves as a function of time for the different temperatures. Furthermore we used the same initial grid for both simulations to create a better basis for comparison. The numerical values for the different parameters of the metropolis algorithem is listed in the cell below."
   ]
  },
  {
   "cell_type": "code",
   "execution_count": null,
   "id": "7d484c93",
   "metadata": {},
   "outputs": [],
   "source": [
    "def plotEnergy(epsilon, title, n_s=0, m=0, t=0, l=0, comparison=False, epsilon2=0, t2=0, move=\"\", move2=\"\"): ###Trenger forklaring av alex####\n",
    "    temp = np.linspace(0, len(epsilon), len(epsilon))\n",
    "    n = len(grid)\n",
    "\n",
    "    titleString = title + f\", N = {n}\"\n",
    "\n",
    "    if comparison == True:\n",
    "        if t2 == 0:\n",
    "            titleString = f\"Comparison between {move} and {move2} moves\"\n",
    "        else:\n",
    "            titleString = f\"Comparison between $T_1$ = {t} and $T_2$ = {t2}\"\n",
    "    if n_s != 0:\n",
    "        titleString += f\", $N_s$ = {n_s}\"\n",
    "    if m != 0:\n",
    "        titleString += f\", M = {m}\"\n",
    "    if t != 0 and comparison == False:\n",
    "        titleString += f\", T = {t}\"\n",
    "    if l != 0:\n",
    "        titleString += f\", L = {l}\"\n",
    "\n",
    "    if comparison == False:\n",
    "        label1 = f\"$E_{{{t}}}$(t)\"\n",
    "    else:\n",
    "        if t2 == 0:\n",
    "            label1 = f\"$E_{{{move}}}$(t)\"\n",
    "            label2 = f\"$E_{{{move2}}}$(t)\"\n",
    "        else:\n",
    "            label1 = f\"$E_{{{t}}}$(t)\"\n",
    "            label2 = f\"$E_{{{t2}}}$(t)\"\n",
    "\n",
    "    plt.figure(figsize=(12,8))\n",
    "    plt.title(titleString)\n",
    "    plt.plot(temp, epsilon, \"r\", label=label1)\n",
    "    if comparison == True:\n",
    "        plt.plot(temp, epsilon2, \"b\", label=label2)\n",
    "        plt.legend()\n",
    "    plt.xlabel(\"t\")\n",
    "    plt.ylabel(\"Joule\")\n",
    "    plt.show()"
   ]
  },
  {
   "cell_type": "code",
   "execution_count": null,
   "id": "f52e1c59",
   "metadata": {},
   "outputs": [],
   "source": [
    "plot = True\n",
    "if plot == True:\n",
    "    N_s =100000\n",
    "    N = 15\n",
    "    M = 25\n",
    "\n",
    "    T = 200\n",
    "    grid_200, epsilon_200, initialGrid_200 = MC(N_s, N, M, T)\n",
    "    grids = [initialGrid_200, grid_200]\n",
    "    info = [[\"Initial\", \"Final\"],[0, N_s],[M, M],[T, T],[0, 0],[False, False],[False, False]]\n",
    "    plotSystems(grids, info, f\"System of monomers after {N_s} steps with T = {T}\")\n",
    "\n",
    "    T2 = 500\n",
    "    grid_500, epsilon_500, initialGrid_500 = MC(N_s, N, M, T2, initGrid = initialGrid_200, initial=False)\n",
    "    grids = [initialGrid_500, grid_500]\n",
    "    info = [[\"Initial\", \"Final\"],[0, N_s],[M, M],[T2, T2],[0, 0],[False, False],[False, False]]\n",
    "    plotSystems(grids, info, f\"System of monomers after {N_s} steps with T = {T2}\")\n",
    "\n",
    "    plotEnergy(epsilon_200, \"Energy comparison\", m=M, t=T, comparison=True, epsilon2=epsilon_500, t2=T2)\n"
   ]
  },
  {
   "cell_type": "markdown",
   "id": "c559d21b",
   "metadata": {},
   "source": [
    "From the above plots we can derive by visual consideration the amount of Monte Carlo steps needed to reach equilibrium for each of the given temperatures. For T_1 = 200 K t_equili seems to be around 20 000 MC-steps, whilst considering T_2 = 500 K t_equili is about 2 000 MC-steps. \n",
    "\n",
    "These observations can be explaiend by..."
   ]
  },
  {
   "cell_type": "markdown",
   "id": "16defe0f",
   "metadata": {},
   "source": [
    "The practicale implementation of the law of conservation of energy is the formation of aggregates in the system, that is, the clustering of monomers*. To reduce the overall energy of the system, monomers of opposite charges go together to create structures where there are as few equaly charged monomers side by side as possible. In our first large scale Monte Carlo simulation we want to observe how the mean cluster size behave as a function of temperature.\n",
    "\n",
    "To execute these simulations we needed an efficient algorithem to create a grid where every monomer in the same cluster is represented by the same positive integer. This function is presented below."
   ]
  },
  {
   "cell_type": "code",
   "execution_count": null,
   "id": "3ed6b610",
   "metadata": {},
   "outputs": [],
   "source": [
    "@jit(nopython=True)\n",
    "def cluster(clusterGrid, N, k):\n",
    "    clusterGrid = clusterGrid.copy()\n",
    "    #clusterGrid = clusterGrid.astype(np.int64)\n",
    "    locationsOfMonomers = np.argwhere(clusterGrid)\n",
    "    \n",
    "    if k < len(locationsOfMonomers):\n",
    "        neighborsOfK = findNeighbours(N, locationsOfMonomers[k][0], locationsOfMonomers[k][1]).astype(np.int64)\n",
    "        \n",
    "        for element in neighborsOfK:\n",
    "            for i in range(len(locationsOfMonomers)):\n",
    "                if np.array_equal(locationsOfMonomers[i], element):\n",
    "                    clusterGrid = np.where(int(clusterGrid[int(element[0])][int(element[1])]) != clusterGrid, clusterGrid, clusterGrid[int(locationsOfMonomers[k][0])][int(locationsOfMonomers[k][1])])\n",
    "\n",
    "        return cluster(clusterGrid, N, k + 1)\n",
    "    \n",
    "    for i in range(-M, M):\n",
    "        if i != 0:\n",
    "            clusterGrid  = np.where(i != clusterGrid, clusterGrid, M + 10 * i)\n",
    "\n",
    "    clusterNumbers = np.unique(clusterGrid)\n",
    "    numberOfClusters = len(clusterNumbers) - 1\n",
    "\n",
    "    sizes = np.zeros(numberOfClusters + 1)\n",
    "    for i in range(len(clusterNumbers)):\n",
    "        for location in locationsOfMonomers:\n",
    "            if int(clusterGrid[int(location[0])][int(location[1])]) == int(clusterNumbers[i]):\n",
    "                sizes[i] += 1\n",
    "\n",
    "    return clusterGrid, numberOfClusters, sizes"
   ]
  },
  {
   "cell_type": "markdown",
   "id": "f7d98dd2",
   "metadata": {},
   "source": [
    "Cluster(clusterGrid, N, k) is a recursive functon, taking three arguments, the grid we want to modify, the grid size N and k, the number of recursive steps in which the function already has preformed.\n",
    "\n",
    "Every recursive step begins with the copying of the grid created by the last recursive step. Furthermore numpy.argwhere() is used to create a 2D array of the coordinates of the given monomers in the grid.\n",
    "\n",
    "The if-statement k < len(locationsOfMonomers), assures that the ammount of recursive steps done is no more than the amount of monomers in the grid. Whilst this assumption holds the function creats an array of the four nearest neighbours of the k-th monomer in the system. For each of these neighbouring locations it checks whether or not the location is already occupied by a monomer, by use of the numpy.array_equal() functon. If one of these neighbouring positions is allready occupied by a monomer, every monomer with the same specific value needs to be assigned the value of the k-th monomer. This is accomplished by numpy.where() which takes a specific value as input and changes each occurrence of this value into a new one.  \n",
    "\n",
    "This modified grid is then used as an argument when the function is run anew, this time with k = k + 1.\n",
    "\n",
    "When all of the recursive steps are run. The grid needs to be modified such that each cluster is assigend a unique positive value. This is done by a the use of a for-loop in conjuncion with np.where(). The if-statement is used to ensure the algorithem does not change the value of the solvent.\n",
    "\n",
    "np.unique(clusterGrid) returns an array containing each unique value in the grid. the value of the solvent, i.e zero, is also represented in this array. Therefore to get the amount of clusters in the grid,  "
   ]
  },
  {
   "cell_type": "code",
   "execution_count": null,
   "id": "9074997d",
   "metadata": {},
   "outputs": [],
   "source": [
    "plot = True\n",
    "if plot == True:\n",
    "    T = 200\n",
    "\n",
    "    clusterGrid_200, numberOfClusters_200, clusterSizes_200 = cluster(grid_200, 15, 0)\n",
    "    grids = [grid_200, clusterGrid_200]\n",
    "    info = [[\"Initial\", \"Cluster grid\"],[0, N_s],[M, M],[T, T],[0, 0],[False, True],[False, False]]\n",
    "    plotSystems(grids, info, f\"System after clustering after {N_s} steps with T = {T}\")\n",
    "\n",
    "\n",
    "    T2 = 500\n",
    "    clusterGrid_500, numberOfClusters_500, clusterSizes_500 = cluster(grid_500, 15, 0)\n",
    "    grids = [grid_500, clusterGrid_500]\n",
    "    info = [[\"Initial\", \"Cluster grid\"],[0, N_s],[M, M],[T2, T2],[0, 0],[False, True],[False, False]]\n",
    "    plotSystems(grids, info, f\"System after clustering after {N_s} steps with T = {T2}\")"
   ]
  },
  {
   "cell_type": "markdown",
   "id": "5d6a58ec",
   "metadata": {},
   "source": [
    "The above plots shows the formations of aggregats after our first MC-simulations. By visual examination is seems reasonale to assume the amount of clusters in the grid to be closaly related to the temperature. \n",
    "\n",
    "To further investigate this assumtion we used..."
   ]
  },
  {
   "cell_type": "code",
   "execution_count": null,
   "id": "41bd941f",
   "metadata": {},
   "outputs": [],
   "source": [
    "from statistics import mean\n",
    "\n",
    "t_max = 100000\n",
    "s = 1/200\n",
    "C = 10000\n",
    "\n",
    "def t_equili(T, T_l):\n",
    "    return int(t_max * np.exp(- s * (T - T_l)) + C)\n",
    "\n",
    "\n",
    "def meanSize(N, M, T0, T1, n):\n",
    "    t_r = 1000\n",
    "    T = np.linspace(T0, T1, 10)\n",
    "    meanSize_t = list()\n",
    "\n",
    "    for t in T:\n",
    "        t_eq = t_equili(t, T0)\n",
    "        N_s = t_eq + t_r * n\n",
    "        print(N_s)\n",
    "\n",
    "        grid_eq, epsilon_eq, initialGrid = MC(t_eq, N, M, t)\n",
    "\n",
    "        grid_i = grid_eq\n",
    "        meanSize_i = list()\n",
    "        for i in range(n):\n",
    "            grid_i, epsilon_i, initialGrid = MC(t_r, N, M, t, initGrid=grid_i, initial=False)\n",
    "\n",
    "            grid_i = copy.copy(grid_i)\n",
    "            \n",
    "            clusterGrid, numberOfClusters, sizes = cluster(grid_i, N, 0)\n",
    "\n",
    "            meanSize_i.append(sum(sizes)/numberOfClusters)\n",
    "        \n",
    "        meanSize_t.append(mean(meanSize_i))\n",
    "\n",
    "    return T, meanSize_t"
   ]
  },
  {
   "cell_type": "markdown",
   "id": "6180010c",
   "metadata": {},
   "source": [
    "Skrive noe analyse av mean <d>"
   ]
  },
  {
   "cell_type": "markdown",
   "id": "c9c4d53c",
   "metadata": {},
   "source": [
    "In the next part of the project we moved our attentivness to polymer systems, i.e systems were monomers are connected by covalent bond. To create such systems of interest we had to extend the already existing algorithem for constructing monomer systems to include an additional arguement, $L$. $L$ is a quantitaive expression for the multivalency of a polymer, i.e the amount of monomers bonded together to create a polymer. The following code block contains our modified algorithem."
   ]
  },
  {
   "cell_type": "code",
   "execution_count": null,
   "id": "231b8c6c",
   "metadata": {},
   "outputs": [],
   "source": [
    "def illegalPlacement(x, y, grid):                                                       #Function returnning whether or not a location is already \n",
    "    if grid[y][x] != 0:                                                                 #occupied by a monomer\n",
    "        return True\n",
    "    else:\n",
    "        return False                                                                                  \n",
    "   \n",
    "def randomMonomer(N):                                                                   #Function returning a random set of coordinates in a grid of size NxN\n",
    "    return random.randint(0, N-1), random.randint(0, N-1)\n",
    "\n",
    "def findRandomNeighbor(existingPositions, N, grid):                                     #Function returning a random set of coordinates in which a given polymer is to be expanded to\n",
    "    allowedPositions = list()                                                          \n",
    "    for i in range(len(existingPositions)):                                              #existingPositions contains coordinates for evry monomer in a given polymer\n",
    "                                                                                         #each non occupied neighboring position is added to a list of allowed positions\n",
    "         x, y = existingPositions[i]\n",
    "        if grid[y][(x + 1)%N] == 0:\n",
    "            allowedPositions.append([(x + 1)%N, y])\n",
    "        if grid[y][(x - 1)%N] == 0:\n",
    "            allowedPositions.append([(x - 1)%N, y])\n",
    "        if grid[(y + 1)%N][x] == 0:\n",
    "            allowedPositions.append([x, (y + 1)%N])\n",
    "        if grid[(y - 1)%N][x] == 0:\n",
    "            allowedPositions.append([x, (y - 1)%N])\n",
    "  \n",
    "    uniqueAllowedPositions = []                                                           #To make sure each position is equaly likaly to forge a monomer\n",
    "    for item in allowedPositions:                                                         #evry duplicate is removed\n",
    "        if item not in uniqueAllowedPositions:\n",
    "            uniqueAllowedPositions.append(item)\n",
    "\n",
    "    randomListPosition = random.randint(0, len(uniqueAllowedPositions)-1)                 #One random  position is chosen out of these unique positions\n",
    "    x, y = uniqueAllowedPositions[randomListPosition]\n",
    "    return x, y\n",
    "\n",
    "\n",
    "def createSystemOfPolymers(N, M, L):                                                       #Algorithem returning a grid containing a polymer system\n",
    "    grid = np.zeros([N, N])                                                                #Initializing a empty grid of size NxN\n",
    "    unique_M = chain(range(-M, 0), range(1, M+1))                                          #Creating a list of integers between -M and M, excluding zero.\n",
    "\n",
    "    for i in unique_M:                                                                     #Initializing the construction of polymer number i in unique_M\n",
    "        ran_x, ran_y = randomMonomer(N)\n",
    "        while illegalPlacement(ran_x, ran_y, grid):\n",
    "            ran_x, ran_y = randomMonomer(N)\n",
    "        \n",
    "        randomPosition = [ran_x, ran_y]\n",
    "        grid[ran_y][ran_x] = i\n",
    "        \n",
    "        monomerPositionArray = list()\n",
    "        monomerPositionArray.append(randomPosition)\n",
    "          \n",
    "        for j in range(1, L):                                                               #Placing L - 1 monomers to form a polymer.\n",
    "            try:                                                                            #Using try and except statement to avoid the formation of a polymer \n",
    "                x, y = findRandomNeighbor(monomerPositionArray, N, grid)                    #in wich L monomers cannot be forged\n",
    "            except ValueError:\n",
    "                print(\"fail\")\n",
    "                return createSystemOfPolymers(N,M,L)\n",
    "            \n",
    "            monomerPositionArray.append([x, y])\n",
    "            grid[y][x] = i\n",
    "    return grid"
   ]
  },
  {
   "cell_type": "raw",
   "id": "e49567e1",
   "metadata": {},
   "source": []
  },
  {
   "cell_type": "markdown",
   "id": "5370b7c0",
   "metadata": {},
   "source": [
    "#### Monte Carlo - Rigid move\n",
    "Furthermore we want to use the rigid move to run a Monte Carlo simulation for systems of polymers with the purpose that we later can investigate how the polymers of different charges behave.\n",
    "\n",
    "We are asked to run the MC simulation with $L>10$, $2<M<6$, $T=200$. We choose the size of the grid $N$ for ourselves.\n",
    "Here is our solution:"
   ]
  },
  {
   "cell_type": "code",
   "execution_count": null,
   "id": "0a9c93e4",
   "metadata": {},
   "outputs": [],
   "source": [
    "@jit(nopython=True)\n",
    "def MC_Polymers(N_s, grid, move=\"rigid\"):\n",
    "    initialGrid = grid.copy()                                   #Initial grid to return\n",
    "    \n",
    "    typeMove = np.array(()\n",
    "    \n",
    "    epsilon = np.zeros(N_s)                                     #Empty array with length N_s\n",
    "    energyOfState = totalEnergyPolymerSystem(grid)              #Calculate energy for the initial grid\n",
    "    epsilon[0] = energyOfState                                  #First element in energy array\n",
    "\n",
    "    valuesOfPolymers = np.unique(grid)                          #Unique values for each polymer\n",
    "\n",
    "    directions = np.arange(0,3)                                 #Numbered directions\n",
    "\n",
    "    for i in range(N_s):                                        #Iterating N_s times\n",
    "        k = np.random.choice(valuesOfPolymers)                  #Choosing a random polymer\n",
    "        direction = np.random.choice(directions)                #Choosing a random direction\n",
    "    \n",
    "        oldGrid = grid.copy()                                   #Copying grid, need this if the polymers are not moving\n",
    "        if move == \"rigid\":                                     #If move type = rigid, rigid is standard in function parameter\n",
    "            newGrid = rigidMove(k, direction, grid)             #New grid with a random polymer moved a random direction using rigid move\n",
    "        elif move == \"flexibility\":                             #If move type = flexibility\n",
    "            newGrid = mediumFlexibilityMove(k, direction, grid) #New grid with a random polymer moved a random direction using medium flexibility move\n",
    "\n",
    "        energyOfState_temp = totalEnergyPolymerSystem(newGrid)  #Calculating temporary energy of state after movement\n",
    "        \n",
    "        if energyOfState_temp < energyOfState:                  #If energy after movement is lower than before movement. This is the most desirable movement.\n",
    "            grid = newGrid.copy()                               #Confirming movement, using this for the next MC step\n",
    "            energyOfState = energyOfState_temp                  #Confirming energy\n",
    "\n",
    "        elif np.random.random() < np.exp(- (1 / (Boltzmann * T)) * (energyOfState_new - energyOfState)):\n",
    "                                                                #Probability of making the move even if it does not achieve lower energy.\n",
    "            grid = newGrid.copy()                               #Confirming movement, using this for the next MC step   \n",
    "            energyOfState = energyOfState_temp                  #Confirming energy\n",
    "\n",
    "        else:\n",
    "            grid = oldGrid.copy()                               #Cancels movement, setting next grid equal to previous grid\n",
    "\n",
    "        epsilon[i] = energyOfState                              #Fills empty energy array with calculated energy for this MC step\n",
    "    \n",
    "    return grid, epsilon                                        #Returing grid after N_S steps and energy development array\n"
   ]
  },
  {
   "cell_type": "markdown",
   "id": "d3b44cc7",
   "metadata": {},
   "source": [
    "The MC_Polymers function takes inn how many $N_s$ steps to perform, an initial polymer grid, and which type of movement. Standard is set to rigid.\n",
    "We use our previous size if $N=20$, as this is not too small such that there is no free moving space, as well as it is not too big for them not to reach eachother.\n",
    "The first part of this function is initializing. We use .copy() to create a copy of the initial grid and we create a list of arrays of length $N_s$ which will be filled with calculated energy for each MC step. This will be used to plot the energy development after $N_s$ steps. We calculate the initial energy of the grid and add this to our energy array. Numpys function unique is used to get each unique value for the polymers, in order that we can choose which polymer to move. We also create an array with numbered directions in the order: right, left, up, down.\n",
    "\n",
    "In the next part we will iterate $N_s$ times, where it for each step tests if the move is desireable.  first choose a random value $k$ and direction along with the rigid move to create a grid with a moved polymer. Secondly we calculate the temporary energy and check if the energy has lowered, this is the most desired move considering that lower potential energy is more stable. If this is the case, the grid will be updated with the desired move. If not, there is still a possibility that it will move towards a unfavorable direction, expressed as:\n",
    "$$p < \\exp(- \\frac{1}{\\beta\\Delta E})$$\n",
    "where $p$ is a random number between $0$ and $1$. This move is then realized, thus updating the next grid and energy element. If this is not the case either the polymers will not move and the grid stays the same, hence use the old grid. The energy element is then added to the energy array. Finally the function returns an array after repeating this process $N_s$ times together with the energy development.\n",
    "\n",
    "This is a run of our MC polymers after 30000 MC steps"
   ]
  },
  {
   "cell_type": "code",
   "execution_count": null,
   "id": "7486e8ae",
   "metadata": {},
   "outputs": [],
   "source": [
    "N_s = 30000\n",
    "N = 20\n",
    "M = 4\n",
    "L = 12\n",
    "T = 200\n",
    "\n",
    "#MC POLYMER\n",
    "start = time.time()\n",
    "initial_grid_poly = createSystemOfPolymers(N, M, L)\n",
    "grid_poly, epsilon_poly, type_move_poly = MC_Polymers(N_s, initial_grid_poly, T)\n",
    "print(\"It took \", time.time() - start, \"seconds with an average of \", (time.time() - start) / N_s, \"seconds per MC step\")\n",
    "\n",
    "#MC MONOMER\n",
    "start = time.time()\n",
    "grid_mono, epsilon_mono, initial_grid_mono, type_move_mono = MC(N_s, N, 48, T)\n",
    "print(\"It took \", time.time() - start, \"seconds with an average of \", (time.time() - start) / N_s, \"seconds per MC step\")\n",
    "\n",
    "grids_poly = [initial_grid_poly, grid_poly]\n",
    "info_poly = [[\"Initial\", \"Final\"],[0, N_s],[M, M],[T, T],[L, L],[False, False],[True, True]]\n",
    "plotSystems(grids_poly, info_poly, f\"System of polymers after {N_s} steps with T = {T} using rigid moves\")\n",
    "\n",
    "grids_mono = [initial_grid_mono, grid_mono]\n",
    "info_mono = [[\"Initial\", \"Final\"],[0, N_s],[M, M],[T, T],[0, 0],[False, False],[False, False]]\n",
    "plotSystems(grids_mono, info_mono, f\"System of monomers after {N_s} steps with T = {T}\")\n",
    "\n",
    "plt.figure(figsize=(12,8))\n",
    "plt.title(\"Move type distribution\")\n",
    "plt.bar([\"Favorable\",\"Random\",\"None\"],type_move_poly, width=0.1, align=\"center\", label=\"Polymer\")\n",
    "plt.bar([\"Favorable\",\"Random\",\"None\"],type_move_mono, width=0.1, align=\"edge\", label=\"Monomer\")\n",
    "plt.legend()\n",
    "plt.xlabel(\"Type movement\")\n",
    "plt.ylabel(\"Times moved\")\n",
    "plt.show()\n",
    "\n",
    "plotEnergy(epsilon_poly, \"Energy polymer system\")\n",
    "plotEnergy(epsilon_mono, \"Energy monomer system\")\n"
   ]
  },
  {
   "cell_type": "markdown",
   "id": "c5735d6c",
   "metadata": {},
   "source": [
    "The polymers will arrange eachother in the most energetically favorable position. That is, positive polymers connected with negative polymers, with as many contact surfaces as possible. With higher temperatures, the polymers will not necessarily move towards a lower energy state due to thermal fluctations and the result is that they are separated to a greater extent.\n",
    "\n",
    "We have plotted the move type distribution, and the random move is the most dominant for both the MC polymer and monomer. There is though a big difference between \n",
    "\n",
    "We calculate the average time for MC polymers vs MC monomers, for 300000 steps. \n",
    "$t_poly = 467$ seconds\n",
    "$t_mono = 30.4$ seconds\n",
    "By our simulation we observe that the run time for the different Monte Carlo functions are approximately eighteen times longer for the polymers, than for the monomer . \n",
    "The reason for this big difference is "
   ]
  },
  {
   "cell_type": "code",
   "execution_count": null,
   "id": "c872a27e",
   "metadata": {},
   "outputs": [],
   "source": []
  }
 ],
 "metadata": {
  "kernelspec": {
   "display_name": "Python 3",
   "language": "python",
   "name": "python3"
  },
  "language_info": {
   "codemirror_mode": {
    "name": "ipython",
    "version": 3
   },
   "file_extension": ".py",
   "mimetype": "text/x-python",
   "name": "python",
   "nbconvert_exporter": "python",
   "pygments_lexer": "ipython3",
   "version": "3.6.6+"
  }
 },
 "nbformat": 4,
 "nbformat_minor": 5
}
