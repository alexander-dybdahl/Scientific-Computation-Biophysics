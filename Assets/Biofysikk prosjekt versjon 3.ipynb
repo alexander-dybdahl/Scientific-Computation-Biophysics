{
 "cells": [
  {
   "cell_type": "markdown",
   "id": "da6cebc2",
   "metadata": {},
   "source": [
    "# **HØVING VITBER**"
   ]
  },
  {
   "cell_type": "markdown",
   "id": "24a55fc8",
   "metadata": {},
   "source": [
    "**Abstract**\n",
    "\n",
    "In this project we will utilize several numerical tools to study formations of membrane-less organells. We will be using some simple Monte Carlo simulations to illustrate how systemes of monomers and polymers will gradually develope over time. Our MC simulations will be following some basic physical principle to ensure a realistic model. We will also visualize the process to showcase different phenomenon, such as how monomers might consolidate into huge clusters and how polymers might adept their shape to best fit their enviromet. Thourghout the project we will also observe how energy will evolve and eventually oscillate around a equilibrium."
   ]
  },
  {
   "cell_type": "markdown",
   "id": "fbf82b56",
   "metadata": {},
   "source": [
    "**Describing the system**\n",
    "\n",
    "In our system we will simplify a plane to a 2-dimensional grid, meaning positions will be quantified. In these discrete system our meassure of distance and interaction inbetween monomers will also be simplified. If monomers are not neighbouring, they won't effect eachother. Even though there will be some kind of electrical force pulling and pushing monomers around, we will neglact this behavior. Moreover, our grid will be a relaitvly small representation of the entire cell. To ensure some realistic behavior \"outside\" the grid, we will assume the grid periodic. In practice this means our grid takes place on a geometric torus, looping around in all directions. Our unit step length will be $a = (23 \\cdot 10^{-6})^2 m$ and $a = (91 \\cdot 10^{-6})^2 m$ in the monomer and polymer case respectivly. The relativ permativity will be $\\varepsilon_r = 78$ for both cases\n",
    "\n",
    "When calculating energy, we will be using the usual superposition of electric potential. We will be looking at every potensial contribution seperatly and sum up to calculate the energy of the system. \n",
    "\n",
    "$$E = \\sum_{i,j} V_{ij} \\quad \\quad V_{ij} = \\frac{1}{4 \\pi \\varepsilon} \\frac{q_i q_j}{|r_i - r_j|} $$\n",
    "\n",
    "Since charge is quantified with the elementary charge we have\n",
    "\n",
    "$$ q_i = w_i e, \\quad w_i \\in \\mathbb{Z} $$\n",
    "\n",
    "Which yields\n",
    "\n",
    "$$V_{ij} = w_i w_j \\frac{1}{4 \\pi \\varepsilon_0 \\varepsilon_r} \\frac{e^2}{|r_i - r_j|} = w_i w_j \\frac{e^2}{4 \\pi \\varepsilon_0 \\varepsilon_r a} \\frac{a}{|r_i - r_j|}$$\n",
    "\n",
    "Choosing \n",
    "\n",
    "$$\\alpha = \\frac{e^2}{4 \\pi \\varepsilon_0 \\varepsilon_r a}$$ \n",
    "\n",
    "\n",
    "Due to that fact that only neighbours affect eachother, their distance $r = |r_i -r_j|$ will always be the unit length, namely $a$. Concluding \n",
    "\n",
    "$$\n",
    "V_{ij} = \\begin{cases}\n",
    "             w_i w_j \\alpha  & \\text{if NN} \\\\\n",
    "             0  & \\text{else }\n",
    "          \\end{cases}\n",
    "$$\n",
    "\n",
    "For the system of monomers, charge value is been limited to $\\pm 1$, and $w_i$ integer,  meaning energy will be given in quantified with $\\alpha$.\n",
    "\n",
    "$$E = \\sum_{i,j} V_{ij} = \\sum w_i w_j \\alpha = \\alpha \\sum w_i w_j = \\alpha z, \\quad z\\in\\mathbb{Z}$$"
   ]
  },
  {
   "cell_type": "markdown",
   "id": "fe07b9ec",
   "metadata": {},
   "source": [
    "**Physical priciples of our system**\n",
    "\n",
    "To illustarte our system, we will be using the Metropolis algorithm. First we need to attempt a legal move. The law of conservation of energy will ensure that the system energy will diminish or stabilize. Thus, the first step will take meassures before and after, $E_0$ and $E_n$, to verify that the energy level of the successive system has declined. If the process succeeds, the move will be initiated. \n",
    "\n",
    "Although we want a converging system we will occasionally allow a \"deviation\". If a move failes the first step there will be a slim chance for the move to occur. The probability will be $e^{-\\frac{\\Delta E}{k_B T}}$. Thus we have an increasing and decreaising contribution which eventually converges. For higher temperature, thermal fluxuation is more probable."
   ]
  },
  {
   "cell_type": "markdown",
   "id": "9d1b31cc",
   "metadata": {},
   "source": [
    "**Initializing grid**\n",
    "\n",
    "Vet ikke hvor mye vi trenger å forklare for disse spesifikt...\n",
    "\n",
    "We start by my making a 2D array of zeros, and making a list of values between $[-M,M]$ excluding $0$, which we shuffle. From the random library we are taking 20 random coordinates. \n",
    "\n"
   ]
  },
  {
   "cell_type": "markdown",
   "id": "9645a499",
   "metadata": {},
   "source": [
    "**Why system looks the way it does**\n",
    "\n",
    "As in the case of monomers, polymers will cluster together to make a huge blob. The final grid showcases few clusters where opposite charges are neighboring. The system is constantly trying to decrease its energy level. In the final grid we see that polymers with opposite charge are neighbouring, making in the system energy minimal. For the rigid move, all polymers keep their initial shape, leaveing quite a few holes inbetween polymers. Most likely there are configurations with lower energy, but comprehensive relocations are required to achive such states. "
   ]
  },
  {
   "cell_type": "markdown",
   "id": "21580c19",
   "metadata": {},
   "source": [
    "**How run time has changed for monomers to polymers**\n",
    "\n",
    "dont know"
   ]
  },
  {
   "cell_type": "markdown",
   "id": "f16dd4dd",
   "metadata": {},
   "source": [
    "**2g)**\n",
    "\n",
    "While using the rigid move, the energy plot becomes more discrete. Also, the system maintains a constant energy level for longer periods of time. On the other hand, The medium-flexible move has a smoother energy graph. A higher percentages of the possible moves is allowed meaning the system is in constant state of change. In both cases, if the temperature is reasonable, the system will slowly move towards a system with one cluster. The flexible moves will most likely converge to a lower energy minima since polymer may deform to fit better with eachother."
   ]
  },
  {
   "cell_type": "markdown",
   "id": "40e751a2",
   "metadata": {},
   "source": [
    "**Difference in runtime**\n",
    "\n",
    "in polymers, there is a huge number of moves which is illegal. When the MC-algorithm failes to make a move, we can sooner move to the next itterations. Therefore, it is much quicker. "
   ]
  },
  {
   "cell_type": "markdown",
   "id": "1bef14e8",
   "metadata": {},
   "source": [
    "**LISTE OVER TING SOM MÅ GJØRES**\n",
    "\n",
    "Pass på å oppdater den ekstra a-en i alpha\n",
    "\n",
    "np.savez ?\n",
    "\n",
    "plotte standard deviation i $\\langle d \\rangle$\n",
    "\n"
   ]
  },
  {
   "cell_type": "markdown",
   "id": "708289a7",
   "metadata": {},
   "source": [
    "Sources:\n",
    "\n",
    "Dahl, Finn\n",
    "\n",
    "Project sheet"
   ]
  },
  {
   "cell_type": "markdown",
   "id": "5854a8a4",
   "metadata": {},
   "source": [
    "**Just in time**\n",
    "\n",
    "While working through the project, some of the tasks expected an enormous amount of iterations to achive a reasonable sample space or decent data. Trying to write an efficient enough code proved quite hard. Our Monte Carlo simulation was not compatible  with a million iterations. Thus we tried to reach a higher potensial for the code. We have imported Numba JiT to decrease run time. The majority of the functions, escpacially those with longer chains of for-loop, have been JiTed. \n",
    "\n",
    "In the process of implementing Jit, we needed to change the code quite a lot. Numba Jit were only compatible with a handful of the functions we initially used. Jit are very comfortable with the standard library and parts of the numpy library. On a rare occasions some external functions were implemented, but the mindset of the function are very basic. One can say that the code is \"better\" since it runs faster, but elementary principles in coding theory are not followed. We have prioritized runtime over code quality for this project. "
   ]
  },
  {
   "cell_type": "code",
   "execution_count": 2,
   "id": "8d7b6ac6",
   "metadata": {},
   "outputs": [
    {
     "ename": "OSError",
     "evalue": "\"/bin/sh\" shell not found",
     "output_type": "error",
     "traceback": [
      "\u001b[0;31m---------------------------------------------------------------------------\u001b[0m",
      "\u001b[0;31mOSError\u001b[0m                                   Traceback (most recent call last)",
      "\u001b[0;32m<ipython-input-2-e7a636ad4ac4>\u001b[0m in \u001b[0;36m<module>\u001b[0;34m\u001b[0m\n\u001b[0;32m----> 1\u001b[0;31m \u001b[0mget_ipython\u001b[0m\u001b[0;34m(\u001b[0m\u001b[0;34m)\u001b[0m\u001b[0;34m.\u001b[0m\u001b[0mrun_line_magic\u001b[0m\u001b[0;34m(\u001b[0m\u001b[0;34m'pip'\u001b[0m\u001b[0;34m,\u001b[0m \u001b[0;34m'install numba'\u001b[0m\u001b[0;34m)\u001b[0m\u001b[0;34m\u001b[0m\u001b[0m\n\u001b[0m\u001b[1;32m      2\u001b[0m \u001b[0;32mimport\u001b[0m \u001b[0mnumpy\u001b[0m \u001b[0;32mas\u001b[0m \u001b[0mnp\u001b[0m\u001b[0;34m\u001b[0m\u001b[0m\n\u001b[1;32m      3\u001b[0m \u001b[0;32mimport\u001b[0m \u001b[0mmatplotlib\u001b[0m\u001b[0;34m\u001b[0m\u001b[0m\n\u001b[1;32m      4\u001b[0m \u001b[0;32mimport\u001b[0m \u001b[0mmatplotlib\u001b[0m\u001b[0;34m.\u001b[0m\u001b[0mpyplot\u001b[0m \u001b[0;32mas\u001b[0m \u001b[0mplt\u001b[0m\u001b[0;34m\u001b[0m\u001b[0m\n\u001b[1;32m      5\u001b[0m \u001b[0;32mimport\u001b[0m \u001b[0mrandom\u001b[0m\u001b[0;34m\u001b[0m\u001b[0m\n",
      "\u001b[0;32m~/lib/python3.6/site-packages/IPython/core/interactiveshell.py\u001b[0m in \u001b[0;36mrun_line_magic\u001b[0;34m(self, magic_name, line, _stack_depth)\u001b[0m\n\u001b[1;32m   2351\u001b[0m                 \u001b[0mkwargs\u001b[0m\u001b[0;34m[\u001b[0m\u001b[0;34m'local_ns'\u001b[0m\u001b[0;34m]\u001b[0m \u001b[0;34m=\u001b[0m \u001b[0mself\u001b[0m\u001b[0;34m.\u001b[0m\u001b[0mget_local_scope\u001b[0m\u001b[0;34m(\u001b[0m\u001b[0mstack_depth\u001b[0m\u001b[0;34m)\u001b[0m\u001b[0;34m\u001b[0m\u001b[0m\n\u001b[1;32m   2352\u001b[0m             \u001b[0;32mwith\u001b[0m \u001b[0mself\u001b[0m\u001b[0;34m.\u001b[0m\u001b[0mbuiltin_trap\u001b[0m\u001b[0;34m:\u001b[0m\u001b[0;34m\u001b[0m\u001b[0m\n\u001b[0;32m-> 2353\u001b[0;31m                 \u001b[0mresult\u001b[0m \u001b[0;34m=\u001b[0m \u001b[0mfn\u001b[0m\u001b[0;34m(\u001b[0m\u001b[0;34m*\u001b[0m\u001b[0margs\u001b[0m\u001b[0;34m,\u001b[0m \u001b[0;34m**\u001b[0m\u001b[0mkwargs\u001b[0m\u001b[0;34m)\u001b[0m\u001b[0;34m\u001b[0m\u001b[0m\n\u001b[0m\u001b[1;32m   2354\u001b[0m             \u001b[0;32mreturn\u001b[0m \u001b[0mresult\u001b[0m\u001b[0;34m\u001b[0m\u001b[0m\n\u001b[1;32m   2355\u001b[0m \u001b[0;34m\u001b[0m\u001b[0m\n",
      "\u001b[0;32m~/lib/python3.6/site-packages/decorator.py\u001b[0m in \u001b[0;36mfun\u001b[0;34m(*args, **kw)\u001b[0m\n\u001b[1;32m    230\u001b[0m             \u001b[0;32mif\u001b[0m \u001b[0;32mnot\u001b[0m \u001b[0mkwsyntax\u001b[0m\u001b[0;34m:\u001b[0m\u001b[0;34m\u001b[0m\u001b[0m\n\u001b[1;32m    231\u001b[0m                 \u001b[0margs\u001b[0m\u001b[0;34m,\u001b[0m \u001b[0mkw\u001b[0m \u001b[0;34m=\u001b[0m \u001b[0mfix\u001b[0m\u001b[0;34m(\u001b[0m\u001b[0margs\u001b[0m\u001b[0;34m,\u001b[0m \u001b[0mkw\u001b[0m\u001b[0;34m,\u001b[0m \u001b[0msig\u001b[0m\u001b[0;34m)\u001b[0m\u001b[0;34m\u001b[0m\u001b[0m\n\u001b[0;32m--> 232\u001b[0;31m             \u001b[0;32mreturn\u001b[0m \u001b[0mcaller\u001b[0m\u001b[0;34m(\u001b[0m\u001b[0mfunc\u001b[0m\u001b[0;34m,\u001b[0m \u001b[0;34m*\u001b[0m\u001b[0;34m(\u001b[0m\u001b[0mextras\u001b[0m \u001b[0;34m+\u001b[0m \u001b[0margs\u001b[0m\u001b[0;34m)\u001b[0m\u001b[0;34m,\u001b[0m \u001b[0;34m**\u001b[0m\u001b[0mkw\u001b[0m\u001b[0;34m)\u001b[0m\u001b[0;34m\u001b[0m\u001b[0m\n\u001b[0m\u001b[1;32m    233\u001b[0m     \u001b[0mfun\u001b[0m\u001b[0;34m.\u001b[0m\u001b[0m__name__\u001b[0m \u001b[0;34m=\u001b[0m \u001b[0mfunc\u001b[0m\u001b[0;34m.\u001b[0m\u001b[0m__name__\u001b[0m\u001b[0;34m\u001b[0m\u001b[0m\n\u001b[1;32m    234\u001b[0m     \u001b[0mfun\u001b[0m\u001b[0;34m.\u001b[0m\u001b[0m__doc__\u001b[0m \u001b[0;34m=\u001b[0m \u001b[0mfunc\u001b[0m\u001b[0;34m.\u001b[0m\u001b[0m__doc__\u001b[0m\u001b[0;34m\u001b[0m\u001b[0m\n",
      "\u001b[0;32m~/lib/python3.6/site-packages/IPython/core/magic.py\u001b[0m in \u001b[0;36m<lambda>\u001b[0;34m(f, *a, **k)\u001b[0m\n\u001b[1;32m    185\u001b[0m     \u001b[0;31m# but it's overkill for just that one bit of state.\u001b[0m\u001b[0;34m\u001b[0m\u001b[0;34m\u001b[0m\u001b[0m\n\u001b[1;32m    186\u001b[0m     \u001b[0;32mdef\u001b[0m \u001b[0mmagic_deco\u001b[0m\u001b[0;34m(\u001b[0m\u001b[0marg\u001b[0m\u001b[0;34m)\u001b[0m\u001b[0;34m:\u001b[0m\u001b[0;34m\u001b[0m\u001b[0m\n\u001b[0;32m--> 187\u001b[0;31m         \u001b[0mcall\u001b[0m \u001b[0;34m=\u001b[0m \u001b[0;32mlambda\u001b[0m \u001b[0mf\u001b[0m\u001b[0;34m,\u001b[0m \u001b[0;34m*\u001b[0m\u001b[0ma\u001b[0m\u001b[0;34m,\u001b[0m \u001b[0;34m**\u001b[0m\u001b[0mk\u001b[0m\u001b[0;34m:\u001b[0m \u001b[0mf\u001b[0m\u001b[0;34m(\u001b[0m\u001b[0;34m*\u001b[0m\u001b[0ma\u001b[0m\u001b[0;34m,\u001b[0m \u001b[0;34m**\u001b[0m\u001b[0mk\u001b[0m\u001b[0;34m)\u001b[0m\u001b[0;34m\u001b[0m\u001b[0m\n\u001b[0m\u001b[1;32m    188\u001b[0m \u001b[0;34m\u001b[0m\u001b[0m\n\u001b[1;32m    189\u001b[0m         \u001b[0;32mif\u001b[0m \u001b[0mcallable\u001b[0m\u001b[0;34m(\u001b[0m\u001b[0marg\u001b[0m\u001b[0;34m)\u001b[0m\u001b[0;34m:\u001b[0m\u001b[0;34m\u001b[0m\u001b[0m\n",
      "\u001b[0;32m~/lib/python3.6/site-packages/IPython/core/magics/packaging.py\u001b[0m in \u001b[0;36mpip\u001b[0;34m(self, line)\u001b[0m\n\u001b[1;32m     66\u001b[0m           \u001b[0;34m%\u001b[0m\u001b[0mpip\u001b[0m \u001b[0minstall\u001b[0m \u001b[0;34m[\u001b[0m\u001b[0mpkgs\u001b[0m\u001b[0;34m]\u001b[0m\u001b[0;34m\u001b[0m\u001b[0m\n\u001b[1;32m     67\u001b[0m         \"\"\"\n\u001b[0;32m---> 68\u001b[0;31m         \u001b[0mself\u001b[0m\u001b[0;34m.\u001b[0m\u001b[0mshell\u001b[0m\u001b[0;34m.\u001b[0m\u001b[0msystem\u001b[0m\u001b[0;34m(\u001b[0m\u001b[0;34m' '\u001b[0m\u001b[0;34m.\u001b[0m\u001b[0mjoin\u001b[0m\u001b[0;34m(\u001b[0m\u001b[0;34m[\u001b[0m\u001b[0msys\u001b[0m\u001b[0;34m.\u001b[0m\u001b[0mexecutable\u001b[0m\u001b[0;34m,\u001b[0m \u001b[0;34m'-m'\u001b[0m\u001b[0;34m,\u001b[0m \u001b[0;34m'pip'\u001b[0m\u001b[0;34m,\u001b[0m \u001b[0mline\u001b[0m\u001b[0;34m]\u001b[0m\u001b[0;34m)\u001b[0m\u001b[0;34m)\u001b[0m\u001b[0;34m\u001b[0m\u001b[0m\n\u001b[0m\u001b[1;32m     69\u001b[0m         \u001b[0mprint\u001b[0m\u001b[0;34m(\u001b[0m\u001b[0;34m\"Note: you may need to restart the kernel to use updated packages.\"\u001b[0m\u001b[0;34m)\u001b[0m\u001b[0;34m\u001b[0m\u001b[0m\n\u001b[1;32m     70\u001b[0m \u001b[0;34m\u001b[0m\u001b[0m\n",
      "\u001b[0;32m~/lib/python3.6/site-packages/ipykernel/zmqshell.py\u001b[0m in \u001b[0;36msystem_piped\u001b[0;34m(self, cmd)\u001b[0m\n\u001b[1;32m    645\u001b[0m                 \u001b[0mself\u001b[0m\u001b[0;34m.\u001b[0m\u001b[0muser_ns\u001b[0m\u001b[0;34m[\u001b[0m\u001b[0;34m'_exit_code'\u001b[0m\u001b[0;34m]\u001b[0m \u001b[0;34m=\u001b[0m \u001b[0msystem\u001b[0m\u001b[0;34m(\u001b[0m\u001b[0mcmd\u001b[0m\u001b[0;34m)\u001b[0m\u001b[0;34m\u001b[0m\u001b[0m\n\u001b[1;32m    646\u001b[0m         \u001b[0;32melse\u001b[0m\u001b[0;34m:\u001b[0m\u001b[0;34m\u001b[0m\u001b[0m\n\u001b[0;32m--> 647\u001b[0;31m             \u001b[0mself\u001b[0m\u001b[0;34m.\u001b[0m\u001b[0muser_ns\u001b[0m\u001b[0;34m[\u001b[0m\u001b[0;34m'_exit_code'\u001b[0m\u001b[0;34m]\u001b[0m \u001b[0;34m=\u001b[0m \u001b[0msystem\u001b[0m\u001b[0;34m(\u001b[0m\u001b[0mself\u001b[0m\u001b[0;34m.\u001b[0m\u001b[0mvar_expand\u001b[0m\u001b[0;34m(\u001b[0m\u001b[0mcmd\u001b[0m\u001b[0;34m,\u001b[0m \u001b[0mdepth\u001b[0m\u001b[0;34m=\u001b[0m\u001b[0;36m1\u001b[0m\u001b[0;34m)\u001b[0m\u001b[0;34m)\u001b[0m\u001b[0;34m\u001b[0m\u001b[0m\n\u001b[0m\u001b[1;32m    648\u001b[0m \u001b[0;34m\u001b[0m\u001b[0m\n\u001b[1;32m    649\u001b[0m     \u001b[0;31m# Ensure new system_piped implementation is used\u001b[0m\u001b[0;34m\u001b[0m\u001b[0;34m\u001b[0m\u001b[0m\n",
      "\u001b[0;32m~/lib/python3.6/site-packages/IPython/utils/_process_posix.py\u001b[0m in \u001b[0;36msystem\u001b[0;34m(self, cmd)\u001b[0m\n\u001b[1;32m    155\u001b[0m                 \u001b[0mchild\u001b[0m \u001b[0;34m=\u001b[0m \u001b[0mpexpect\u001b[0m\u001b[0;34m.\u001b[0m\u001b[0mspawnb\u001b[0m\u001b[0;34m(\u001b[0m\u001b[0mself\u001b[0m\u001b[0;34m.\u001b[0m\u001b[0msh\u001b[0m\u001b[0;34m,\u001b[0m \u001b[0margs\u001b[0m\u001b[0;34m=\u001b[0m\u001b[0;34m[\u001b[0m\u001b[0;34m'-c'\u001b[0m\u001b[0;34m,\u001b[0m \u001b[0mcmd\u001b[0m\u001b[0;34m]\u001b[0m\u001b[0;34m)\u001b[0m \u001b[0;31m# Pexpect-U\u001b[0m\u001b[0;34m\u001b[0m\u001b[0m\n\u001b[1;32m    156\u001b[0m             \u001b[0;32melse\u001b[0m\u001b[0;34m:\u001b[0m\u001b[0;34m\u001b[0m\u001b[0m\n\u001b[0;32m--> 157\u001b[0;31m                 \u001b[0mchild\u001b[0m \u001b[0;34m=\u001b[0m \u001b[0mpexpect\u001b[0m\u001b[0;34m.\u001b[0m\u001b[0mspawn\u001b[0m\u001b[0;34m(\u001b[0m\u001b[0mself\u001b[0m\u001b[0;34m.\u001b[0m\u001b[0msh\u001b[0m\u001b[0;34m,\u001b[0m \u001b[0margs\u001b[0m\u001b[0;34m=\u001b[0m\u001b[0;34m[\u001b[0m\u001b[0;34m'-c'\u001b[0m\u001b[0;34m,\u001b[0m \u001b[0mcmd\u001b[0m\u001b[0;34m]\u001b[0m\u001b[0;34m)\u001b[0m  \u001b[0;31m# Vanilla Pexpect\u001b[0m\u001b[0;34m\u001b[0m\u001b[0m\n\u001b[0m\u001b[1;32m    158\u001b[0m             \u001b[0mflush\u001b[0m \u001b[0;34m=\u001b[0m \u001b[0msys\u001b[0m\u001b[0;34m.\u001b[0m\u001b[0mstdout\u001b[0m\u001b[0;34m.\u001b[0m\u001b[0mflush\u001b[0m\u001b[0;34m\u001b[0m\u001b[0m\n\u001b[1;32m    159\u001b[0m             \u001b[0;32mwhile\u001b[0m \u001b[0;32mTrue\u001b[0m\u001b[0;34m:\u001b[0m\u001b[0;34m\u001b[0m\u001b[0m\n",
      "\u001b[0;32m~/lib/python3.6/site-packages/IPython/utils/_process_posix.py\u001b[0m in \u001b[0;36msh\u001b[0;34m(self)\u001b[0m\n\u001b[1;32m     64\u001b[0m             \u001b[0mself\u001b[0m\u001b[0;34m.\u001b[0m\u001b[0m_sh\u001b[0m \u001b[0;34m=\u001b[0m \u001b[0mpexpect\u001b[0m\u001b[0;34m.\u001b[0m\u001b[0mwhich\u001b[0m\u001b[0;34m(\u001b[0m\u001b[0mshell_name\u001b[0m\u001b[0;34m)\u001b[0m\u001b[0;34m\u001b[0m\u001b[0m\n\u001b[1;32m     65\u001b[0m             \u001b[0;32mif\u001b[0m \u001b[0mself\u001b[0m\u001b[0;34m.\u001b[0m\u001b[0m_sh\u001b[0m \u001b[0;32mis\u001b[0m \u001b[0;32mNone\u001b[0m\u001b[0;34m:\u001b[0m\u001b[0;34m\u001b[0m\u001b[0m\n\u001b[0;32m---> 66\u001b[0;31m                 \u001b[0;32mraise\u001b[0m \u001b[0mOSError\u001b[0m\u001b[0;34m(\u001b[0m\u001b[0;34m'\"{}\" shell not found'\u001b[0m\u001b[0;34m.\u001b[0m\u001b[0mformat\u001b[0m\u001b[0;34m(\u001b[0m\u001b[0mshell_name\u001b[0m\u001b[0;34m)\u001b[0m\u001b[0;34m)\u001b[0m\u001b[0;34m\u001b[0m\u001b[0m\n\u001b[0m\u001b[1;32m     67\u001b[0m \u001b[0;34m\u001b[0m\u001b[0m\n\u001b[1;32m     68\u001b[0m         \u001b[0;32mreturn\u001b[0m \u001b[0mself\u001b[0m\u001b[0;34m.\u001b[0m\u001b[0m_sh\u001b[0m\u001b[0;34m\u001b[0m\u001b[0m\n",
      "\u001b[0;31mOSError\u001b[0m: \"/bin/sh\" shell not found"
     ]
    }
   ],
   "source": [
    "import numpy as np\n",
    "import matplotlib\n",
    "import matplotlib.pyplot as plt\n",
    "import random\n",
    "import time\n",
    "import copy\n",
    "import matplotlib.ticker as ticker\n",
    "\n",
    "from scipy.constants import Boltzmann, epsilon_0, elementary_charge\n",
    "from itertools import chain\n",
    "from matplotlib.colors import BoundaryNorm\n",
    "from matplotlib.colors import ListedColormap,LinearSegmentedColormap, TwoSlopeNorm\n",
    "from matplotlib import colors\n",
    "from matplotlib import cm\n",
    "from operator import indexOf\n",
    "from sqlalchemy import distinct\n",
    "from sympy import apart\n",
    "\n",
    "from numba import jit\n",
    "from numba.core.errors import NumbaDeprecationWarning, NumbaPendingDeprecationWarning\n",
    "import warnings\n",
    "\n",
    "start_time = time.time()\n",
    "epsilon_r = 78\n",
    "a_mono = (23.e-6)**2\n",
    "a_poly = (91.e-6)**2\n",
    "alpha_mono = elementary_charge**2 /(4 * np.pi * epsilon_0 * epsilon_r * a_mono)\n",
    "alpha_poly = alpha_mono * a_mono / a_poly"
   ]
  },
  {
   "cell_type": "code",
   "execution_count": null,
   "id": "c2cc40f2",
   "metadata": {},
   "outputs": [],
   "source": []
  },
  {
   "cell_type": "markdown",
   "id": "438978bc",
   "metadata": {},
   "source": [
    "# 1AB"
   ]
  },
  {
   "cell_type": "markdown",
   "id": "64a5e30d",
   "metadata": {},
   "source": [
    "Before implementing Monte Carlo there is a lot of preperations needed. We will start by initiating our physical system which will be an $N\\times N$ grid of integers. This matrix will work as our system of monomers in solvent. To quickly retract informations from our code we wanted to visulize these grids in an adequate way. "
   ]
  },
  {
   "cell_type": "code",
   "execution_count": null,
   "id": "435e0f08",
   "metadata": {},
   "outputs": [],
   "source": [
    "@jit(nopython=True)\n",
    "def createSystemOfMonomers(N, M):\n",
    "    grid = np.zeros((N,N))                                                  #Initializing grid of size NxN with all coeffisients being zero\n",
    "\n",
    "    distinctValues = np.arange(-M, M + 1)                                   #Initializing numpay array with evry integer between -M and M\n",
    "    newDistinctValues = np.delete(distinctValues, M)                        #Deletes the element with index M, which is 0. \n",
    "    np.random.shuffle(newDistinctValues)                                    #Randomly shuffelig the distinct values of the monomer \n",
    "\n",
    "    count = 0\n",
    "\n",
    "    while count < 2 * M:                                                    #Using the random library to place monomers with distinct values one by one\n",
    "        x_value = random.randint(0, N-1)\n",
    "        y_value = random.randint(0, N-1)\n",
    "\n",
    "        if grid[y_value][x_value] == 0:\n",
    "            grid[y_value][x_value] = newDistinctValues[count]\n",
    "            count += 1\n",
    "\n",
    "    locations = np.argwhere(grid)                                           #Returns an array with the coordinates of nonzero values \n",
    "                                                                            #of all the monomers in the grid\n",
    "    return grid, locations                                              \n",
    "\n",
    "\n",
    "def checkMonomers(grid, M):                                                 #Checking if system contains 2 x M monomeres\n",
    "    nonZeroGrid = np.argwhere(grid)\n",
    "\n",
    "    numberOfMonomers = len(list(nonZeroGrid))\n",
    "\n",
    "    if numberOfMonomers == 2*M:\n",
    "        print(\"Has 2M monomers in system\")\n",
    "\n",
    "    elif numberOfMonomers < 2*M:\n",
    "        print(\"Has less than 2M monomers in system\")\n",
    "        \n",
    "    else:\n",
    "        print(\"Has more than 2M monomers in system\")\n",
    "\n",
    "\n",
    "def plotSystems(grids, info, title):\n",
    "    numPlots = len(grids)\n",
    "    a = (23.e-6)**2\n",
    "\n",
    "    titleString = list()\n",
    "    for i in range(0, numPlots):\n",
    "        n = len(grids[i])\n",
    "        titleString.append(info[0][i] + f\", N = {n}\")\n",
    "        if info[1][i] != 0:\n",
    "            titleString[i] += f\", $N_s$ = {info[1][i]}\"\n",
    "        if info[2][i] != 0:\n",
    "            titleString[i] += f\", M = {info[2][i]}\"\n",
    "        if info[3][i] != 0:\n",
    "            titleString[i] += f\", T = {info[3][i]}\"\n",
    "        if info[4][i] != 0:\n",
    "            titleString[i] += f\", L = {info[4][i]}\"\n",
    "\n",
    "    if len(grids) == 1:\n",
    "        fig, axs = plt.subplots(1,1, figsize=(8, 8))\n",
    "        axs = [axs,axs]\n",
    "    else:\n",
    "        fig, axs = plt.subplots(1,numPlots, figsize=(7*numPlots, 7))\n",
    "    fig.subplots_adjust(top=0.8, wspace=0.3)\n",
    "    fig.suptitle(title, fontsize=16)\n",
    "\n",
    "    backgroundColor = \"paleturquoise\"\n",
    "    for i in range(0,numPlots):\n",
    "        if info[5][i] == True:\n",
    "            vnorm = TwoSlopeNorm(vcenter = 0.)\n",
    "            grids[i] = np.ma.masked_where(grids[i] == 0., grids[i])\n",
    "            cmap = cm.get_cmap(\"twilight_shifted\").copy()\n",
    "            cmap.set_bad(color=backgroundColor)\n",
    "            im = axs[i].pcolormesh(grids[i][::-1], cmap=cmap, norm=vnorm)\n",
    "        elif info[6][i] == True:\n",
    "            a = (91.e-6)**2\n",
    "            vnorm = TwoSlopeNorm(vcenter = 0.)\n",
    "            grids[i] = np.ma.masked_where(grids[i] == 0., grids[i])\n",
    "            cmap = cm.get_cmap(\"PRGn\").copy()\n",
    "            cmap.set_bad(color=backgroundColor)\n",
    "            im = axs[i].pcolormesh(grids[i][::-1], cmap=cmap, norm=vnorm)\n",
    "        else:\n",
    "            cmap = colors.ListedColormap([\"purple\",backgroundColor,\"g\"])\n",
    "            im = axs[i].pcolormesh(grids[i][::-1], vmin= -1, vmax= 1, cmap=cmap)\n",
    "\n",
    "        axs[i].set_title(titleString[i])\n",
    "        axs[i].set(xlabel=f\"all units in a = {a}m\")\n",
    "    #fig.show()"
   ]
  },
  {
   "cell_type": "markdown",
   "id": "458e6bf8",
   "metadata": {},
   "source": [
    "The first algorithem, createSystemOfMonomers(N, M) takes two arguments: $N$ and $M$. These represent a given grid size and the amount of monomers, respectively.\n",
    "The initilazation of an empty NxN grid is done by numpy.zeros([N,N]). Which creates an $N\\times N$ grid with all zeros. Furthermore it creates an array containing all of the possible values of the monomers in the system i.e. [-M, -M+1, ..., 0, ..., M-1, M]. Since the solvent is given the value 0, numpy.delete() is used to remove 0 from the array containg the distinct values of the monomers. The sign of each of the values represent the electrostatic charge of each of the given monomers.\n",
    "\n",
    "To provide a random grid of monomers the algorithm implements the numpy.random.shuffle() to make sure the distinct values will be placed arbitrary. \n",
    "\n",
    "The implementation of a while loop in conjuction with an if statement is done to assure no monomer is placed upon another. The random.randint() built in function is used to generate random pairs of coordinates which is to be considered for the placement of a monomer. If such a pair of coordinates is allready occupied by a monomer, the if statement inside the while loop assures the generation of another such pair until a legal placement is obtained.\n",
    "\n",
    "When all of the monomers is placed in the grid, the function numpy.argwhere() returns an array containing the specific coordinates for the monomers in the grid. This array is sorted along the first axis.\n",
    "\n",
    "The second algorithm, checkMonomers(grid, M), utilizes argwhere() to gather data on monomer positions. By checking the size of the returning array, the function can know how many monomers are placed. The functions confirmes or declines that the grid indeed contains $2M$ monomers, by printing an appropriate string. \n",
    "\n",
    "\n",
    "The third function, plotSystems(grids, info, title), is the plotting function. It takes in a list of grids, a 2d list of informantion and values for each grid, and the title for all plots. Firstly the functions initializes the number of grids to plot and the distance between each grid points for monomers. Secondly we create the title for each subplot; we add the subplot tile together with the value of $N$. From the 2d info list we get the values for $N_s$, $M$, $T$ and $L$. We add these to the subplot title if they are nonzero.\n",
    "\n",
    "Furthermore the function create subplots for each grid by using plt.subplots(). When only creating one subplot, axs will be a single element and not a list. Therefore an exception is needed when plotting a single grid. Using figsize, subplots_adjust and suptitle we adjust the sizes and distanses between the subplots and add a title for the whole figure.\n",
    "\n",
    "To be consistent with the example provided, the solvent is set to always be \"Paleturquoise\" There are three different ways to color the systems, either a clustered grid with distinct positive values, a polymer system with $M$ positive and $M$ negative polymers with shades of green and purple, or simple monomers with positive or negative charges, thus green and purple color. By altering the last arguments in \"info\" one can adjust the colors to best fit the system.\n",
    "\n",
    "The result is a figure with up to four plots on line with their assigned relevant values above each subplot as well as the unit of measurement below."
   ]
  },
  {
   "cell_type": "code",
   "execution_count": null,
   "id": "6ff8d0f1",
   "metadata": {},
   "outputs": [],
   "source": [
    "N = 15\n",
    "M = 10\n",
    "\n",
    "grid, locations = createSystemOfMonomers(N, M)\n",
    "checkMonomers(grid, M)\n",
    "\n",
    "info = [[\"Initial\"],[0],[M],[0],[0],[False],[False]]\n",
    "\n",
    "plotSystems([grid], info, \"A first system of monomers\")"
   ]
  },
  {
   "cell_type": "markdown",
   "id": "394c517d",
   "metadata": {},
   "source": [
    "This will work is our physical system. Green square are monomers with positive charge and vice versa for purple. The paleturquoise will showcase solvent positions in the cell."
   ]
  },
  {
   "cell_type": "markdown",
   "id": "7d42b136",
   "metadata": {},
   "source": [
    "# 1CDE"
   ]
  },
  {
   "cell_type": "markdown",
   "id": "b2cbddb7",
   "metadata": {},
   "source": [
    "**Wind of change**\n",
    "\n",
    "\n",
    "Thus far we have initialized a matrix of numbers, which represents our system of monomers, and an convenient way to visualize the grid. The next step is to turn this system into life by implementing the described Monte Carlo simuluation with the Metropolis algorithm. Some handy functions needed be defined beforehand. "
   ]
  },
  {
   "cell_type": "code",
   "execution_count": null,
   "id": "2be77d72",
   "metadata": {},
   "outputs": [],
   "source": [
    "@jit(nopython=True)\n",
    "def findNeighbours(N, y, x):                  \n",
    "    neighbours = np.zeros((4,2))\n",
    "    \n",
    "    neighbours[0] = [int(y), int((x + 1) % N)]\n",
    "    neighbours[1] = [int(y), int((x - 1) % N)]\n",
    "    neighbours[2] = [int((y + 1) % N), int(x)]\n",
    "    neighbours[3] = [int((y - 1) % N),int(x)] \n",
    "    \n",
    "    return neighbours\n",
    "\n",
    "\n",
    "@jit(nopython=True)\n",
    "def totalEnergy(grid):\n",
    "    N = len(grid)                                     \n",
    "    energy = 0\n",
    "                                                            \n",
    "    locations = np.argwhere(grid != 0)\n",
    "\n",
    "    for i in range(len(locations)):\n",
    "        neighbours =  findNeighbours(N, locations[i][0], locations[i][1])\n",
    "        \n",
    "        for j in range(len(neighbours)):\n",
    "            \n",
    "            if grid[int(neighbours[j][0])][int(neighbours[j][1])] != 0:\n",
    "                energy += np.sign(grid[int(locations[i][0])][int(locations[i][1])] * grid[int(neighbours[j][0])][int(neighbours[j][1])])\n",
    "\n",
    "    return energy * alpha_mono / 2\n",
    "\n",
    "    \n",
    "@jit(nopython=True)\n",
    "def move_monomer_fast(grid, monomer_value, direction):\n",
    "    monomer_coordinates = np.argwhere(grid == monomer_value)[0]\n",
    "\n",
    "    N = grid.shape[0]\n",
    "    array_of_all_neighbor_coordinates = findNeighbours(N=N, y=monomer_coordinates[0],x=monomer_coordinates[1])\n",
    "    \n",
    "    desired_neigbor_coordinate = array_of_all_neighbor_coordinates[direction]\n",
    "\n",
    "    if grid[int(desired_neigbor_coordinate[0])][int(desired_neigbor_coordinate[1])] == 0:\n",
    "        grid[int(desired_neigbor_coordinate[0])][int(desired_neigbor_coordinate[1])] = monomer_value\n",
    "        grid[int(monomer_coordinates[0])][int(monomer_coordinates[1])] = 0\n",
    "\n",
    "        \n",
    "\n",
    "@jit(nopython=True)\n",
    "def MC(N_s, N, M, T, initGrid=None, initial=True):\n",
    "    if initial == True:\n",
    "        grid, locations = createSystemOfMonomers(N,M)\n",
    "    else:\n",
    "        grid = initGrid\n",
    "        locations = np.argwhere(grid)\n",
    "        \n",
    "    initialGrid = np.copy(grid)\n",
    "\n",
    "    epsilon = np.zeros(N_s)\n",
    "\n",
    "    EnergyOfState = totalEnergy(grid)\n",
    "\n",
    "    epsilon[0] = EnergyOfState\n",
    "\n",
    "    for i in range(N_s):\n",
    "        oldGrid = grid.copy()\n",
    "        \n",
    "        choosenMonomer = 0\n",
    "\n",
    "        while choosenMonomer == 0:\n",
    "            choosenMonomer = np.random.randint(-M, M - 1)\n",
    "                \n",
    "        k = np.random.randint(0,3)\n",
    "\n",
    "        move_monomer_fast(grid, choosenMonomer, k)\n",
    "\n",
    "        EnergyOfState_new = totalEnergy(grid)\n",
    "\n",
    "        if EnergyOfState_new < EnergyOfState:\n",
    "            EnergyOfState = EnergyOfState_new\n",
    "                            \n",
    "        elif random.random() < np.exp(- (1 / (Boltzmann * T)) * (EnergyOfState_new - EnergyOfState)):  \n",
    "            EnergyOfState = EnergyOfState_new\n",
    "\n",
    "        else:\n",
    "            grid = oldGrid.copy()\n",
    "                    \n",
    "        epsilon[i] = EnergyOfState\n",
    "    \n",
    "    return grid, epsilon, initialGrid\n"
   ]
  },
  {
   "cell_type": "markdown",
   "id": "f6986b8d",
   "metadata": {},
   "source": [
    "findNeighbours(N, y, x) takes in $x$ and $y$ coordinates of a $N \\times N$ grid and returns an array with the four neigbours. With the given coordinates, the function iterates through the right/left by shifting first index 1 value ([i $\\pm$ 1, j]). Similarly for up and down. To make sure indecies won't exceed the grid range, the function \"mods\" out N in index entries, making the grid index loop around in all directions. The int() inside indecies makes it compatable with Numba JiT, since it doesn't suppert floats. \n",
    "\n",
    "totalEnergy(grid) returns a scalar value representing the energy state of the given grid argument. Using argwhere(), the funciton memorizes monomer locations. Iterating through every monomer, the function find their respective neighbours by findNeighbours(). If a given neighbour is a monomer, the code finds their signum value of the product of their number value in the grid. Lastly it sums all such contribution before returning. If monomers are neighbouring, both monomers will be iterated through. Both times their connection contribution are added, thus diving by $2$. Multiplication with $\\alpha$ to convert the sum to SI. \n",
    " \n",
    "\n",
    "move_monomer_fast(grid, monomer_value, direction) uses argwhere() to find position of the monomer with the given monomer_value. After finding its array of neighbours, it determine the new position of the monomer by the direction value. If that new position is unoccupied, its value updates whilst the initial position expunges. A valuable remark might be how the functions never returns any grids, It just directily updates the value in the grid.\n",
    "\n",
    "MC(N_s, N, M, T, initGrid=None, initial=True) is the funciton which executes steps in the grid. The arguments \"initGrid\" and \"initial\" are aguments given only when the Monte Carlo continues an already generated system of monomers. The if-else checks whether it shall continue or make a new system of monomers. To plot initial grid in the end, initialGrid copys the given grid argument. MC() also makes an array to keep track of the energy progression. \n",
    "\n",
    "For convenience reasons later, the function saves a copy of a grid before a move has been initiated. By randomly choosing a grid position untill the value is nonzero, the function finds a random monomer. Then randomly finding a number between $0$ and $3$ which determine a direction for the monomer. With move_monomer_fast() and totalEnergy() the function executes the move, gives an possible updated grid and calulates energy before and after. The If-elif-else chain goes thorugh the Metropolis algorithm. If the move suceeds, the updated grid becomes the new grid, else the function reverts the move by setting the grid equal the copied grid. The energy of the current grid is now extracted. MC() initiates a monomer move $N_s$ times, finally returning initial and final grid alongside an energy array.\n",
    "\n",
    "np.copy(grid) and grid.copy() allocation new memory. After using the usual \"$b$ = $a$\", variables may still be dependet by some memory alocation problem. Whilst changing up $b$, $a$ might also alter in the porcess. By giving such variables completely different memory, by some copy function, one can avoid such problems."
   ]
  },
  {
   "cell_type": "markdown",
   "id": "b3be879e",
   "metadata": {},
   "source": [
    "In the Monte Carlo simulations there is a chance for monomers to advance to a higher energy state. This probability, if first step is rejected, is given by $e^{-\\frac{\\Delta E}{k_B T}}$. If the monomer where to find a move which maintains the energy level, this probability will be 1. We have included this senario in our simulations to make the system more fluid. For reasons described later in the project, it is ideal to have an active system. Fewer iterations are needed inbetween systems to make grids \"independet\". Also we want \"lonely\" monomers to have a chance to move."
   ]
  },
  {
   "cell_type": "code",
   "execution_count": null,
   "id": "f2c5d3c9",
   "metadata": {},
   "outputs": [],
   "source": [
    "N = 15\n",
    "M = 10\n",
    "T = 10\n",
    "N_s = 1000\n",
    "\n",
    "grid, locations = createSystemOfMonomers(N, M)\n",
    "initialGrid = grid.copy()\n",
    "move_monomer_fast(grid, 1, 0)\n",
    "\n",
    "grids = [initialGrid, grid]\n",
    "info = [[\"Initial\", \"1 step right\"],[0,0],[M,M],[0,0],[0,0],[False,False],[False,False]]\n",
    "plotSystems(grids, info, \"move_monomer_fast\")\n",
    "\n",
    "grid, epsilon, initialGrid = MC(N_s, N, M, T)\n",
    "\n",
    "grids = [initialGrid, grid]\n",
    "info = [[\"Initial\", \"final\"],[0,0],[M,M],[T,T],[0,0],[False,False],[False,False]]\n",
    "plotSystems(grids, info, \"Monte Carlo with \" + f\"{N_s} steps\")\n",
    "\n",
    "t = np.linspace(0, len(epsilon) - 1, len(epsilon))\n",
    "\n",
    "plt.figure(figsize=(12,8))\n",
    "plt.title(\"Energy\")\n",
    "plt.plot(t, epsilon, \"r\", label = \"yey\")\n",
    "plt.xlabel(\"t\")\n",
    "plt.ylabel(\"Joule\")\n",
    "plt.show()"
   ]
  },
  {
   "cell_type": "markdown",
   "id": "9a6135e5",
   "metadata": {},
   "source": [
    "The first plots ilustrate a right move in the leftmost green monomer. The middle plots showcases an intial system of monomer and the result after iterating $1000$ moves. The latter graph ilustrates how energy varies through the iterations in the given system of monomers.\n"
   ]
  },
  {
   "cell_type": "markdown",
   "id": "48177f6c",
   "metadata": {},
   "source": [
    "# 1F"
   ]
  },
  {
   "cell_type": "markdown",
   "id": "106cbfcd",
   "metadata": {},
   "source": [
    "Now we want to examine how our Monte Carlo algorithm tranforms random systems of monomers. We will run two different simulations with different temperatures to compare different size. We have choosen $T_1 = 200 K$ and $T_2 = 500 K$ for testing purpose even though these numbers are unatural from a biological point of view. Thorughout the course of the Monte Carlo we will keep an eye on how energy develops over time."
   ]
  },
  {
   "cell_type": "code",
   "execution_count": null,
   "id": "dfa63a3c",
   "metadata": {},
   "outputs": [],
   "source": [
    "def plotEnergy(epsilon, title, n_s=0, m=0, t=0, l=0, comparison=False, epsilon2=0, t2=0, move=\"\", move2=\"\"): ###Trenger forklaring av alex####\n",
    "    t_val = np.linspace(0, len(epsilon) - 1 , len(epsilon)) ###hvorfor heter denne temp???\n",
    "    n = len(grid)\n",
    "\n",
    "    titleString = title + f\", N = {n}\"\n",
    "\n",
    "    if comparison == True:\n",
    "        if t2 == 0:\n",
    "            titleString = f\"Comparison between {move} and {move2} moves\"\n",
    "        else:\n",
    "            titleString = f\"Comparison between $T_1$ = {t} and $T_2$ = {t2}\"\n",
    "    if n_s != 0:\n",
    "        titleString += f\", $N_s$ = {n_s}\"\n",
    "    if m != 0:\n",
    "        titleString += f\", M = {m}\"\n",
    "    if t != 0 and comparison == False:\n",
    "        titleString += f\", T = {t}\"\n",
    "    if l != 0:\n",
    "        titleString += f\", L = {l}\"\n",
    "\n",
    "    if comparison == False:\n",
    "        label1 = f\"$E_{{{t}}}$(t)\"\n",
    "    else:\n",
    "        if t2 == 0:\n",
    "            label1 = f\"$E_{{{move}}}$(t)\"\n",
    "            label2 = f\"$E_{{{move2}}}$(t)\"\n",
    "        else:\n",
    "            label1 = f\"$E_{{{t}}}$(t)\"\n",
    "            label2 = f\"$E_{{{t2}}}$(t)\"\n",
    "\n",
    "    plt.figure(figsize=(12,8))\n",
    "    plt.title(titleString)\n",
    "    plt.plot(t_val, epsilon, \"r\", label=label1)\n",
    "    if comparison == True:\n",
    "        plt.plot(t_val, epsilon2, \"b\", label=label2)\n",
    "        plt.legend()\n",
    "    plt.xlabel(\"t\")\n",
    "    plt.ylabel(\"Joule\")\n",
    "    plt.show()"
   ]
  },
  {
   "cell_type": "markdown",
   "id": "6ef3bdd7",
   "metadata": {},
   "source": [
    "plotEnergy() is a fairly simple function for its sheer length. The functions creates an array with integers with the same length as epsilon. Since epsilon include the initial energy level, its length are $1$ bigger than amount of iterations. Meaning every the $i$-th energy has index position $i$. Therefore the second argument in linspace subtracts 1. The plots visualizes by utilizing some standard matplotlib.pyplot functions. \n",
    "\n",
    "#Alex med noen kjappe kommentarer om hvordan den funker"
   ]
  },
  {
   "cell_type": "markdown",
   "id": "3dc3cd64",
   "metadata": {},
   "source": [
    "To make sure we are just varying $1$ parameter at the time, we will be using the same initial position for both temperatures. "
   ]
  },
  {
   "cell_type": "code",
   "execution_count": null,
   "id": "e8027de4",
   "metadata": {},
   "outputs": [],
   "source": [
    "N_s =50000\n",
    "N = 15\n",
    "M = 25\n",
    "\n",
    "\n",
    "T1 = 200\n",
    "\n",
    "grid_200, epsilon_200, initialGrid_200 = MC(N_s, N, M, T1)\n",
    "grids = [initialGrid_200, grid_200]\n",
    "info = [[\"Initial\", \"Final\"],[0, N_s],[M, M],[T1, T1],[0, 0],[False, False],[False, False]]\n",
    "plotSystems(grids, info, f\"System of monomers after {N_s} steps with T = {T1}\")\n",
    "\n",
    "T2 = 500\n",
    "\n",
    "grid_500, epsilon_500, initialGrid_500 = MC(N_s, N, M, T2, initGrid = initialGrid_200, initial=False)\n",
    "grids = [initialGrid_500, grid_500]\n",
    "info = [[\"Initial\", \"Final\"],[0, N_s],[M, M],[T2, T2],[0, 0],[False, False],[False, False]]\n",
    "plotSystems(grids, info, f\"System of monomers after {N_s} steps with T = {T2}\")\n",
    "\n",
    "plotEnergy(epsilon_200, \"Energy comparison\", m=M, t=T1, comparison=True, epsilon2=epsilon_500, t2=T2)"
   ]
  },
  {
   "cell_type": "markdown",
   "id": "88439604",
   "metadata": {},
   "source": [
    "Inspection of the energy plot instantly gives that the energy of system of monomers decrease when temperature falls. The final plots displays why it is the case. For lower temperature, monomers prefers to group together with their opposite charge. Green monomers want purple neighbours, making a chess board grid. For the higher temperture the grouping phenomenon still happens, but not as frequent .\n",
    "\n",
    "These are a direct consequence of the metropolis algorithm. In a scalding enviroment monomers are more exposed to thermal fluxuation. In our model, the probability of a monomer moving to a higher energy state is given by $P(A)=e^{-\\frac{\\Delta E}{k_B T}}$ (If it didn't move to a lower state). Larger values of $T$ makes a total energy increase more likely. Moreover, in a freezing enviroment an increase in total energy is quite rare. We expect that higher temperatures will fluxuate around a higher energy level, which is illustrated in our plots.\n",
    "\n",
    "One can also observe that $t_{equil}$ is massive for small temperatures. An explaination might be that system with low temperatures are bearly active. The chances to increase system energy are slim whilst temperature is meager, thus the system may get stuck in a local minimum. To circumvent such behaviors, a lucky sequence of fluxuation may be neccessary to proceed. However, such chains are few and far between, indicating an enormous amount of iterations required to acchive equilibrium.\n",
    "\n",
    "An important remark is how energy for higher temperatures showcases more frenzy, supporting the fact that such systems are highly active. Even though the energy occilates around a mean, its \"amplitide\" is quick large. \n",
    "\n",
    "In our plot, the energy for the system of monomers in the freezing enviroment has a decreasing trend all the way, indicating that it yet has to reach its equilibrium. This supports our theory that lower temperatures need alot of iterations. In the scalding enviroment the energy seems to start to fluxuate around a stable value quickly. Already $6000$ iterations in the energy occilates. \n",
    "\n",
    "A possible explaination is a combination of the high equilibrium energy and that higher temperature have an larger \"interval of equilibrium\". In some sense the initial grid start within the equilibrium range. Thus needing few moves to reach it. "
   ]
  },
  {
   "cell_type": "markdown",
   "id": "94ce6639",
   "metadata": {},
   "source": [
    "# 1G"
   ]
  },
  {
   "cell_type": "markdown",
   "id": "5e9b5616",
   "metadata": {},
   "source": [
    "The previous plots showcased some kind of grouping of monomers, now we want to study it further. Thus far it seems as though lower temperatures gives huge clusters of monomers. To verify our hypothesis we will try finding a how clustering changing with temperature. First we need to implement some functions. "
   ]
  },
  {
   "cell_type": "code",
   "execution_count": null,
   "id": "71825af0",
   "metadata": {},
   "outputs": [],
   "source": [
    "@jit(nopython=True)\n",
    "def cluster(clusterGrid, N, k):\n",
    "    clusterGrid = clusterGrid.copy()\n",
    "    #clusterGrid = clusterGrid.astype(np.int64)\n",
    "    locationsOfMonomers = np.argwhere(clusterGrid)\n",
    "    \n",
    "    if k < len(locationsOfMonomers):\n",
    "        neighborsOfK = findNeighbours(N, locationsOfMonomers[k][0], locationsOfMonomers[k][1]).astype(np.int64)\n",
    "        \n",
    "        for element in neighborsOfK:\n",
    "            for i in range(len(locationsOfMonomers)):\n",
    "                if np.array_equal(locationsOfMonomers[i], element):\n",
    "                    clusterGrid = np.where(int(clusterGrid[int(element[0])][int(element[1])]) != clusterGrid, clusterGrid, clusterGrid[int(locationsOfMonomers[k][0])][int(locationsOfMonomers[k][1])])\n",
    "\n",
    "        return cluster(clusterGrid, N, k + 1)\n",
    "    \n",
    "    for i in range(-M, M):\n",
    "        if i != 0:\n",
    "            clusterGrid  = np.where(i != clusterGrid, clusterGrid, M + 10 * i)\n",
    "\n",
    "    clusterNumbers = np.unique(clusterGrid)\n",
    "    numberOfClusters = len(clusterNumbers) - 1\n",
    "\n",
    "    sizes = np.zeros(numberOfClusters + 1)\n",
    "    for i in range(len(clusterNumbers)):\n",
    "        for location in locationsOfMonomers:\n",
    "            if int(clusterGrid[int(location[0])][int(location[1])]) == int(clusterNumbers[i]):\n",
    "                sizes[i] += 1\n",
    "\n",
    "    return clusterGrid, numberOfClusters, sizes"
   ]
  },
  {
   "cell_type": "markdown",
   "id": "a89fd539",
   "metadata": {},
   "source": [
    "Cluster(clusterGrid, N, k) is a recursive functon, taking three arguments, the grid we want to modify, the grid size $N$ and the number of recursive steps in which the function already has preformed $k$.\n",
    "\n",
    "Every recursive step begins with the copying of the grid created by the last recursive step. Furthermore numpy.argwhere() is used to create a 2D array of the coordinates of the given monomers in the grid.\n",
    "\n",
    "The if-statement k $<$ len(locationsOfMonomers), assures that the amount of recursive steps done is no more than the amount of monomers in the grid. Whilst this assumption holds the function creats an array of the four nearest neighbours of the k-th monomer in the system. For each of these neighbouring locations it checks whether or not the location is already occupied by a monomer, by use of the numpy.array_equal() functon. If one of these neighbouring positions is allready occupied by a monomer, every monomer with the same specific value needs to be assigned the value of the k-th monomer. This is accomplished by numpy.where() which takes a specific value as input and changes each occurrence of this value into a new one.  \n",
    "\n",
    "This modified grid is then used as an argument when the function is run anew, this time with k = k + 1.\n",
    "\n",
    "When all of the recursive steps are run. The grid needs to be modified such that each cluster is assigend a unique positive value. This is done by a the use of a for-loop in conjuncion with np.where(). The if-statement is used to ensure the algorithem does not change the value of the solvent.\n",
    "\n",
    "np.unique(clusterGrid) returns an array containing each unique value in the grid. The value of the solvent, i.e zero, is also represented in this array. Therefore the amount of clusters in the grid can be obtained by reducing the length of this array by one, i.e len(clusterNumbers) - 1.\n",
    "\n",
    "For practical purposes the function should return an array containg the size of each of the clusters. To create this array the algorithem initiates an array of zeros with the same lenght as the array created by the np.unique() function. Furthermore the function runs through every value in the array containing the cluster numbers. For each of these values the algorithem checks whether or not each of the monomers in the grid is assigned the given cluster number. For every monomers which is assigned the cluster number of interest, the array containing the sizes is updated. The element in the array which is supposed to represent the amount of zeros in the grid will be set to zero since none of these coordinates is represented in the array containg the positions of monomers."
   ]
  },
  {
   "cell_type": "code",
   "execution_count": null,
   "id": "823c8611",
   "metadata": {},
   "outputs": [],
   "source": [
    "clusterGrid_200, numberOfClusters_200, clusterSizes_200 = cluster(grid_200, 15, 0)\n",
    "grids = [grid_200, clusterGrid_200]\n",
    "info = [[\"Initial\", \"Cluster grid\"],[0, N_s],[M, M],[T, T],[0, 0],[False, True],[False, False]]\n",
    "plotSystems(grids, info, f\"System after clustering after {N_s} steps with T = {T}\")\n",
    "\n",
    "\n",
    "clusterGrid_500, numberOfClusters_500, clusterSizes_500 = cluster(grid_500, 15, 0)\n",
    "grids = [grid_500, clusterGrid_500]\n",
    "info = [[\"Initial\", \"Cluster grid\"],[0, N_s],[M, M],[T2, T2],[0, 0],[False, True],[False, False]]\n",
    "plotSystems(grids, info, f\"System after clustering after {N_s} steps with T = {T2}\")"
   ]
  },
  {
   "cell_type": "markdown",
   "id": "ab4ccbe1",
   "metadata": {},
   "source": [
    "The above plots shows the formations of aggregats after our first MC-simulations. The plots indicated some close relationship between amount of clusters and temperature. Thus far it seems as though lower temperatures gives bigger and few clusters and vice verse for higher temperatures. To further pursue this correlation we will implement a function which runs multiple consecutive simulations for different tempertures. After reaching equilibrium we will gather information about clustersizes. \n",
    "\n",
    "\n",
    "Since there were too many unknown variables, we were unable to find $\\langle d \\rangle$ analytic. Through our simulations we found some empiric values to give an estimate for the expected value. We consider multiple estimators and found that mean of mean to be our best estimator. We will include some rigorous calculations to justify our choice of estimator. \n",
    "\n",
    "Both mean ($\\hat \\mu$) and double mean ($\\tilde \\mu$) are unbiased estimators of the expected value.\n",
    "$$\n",
    "\\begin{align*}\n",
    "E[\\hat \\mu] &= E \\bigg[ \\frac{1}{n} \\sum_{i=1}^n x_i \\bigg] = \\frac{1}{n} \\sum_{i=1}^n E[x_i] = \\frac{1}{n} \\sum_{i=1}^n \\mu = \\mu \\\\\n",
    "E[\\tilde \\mu] &= E \\bigg[ \\frac{1}{n} \\sum_{i=1}^{n} \\frac{1}{m_i} \\sum_{j=1}^{m_i} x_j \\bigg] = \\frac{1}{n}  \\sum_{i=1}^{n} \\frac{1}{m_i} \\sum_{j=1}^{m_i} E[x_j] = \\frac{1}{n} \\sum_{i=1}^{n} \\frac{m_i}{m_i}\\mu = \\frac{n}{n} \\mu = \\mu \\\\\n",
    "\\end{align*}\n",
    "$$\n",
    "however, the variance of the double mean ilustrates that the estimator gives a more precise estimate. \n",
    "\n",
    "$$\n",
    "\\begin{align*}\n",
    "Var[\\hat \\mu] &= Var \\bigg[ \\frac{1}{n} \\sum_{i=1}^{n} x_i \\bigg] = \\frac{1}{n^{2}} \\sum_{i=1}^{n} Var[x_i] = \\frac{1}{n^{2}} \\sum_{i=1}^{n} \\sigma^{2} = \\frac{\\sigma^{2}}{n} \\\\\n",
    "Var[\\tilde \\mu] &= Var \\bigg[ \\frac{1}{n} \\sum_{i=1}^{n} \\frac{1}{m_i} \\sum_{j=1}^{m_i} x_j \\bigg] = \\frac{1}{n^2}  \\sum_{i=1}^{n} \\frac{1}{m_i^2} \\sum_{j=1}^{m_i} Var[x_j] = \\frac{1}{n^2} \\sum_{i=1}^{n} \\frac{1}{m_i}\\sigma^2 = \\frac{\\sigma^2}{n^2} \\big(\\frac{1}{m_1} + \\frac{1}{m_2} + ... \\frac{1}{m_n}\\big) \\leq^{*} \\frac{\\sigma^2}{n} \\\\\n",
    "\\end{align*}\n",
    "$$\n",
    "and our claim follows\n",
    "\n",
    "Throughout the proof, we have assumed independency of the random variables. In * every fraction $\\frac{1}{m_i} \\leq 1$, since $m_i \\in \\mathbb{N}$. Therefore, the sum of $n$ such quotions must be smaller or equal to $n$. In practice, for reasonable temperatures, the system prefers mulitple clusters, meaning there is a considerable differance in variance.\n",
    "\n",
    "\n",
    "To study how monomers behave after the system fluzuate around it's equilibrium, we need som kind of way to determine when a system has reached its state of stability. Our optimistic procedure will be to predict a reasonable number of iterations are neccessary for a given a temperature. By assignment\n",
    "\n",
    "$$t_{equil}(T) = t_{max} e^{-s(T-T_l)} + C, \\quad \\textrm{for } T \\in [100, 1000]$$\n",
    "\n",
    "Where $s = \\frac{1}{200}$, $t_{max} = 100000$, $C = 10000$, $T_l = 100 K$\n",
    "\n",
    "After reaching the equilibrium we will iterate $t_r = 1000$ times inbetween each sample. By assignment, $1000$ iterations will be large enough to assume grids independet. We will be choosing $n=385$, giving us a large sample space. \n",
    "\n",
    "A common formula for finding sample size (SS) for infinite sample spaces is given by $$SS = \\frac{Z^2 p(p-1)}{M^2}$$, where $Z$ represents the score of the confidence level, $M$ is margin of error and $p$ is the population proportion. Since we have no idea what the $p$ is we will just assume it be $0.5$ since it gives the largest value. Plugging in $Z = 1.96$ which is the confidence score for $95$% and $M = 0.5$ gives that the sample space should be $384.16$ and our choice of $n$ follows. \n",
    "\n",
    "\n",
    "We are well awere that this model holds some disadvantages. After a spesific number of iteration, there is never a warranty that equilibrium is reached. Some initial grid may need alot more iteraions to get ready. Such systems gives \"early samples\" which may skew our results.\n",
    "\n",
    "\n",
    "Our algorithem is presented below."
   ]
  },
  {
   "cell_type": "markdown",
   "id": "210d96bb",
   "metadata": {},
   "source": [
    "# 1H"
   ]
  },
  {
   "cell_type": "code",
   "execution_count": null,
   "id": "c02bafd8",
   "metadata": {},
   "outputs": [],
   "source": [
    "from statistics import mean\n",
    "\n",
    "t_max = 100000\n",
    "s = 1/200\n",
    "C = 10000\n",
    "\n",
    "def t_equili(T, T_l):\n",
    "    return int(t_max * np.exp(- s * (T - T_l)) + C)\n",
    "\n",
    "\n",
    "def meanSize(N, M, T0, T1, n):\n",
    "    t_r = 1000\n",
    "    T = np.linspace(T0, T1, 10)\n",
    "    meanSize_t = list()\n",
    "    meanSTD_t = list() \n",
    "    diff_t = list()\n",
    "\n",
    "    for t in T:\n",
    "        t_eq = t_equili(t, T0)\n",
    "        N_s = t_eq + t_r * n\n",
    "        print(t_eq)\n",
    "\n",
    "        grid_eq, epsilon_eq, initialGrid = MC(t_eq, N, M, t)\n",
    "\n",
    "        grid_i = grid_eq\n",
    "        meanSize_i = list()\n",
    "        for i in range(n):\n",
    "            grid_i, epsilon_i, initialGrid = MC(t_r, N, M, t, initGrid=grid_i, initial=False)\n",
    "\n",
    "            grid_i = copy.copy(grid_i)\n",
    "            \n",
    "            clusterGrid, numberOfClusters, sizes = cluster(grid_i, N, 0)\n",
    "\n",
    "            meanSize_i.append(sum(sizes)/numberOfClusters)\n",
    "        diff_t.append(np.amax(meanSize_i) - mean(meanSize_i))\n",
    "        meanSTD_t.append(np.std(meanSize_i))\n",
    "        meanSize_t.append(mean(meanSize_i))\n",
    "\n",
    "    return T, meanSize_t, meanSTD_t, diff_t"
   ]
  },
  {
   "cell_type": "markdown",
   "id": "47a22ebb",
   "metadata": {},
   "source": [
    "$t_{equil}(T, T_l)$ takes two arguments, the given temperature we want to consider, $T$, and the lowest temperature we consider in our sample, $T_l$. The resulting value is the amount of time steps needed to reach equlibrium, considering our above model.\n",
    "\n",
    "The function meanSize(N, M, T0, T1, n) takes five arguments, the grid size, $N$, the amount of monomers in the system, $M$, the lowest and highest temperatures we want to consider, T0 and T1, respectivly, and $n$, the amount of meassurments we want to do while considering a given temperature.\n",
    "\n",
    "The function starts of defining $t_r$, the amount of MC steps required for two grids to be considered independent. Further the function creates an array of ten evenly spaced temperatures between the T0 and T1. This is done by using numpy.linspace() function. From here, the algorithem initiates an empty list which consecuently is to be updated with estimates of the expected cluster size for the given temperatures.\n",
    "\n",
    "A for-loop is used to run through each of the temperatures that is to be considered. For each of these temperatures t_equili is used to return the amount of Monte Carlo steps required to reach equilibrium for the given temperature. Furthermore the MC algorithem is used to initiate a grid and runs a simulation until the system reaches equilibrium.\n",
    "\n",
    "From here we implement our double mean estimator by initiating an empty list which in the end will contain the mean cluster size for each of the grids we meassure for a given temperature. \n",
    "\n",
    "To make n measurments a for-loop is used. For every computation the algorithem run t_r MC-steps on the grid that was lastly modefied. Further it uses the cluster algorithem to return the number of clusters in the grid and the size of these clusters. From here the function computes the mean of the array containg the cluster sizes. Since the array containing sizes contains an additional zero, the mean can be computed using the built in sum() function and further deviding this sum by the amount of clusters in the grid. This value is appended to the list containing the mean cluster sizes for the given temperatur. When n such values is appended to the list. The function mean() is used to calculate the mean of the n meassurments done for each temperature. This mean value is appended to the list containg our estimate for the expected cluster size. When this is done for every temperature, the list containg every estimate is returned."
   ]
  },
  {
   "cell_type": "code",
   "execution_count": null,
   "id": "6d16be9f",
   "metadata": {},
   "outputs": [],
   "source": [
    "n = 385\n",
    "N = 15\n",
    "M = 25\n",
    "T0 = 100\n",
    "T1 = 1000\n",
    "\n",
    "T, d, std, diff = meanSize(N, M, T0, T1, n)\n",
    "\n",
    "plt.title(r\"$\\langle{d}\\rangle$ after $t_{equil}$,\"+f\" with {n} samples between $T_0$={T0} and $T_1$={T1}\")\n",
    "plt.plot(T, d)\n",
    "plt.xlabel(\"T\")\n",
    "plt.ylabel(r\"$\\langle{d}\\rangle$\")\n",
    "plt.show()\n",
    "    \n",
    "plt.title(r\"Standard deviation of $\\langle{d}\\rangle$ as function of temperature\")\n",
    "plt.plot(T, std)\n",
    "plt.xlabel(\"T\")\n",
    "plt.ylabel(r\"Standard deviation of $\\langle{d}\\rangle$\")\n",
    "plt.show()\n",
    "    \n",
    "plt.title(r\"Difference between mean and most extreme value as function of temperature\")\n",
    "plt.plot(T, diff)\n",
    "plt.xlabel(\"T\")\n",
    "plt.ylabel(r\"Difference\")\n",
    "plt.show()"
   ]
  },
  {
   "cell_type": "markdown",
   "id": "7f2ab971",
   "metadata": {},
   "source": [
    "From our plots indicates that our intiuation were true, giving a monotonic decrease with cluster size with respect to temperature. As we have seen before, freezing enviroments will fluxuate around a low energy state. Opposite neighbour charges gives the highest negativ energy contribution, meaning monomers is merged together like a chess board grid. Such systems will only have a few such blobes, meaning the cluster sizes will be enormous. Our graphs illustraed our presumption quite well. \n",
    "\n",
    "\n",
    "Whilst we only present a single final plot, the graph structure is consistent. By empiric results and by the calculation we did earlier we will deem our $n$ representative. \n",
    "\n",
    "As earlier mentioned, there is never a garantee that we have reached the equilibrium after a set number of iterations, especially for lower temperatures. \"Good\" initial grid may be very significant to take representative samples after $t_{equil}$ iterations. Consecutive early samples may skew the results. This is only a concern for small temperatures since hotter enviroments reach equildirum quickly.\n",
    "\n",
    "Any results surprising, redo the simulation, discrepancy. "
   ]
  },
  {
   "cell_type": "markdown",
   "id": "5856e7dc",
   "metadata": {},
   "source": [
    "\n",
    "**Discrepancy of low temperatures**\n",
    "\n",
    "As earlier mentiond, initial grids are very important. need to reach equilibrium. "
   ]
  },
  {
   "cell_type": "markdown",
   "id": "10b68bf0",
   "metadata": {},
   "source": [
    "# Polymer"
   ]
  },
  {
   "cell_type": "markdown",
   "id": "0d88e2b0",
   "metadata": {},
   "source": [
    "Monomers often combine with eachother to make bigger structurs, namely polymers. By covalent bonds, monomers of the same charge may amalgamate into huge blobs. We will now turn our attention into those structures. \n",
    "\n",
    "Our system will slightly differ from our monomer case. Our initial length will, by assignment, will be $a = (91.e-6)^2 m$. the releativ permativity will be presserved. $\\varepsilon_r = 78$\n",
    "\n",
    "There will also be some minor change ups while calculating energy of polymers. Polymers will operate as single organisms. While caluclating energy for polymer, we will be using the same model for energy contribution between monomers which neighbour a monomer from another polymer. Monomers within the same polymer will play no part in our energy calculation.\n",
    "\n",
    "Before studying such systems we need some way to generate grids to represent polymers in solvent. We revised our createSystemOfMonomers() and changed up some simple argument, of which we added an argument for multivalency L, to make it initiate polymers instead. $L$ will represent how many monomers fill a polymer. For simplisity, we will assume polymer size invariant. "
   ]
  },
  {
   "cell_type": "code",
   "execution_count": null,
   "id": "df8a5f00",
   "metadata": {},
   "outputs": [],
   "source": [
    "def illegalPlacement(x, y, grid):                                                       #Function returnning whether or not a location is already \n",
    "    if grid[y][x] != 0:                                                                 #occupied by a monomer\n",
    "        return True\n",
    "    else:\n",
    "        return False                                                                                  \n",
    "   \n",
    "def randomMonomer(N):                                                                   #Function returning a random set of coordinates in a grid of size NxN\n",
    "    return random.randint(0, N-1), random.randint(0, N-1)\n",
    "\n",
    "def findRandomNeighbor(existingPositions, N, grid):                                     #Function returning a random set of coordinates in which a given polymer is to be expanded to\n",
    "    allowedPositions = list()                                                          \n",
    "    for i in range(len(existingPositions)):                                              #existingPositions contains coordinates for evry monomer in a given polymer\n",
    "                                                                                         #each non occupied neighboring position is added to a list of allowed positions\n",
    "        x, y = existingPositions[i]\n",
    "        if grid[y][(x + 1)%N] == 0:\n",
    "            allowedPositions.append([(x + 1)%N, y])\n",
    "        if grid[y][(x - 1)%N] == 0:\n",
    "            allowedPositions.append([(x - 1)%N, y])\n",
    "        if grid[(y + 1)%N][x] == 0:\n",
    "            allowedPositions.append([x, (y + 1)%N])\n",
    "        if grid[(y - 1)%N][x] == 0:\n",
    "            allowedPositions.append([x, (y - 1)%N])\n",
    "  \n",
    "    uniqueAllowedPositions = [] # Removes duplicates\n",
    "    for item in allowedPositions: \n",
    "        if item not in uniqueAllowedPositions:\n",
    "            uniqueAllowedPositions.append(item)\n",
    "\n",
    "    randomIndex = random.randint(0, len(uniqueAllowedPositions)-1)                         #One random  position is chosen out of these unique positions\n",
    "    x, y = uniqueAllowedPositions[randomIndex]\n",
    "    return x, y\n",
    "\n",
    "\n",
    "def createSystemOfPolymers(N, M, L):                                                       #Algorithem returning a grid containing a polymer system\n",
    "    grid = np.zeros([N, N])                                                                #Initializing a empty grid of size NxN\n",
    "    unique_M = chain(range(-M, 0), range(1, M+1))                                          #Creating a list of integers between -M and M, excluding zero.\n",
    "\n",
    "    for i in unique_M:                                                                     #Initializing the construction of polymer number i in unique_M\n",
    "        ran_x, ran_y = randomMonomer(N)\n",
    "        while illegalPlacement(ran_x, ran_y, grid):\n",
    "            ran_x, ran_y = randomMonomer(N)\n",
    "        \n",
    "        randomPosition = [ran_x, ran_y]\n",
    "        grid[ran_y][ran_x] = i\n",
    "        \n",
    "        monomerPositionArray = list()\n",
    "        monomerPositionArray.append(randomPosition)\n",
    "          \n",
    "        for j in range(1, L):                                                               #Placing L - 1 monomers to form a polymer.\n",
    "            try:                                                                            #Using try and except statement to avoid the formation of a polymer \n",
    "                x, y = findRandomNeighbor(monomerPositionArray, N, grid)                    #in wich L monomers cannot be forged\n",
    "            except ValueError:\n",
    "                print(\"fail\")\n",
    "                return createSystemOfPolymers(N,M,L)\n",
    "            \n",
    "            monomerPositionArray.append([x, y])\n",
    "            grid[y][x] = i\n",
    "    return grid"
   ]
  },
  {
   "cell_type": "markdown",
   "id": "7d6dac5f",
   "metadata": {},
   "source": [
    "The function illegalPlacement(x, y, grid) takes x and y coordinates and a given grid of interest as input. The function uses an if-else statement to check wheter or not the given coordinates is already occupied by a monomer. If the location is already occupied the function returns True, whilst the function returns False in the opposite scenario.\n",
    "\n",
    "randomMonomer(N) returns x and y coordinates each being a random integer on the intervall [0, N-1].\n",
    "\n",
    "findRandomNeighbor(existingPositions, N, grid) is the function which locates a position in which a given polymer under construction is to expand in to. It takes as input an array containg the already existing locations of the monomers making up the polymer, the grid size N and the grid of interest. By iterating thorugh existing monomer position and checking if the position is occupied, the function creates and returns a list which contain all neighbouring coordinates. By our randomness, this list will be filtrated, meaning every legal space will have an equal chance to convert. \n",
    "\n",
    "\n",
    "Combining all function above, createSystemOfPolymers(N, M, L) can initialize a system of polymers. In addition to the usual arguments, $N$ and $M$, the functions call for a polymer size $L$. By np.zeros() and chain(), it makes an empty matrix grid and a list from $-M$ to $M$ exclusing zero. \n",
    "\n",
    "createSystemOfPolymers() places polymers one by one. By iterating thorugh the list of distinct values, one monomer i placed before searching for neighbours and placing another. The process repeates until $L$ monomers of the given value is put down before it moves into the next polymer value. Finally finishing returning the grid when every polymer is put down. \n",
    "\n",
    "Placing an initial monomer and expanding it might lead to some problems. If polymers were to cage in a small sector where a polymer don't have enough space to fully forge. A while loop will eventually crash when there are no neighbours, giving a \"ValueError\". To correct this, the coded initiates a try-except statement where the createSystemOfPolymers() runs itself recursive if it fails, meaning it will create new systems of polymers untill it secceeds. Thus guaranteeing a returning legal grid."
   ]
  },
  {
   "cell_type": "markdown",
   "id": "5c8aece6",
   "metadata": {},
   "source": [
    "**Randomness of creating polymers**\n",
    "\n",
    "When initilizing a system of polymers, we considered two diffrent ways to randomize its positions.\n",
    "\n",
    "Say a polymer where to make an L-shaped during initializing. Some legal spaces will be neighbouring multiple monomers. Some might say it is more natural that this space have higher chance to convert to a monomer. However in our model, we have decided to filtrate the list by removing duplicates, meaning every legal space has an equal chance. The other model is just a quick fix away. We have marked what code needs to be removed to introduce the other randomness."
   ]
  },
  {
   "cell_type": "code",
   "execution_count": null,
   "id": "8938a9a3",
   "metadata": {},
   "outputs": [],
   "source": [
    "N = 20\n",
    "M = 2\n",
    "L = 21\n",
    "\n",
    "grid_poly_1 = createSystemOfPolymers(N, M, L)\n",
    "grids = [grid_poly_1]\n",
    "info = [[\"Initial\"], [0], [M], [0], [L],[False],[True]]\n",
    "plotSystems(grids, info, f\"Initial polymer system with L > 20\")"
   ]
  },
  {
   "cell_type": "markdown",
   "id": "3c64bc98",
   "metadata": {},
   "source": [
    "To be able to do Monte Carlo simulations for polymer system, we need to extend our energy function and make it possible for polymers to move freely around in a grid. We will starte by implementing a function which moves polymers in a rigid fashion. \n",
    "\n",
    "While programming the code, we have to keep in mind that only monomers from different polymers will contribute to the energy level. We will keep the condition saying monomers have to be nearest neighbours. \n",
    "\n",
    "Following is the modified energy function and the function moving the polymers."
   ]
  },
  {
   "cell_type": "code",
   "execution_count": null,
   "id": "e814ed35",
   "metadata": {},
   "outputs": [],
   "source": [
    "@jit(nopython=True)\n",
    "def inArray(arr, obj):                                                                          #Function check whether or not an array with length \n",
    "                                                                                                #two is contained in a 2D array\n",
    "    inArr = False                                                                               #Initial assumption: object not in array.\n",
    "    for pos in arr:                                                                             #Iterating through every array containd in the array of interest \n",
    "        if np.array_equal(pos, obj):                                                            #returning True if the object is equal to a specific position in the array of interest\n",
    "            inArr = True\n",
    "    return inArr\n",
    "\n",
    "\n",
    "@jit(nopython=True)\n",
    "def totalEnergyPolymerSystem(grid):                                                             \n",
    "    energy = 0                                                                                  #initial energy set to 0\n",
    "                                                            \n",
    "    non_zero_indexes = np.argwhere(grid)                                                        #finding coordinates of all nonzero entries of the grid\n",
    "\n",
    "    for i in range(len(non_zero_indexes)):                                                      \n",
    "        neighbours =  findNeighbours(len(grid), non_zero_indexes[i][0], non_zero_indexes[i][1]) #Creating an array containg the neighbouring positions of each of the different monomers in the grid\n",
    "\n",
    "        for j in range(len(non_zero_indexes)):                                                  #iterating through each of these neighbouring positions \n",
    "\n",
    "            if inArray(neighbours, np.array([int(non_zero_indexes[j][0]), int(non_zero_indexes[j][1])])) and np.not_equal(grid[int(non_zero_indexes[i][0])][int(non_zero_indexes[i][1])], grid[int(non_zero_indexes[j][0])][int(non_zero_indexes[j][1])]):\n",
    "                energy += np.sign(grid[int(non_zero_indexes[i][0])][int(non_zero_indexes[i][1])] * grid[int(non_zero_indexes[j][0])][int(non_zero_indexes[j][1])])                      #If the neighbouring location contains a monomer from another polymer,\n",
    "                                                                                                                                                                                        #the energy is affected per usual                        \n",
    "    return energy * alpha_poly / 2 #Dividing by 2 to cancel out overlap\n",
    "\n",
    "@jit(nopython=True)\n",
    "def rigidMove(k, direction, grid):                                         \n",
    "    newGrid = grid.copy()                                                   #Making a copy of the system\n",
    "    isolatedGrid = np.zeros((N,N))                                          #initializing an empty grid \n",
    "    locationOfMonomers = np.argwhere(grid)                                  #Creating an array containg the locations of evert monomer in the system\n",
    "\n",
    "    for y, x in locationOfMonomers:                                         #Running through every location in the array of occupied locations\n",
    "        if grid[y, x] == k:                                                 #Moving all of the monomers belong to polymer with number k into isolatedGrid,\n",
    "            newGrid[y, x] = 0                                               #whilst removing them from the initial grid\n",
    "            isolatedGrid[y, x] = k\n",
    "\n",
    "    if direction == 0: #right                                               #For each of the four directions we move the polymer in the isolatedGrid\n",
    "        for i in range(len(isolatedGrid)):\n",
    "            isolatedGrid[i] = np.roll(isolatedGrid[i], 1)\n",
    "\n",
    "    if direction == 1: #left\n",
    "        for i in range(len(isolatedGrid)):\n",
    "            isolatedGrid[i] = np.roll(isolatedGrid[i], -1)\n",
    "\n",
    "    if direction == 2: #down\n",
    "        isolatedGrid2 = np.transpose(isolatedGrid)\n",
    "        for i in range(len(isolatedGrid2)):\n",
    "            isolatedGrid2[i] = np.roll(isolatedGrid2[i], 1)\n",
    "        isolatedGrid = np.transpose(isolatedGrid2)\n",
    "\n",
    "    if direction == 3: #up\n",
    "        isolatedGrid2 = np.transpose(isolatedGrid)\n",
    "        for i in range(len(isolatedGrid2)):\n",
    "            isolatedGrid2[i] = np.roll(isolatedGrid2[i], -1)\n",
    "        isolatedGrid = np.transpose(isolatedGrid2)\n",
    "\n",
    "    isolatedMonomers = np.argwhere(isolatedGrid)                            #Creating a list containg the occupied coordinates of the isolated grid, i.e the loactions of the polymer ofter the move\n",
    "\n",
    "    allowedMove = True                                                      #The move is legal is the initial assumption\n",
    "\n",
    "    for y, x in isolatedMonomers:                                           #Checking whether or not every monomer of the polymer moves to an empty location in the grid\n",
    "            if newGrid[y, x] != 0:                                          #If a monomer is placed upon another after the move, the move is not allowed\n",
    "                allowedMove = False\n",
    "                break\n",
    "    \n",
    "    if allowedMove == True:                                                 #If the move is allowed the function returns a grid with the polymer being moved\n",
    "        isolatedGrid = isolatedGrid.astype(np.int64)                        #If not the function returns the old grid\n",
    "        return newGrid + isolatedGrid\n",
    "    else:\n",
    "        return grid"
   ]
  },
  {
   "cell_type": "markdown",
   "id": "c8828013",
   "metadata": {},
   "source": [
    "The extended energy fucntion, totalEnergyPolymerSystem(grid), takes the grid which we are examining as input. The only modification done to the energy function is an additional requirement in the if statement. The extra requirement is to make sure there is no interaction between monomers belonging to the same polymer. This is done by using the numpay.not_equal() function, which takes two arrays and returns True if they are not the same. In the above case the function is done to check whether or not the values of the neighbouring monomer is different or not. If they are different the numpay.not_equal() returns True and the energy is affected per usual. \n",
    "\n",
    "rigidMove(k, direction, grid) takse three arguments, which one of the polymers that is supposed to move, $k$, in which direction the polymer should move, and the grid we are considering. The function starts of by copying the initial grid, creating an empty grid of size $N \\times N$ and using numpay.argwhere() to make an array containg the locations of every occupied position in the grid.\n",
    "\n",
    "From here the algorithem runs through every set of coordinates in occupied in the grid and removes the ones which value is equal to $k$. Each of these locations will then be updated in the empty grid, i.e the function transfers the polymer of number $k$ from the system into the empty grid. \n",
    "\n",
    "Further the algorithem uses numpay.roll() to move the polymer in the different directions. Usualy numpay.roll() is able to move the elements in the grid along all axis of the array. However this argument is not supported by Numba, so in the cases were the polymer is moving up or down, the system needs to be transposed before numpay.roll() is used to move the polymer in the given direction.\n",
    "\n",
    "When the polymer is moved, the algorithem creates an array containg the locations of the polymer after the given move. From here the function runs through each of the new locations the polymer is occupying and checks whether or not any of these positions is already occupied by a monomer of a different polymer. If this is the case the function returns the grid as it was before the move was initiated. However if the move is allowed the function returns the grid with the polymer being in its new position."
   ]
  },
  {
   "cell_type": "code",
   "execution_count": 7,
   "id": "8131ad38",
   "metadata": {},
   "outputs": [
    {
     "ename": "NameError",
     "evalue": "name 'createSystemOfPolymers' is not defined",
     "output_type": "error",
     "traceback": [
      "\u001b[0;31m---------------------------------------------------------------------------\u001b[0m",
      "\u001b[0;31mNameError\u001b[0m                                 Traceback (most recent call last)",
      "\u001b[0;32m<ipython-input-7-d278d0678ea7>\u001b[0m in \u001b[0;36m<module>\u001b[0;34m\u001b[0m\n\u001b[0;32m----> 1\u001b[0;31m \u001b[0mgrid_poly_1\u001b[0m \u001b[0;34m=\u001b[0m \u001b[0mcreateSystemOfPolymers\u001b[0m\u001b[0;34m(\u001b[0m\u001b[0mN\u001b[0m\u001b[0;34m,\u001b[0m \u001b[0mM\u001b[0m\u001b[0;34m,\u001b[0m \u001b[0mL\u001b[0m\u001b[0;34m)\u001b[0m\u001b[0;34m\u001b[0m\u001b[0m\n\u001b[0m\u001b[1;32m      2\u001b[0m \u001b[0mgrid_poly_2\u001b[0m \u001b[0;34m=\u001b[0m \u001b[0mrigidMove\u001b[0m\u001b[0;34m(\u001b[0m\u001b[0;36m1\u001b[0m\u001b[0;34m,\u001b[0m\u001b[0;36m0\u001b[0m\u001b[0;34m,\u001b[0m\u001b[0mgrid_poly_1\u001b[0m\u001b[0;34m)\u001b[0m\u001b[0;34m\u001b[0m\u001b[0m\n\u001b[1;32m      3\u001b[0m \u001b[0;34m\u001b[0m\u001b[0m\n\u001b[1;32m      4\u001b[0m \u001b[0mgrids\u001b[0m \u001b[0;34m=\u001b[0m \u001b[0;34m[\u001b[0m\u001b[0mgrid_poly_1\u001b[0m\u001b[0;34m,\u001b[0m \u001b[0mgrid_poly_2\u001b[0m\u001b[0;34m]\u001b[0m\u001b[0;34m\u001b[0m\u001b[0m\n\u001b[1;32m      5\u001b[0m \u001b[0;34m\u001b[0m\u001b[0m\n",
      "\u001b[0;31mNameError\u001b[0m: name 'createSystemOfPolymers' is not defined"
     ]
    }
   ],
   "source": [
    "grid_poly_1 = createSystemOfPolymers(N, M, L)\n",
    "grid_poly_2 = rigidMove(1,0,grid_poly_1)\n",
    "\n",
    "grids = [grid_poly_1, grid_poly_2]\n",
    "\n",
    "info = [[\"Initial\", \"1 step right\"], [0,0], [M,M], [0,0], [L,L],[False,False],[True,True]]\n",
    "plotSystems(grids, info, \"rigidMove\")"
   ]
  },
  {
   "cell_type": "markdown",
   "id": "d92194ad",
   "metadata": {},
   "source": [
    "The plot showcases how the lime green polymer move the entire body one unit length to the right"
   ]
  },
  {
   "cell_type": "markdown",
   "id": "1715c0b1",
   "metadata": {},
   "source": [
    "# 2D"
   ]
  },
  {
   "cell_type": "markdown",
   "id": "afa5fc5e",
   "metadata": {},
   "source": [
    "#### Monte Carlo - Rigid move\n",
    "Furthermore we want to use the rigid move to run a Monte Carlo simulation for systems of polymers with the purpose that we later can investigate how the polymers of different charges behave.\n",
    "\n",
    "We are asked to run the MC simulation with $L>10$, $2<M<6$, $T=200$. We choose the size of the grid $N$ for ourselves.\n",
    "Here is our solution:"
   ]
  },
  {
   "cell_type": "code",
   "execution_count": null,
   "id": "17ad29db",
   "metadata": {},
   "outputs": [],
   "source": [
    "@jit(nopython=True)\n",
    "def MC_Polymers(N_s, grid, T, move=\"rigid\"):\n",
    "    initialGrid = grid.copy()                                   #Initial grid to return\n",
    "    \n",
    "    typeMove = np.array(3)\n",
    "    \n",
    "    epsilon = np.zeros(N_s)                                     #Empty array with length N_s\n",
    "    energyOfState = totalEnergyPolymerSystem(grid)              #Calculate energy for the initial grid\n",
    "    epsilon[0] = energyOfState                                  #First element in energy array\n",
    "\n",
    "    valuesOfPolymers = np.unique(grid)                          #Unique values for each polymer\n",
    "\n",
    "    directions = np.arange(0,3)                                 #Numbered directions\n",
    "\n",
    "    for i in range(N_s):                                        #Iterating N_s times\n",
    "        k = np.random.choice(valuesOfPolymers)                  #Choosing a random polymer\n",
    "        direction = np.random.choice(directions)                #Choosing a random direction\n",
    "    \n",
    "        oldGrid = grid.copy()                                   #Copying grid, need this if the polymers are not moving\n",
    "        if move == \"rigid\":                                     #If move type = rigid, rigid is standard in function parameter\n",
    "            newGrid = rigidMove(k, direction, grid)             #New grid with a random polymer moved a random direction using rigid move\n",
    "        elif move == \"flexibility\":                             #If move type = flexibility\n",
    "            newGrid = mediumFlexibilityMove(k, direction, grid) #New grid with a random polymer moved a random direction using medium flexibility move\n",
    "\n",
    "        energyOfState_temp = totalEnergyPolymerSystem(newGrid)  #Calculating temporary energy of state after movement\n",
    "        \n",
    "        if energyOfState_temp < energyOfState:                  #If energy after movement is lower than before movement. This is the most desirable movement.\n",
    "            grid = newGrid.copy()                               #Confirming movement, using this for the next MC step\n",
    "            energyOfState = energyOfState_temp                  #Confirming energy\n",
    "            typeMove[0] += 1\n",
    "\n",
    "        elif np.random.random() < np.exp(- (1 / (Boltzmann * T)) * (energyOfState_temp - energyOfState)):\n",
    "                                                                #Probability of making the move even if it does not achieve lower energy.\n",
    "            grid = newGrid.copy()                               #Confirming movement, using this for the next MC step   \n",
    "            energyOfState = energyOfState_temp                  #Confirming energy\n",
    "            typeMove[1] += 1\n",
    "\n",
    "        else:\n",
    "            grid = oldGrid.copy()                               #Cancels movement, setting next grid equal to previous grid\n",
    "            typeMove[2] += 1\n",
    "\n",
    "        epsilon[i] = energyOfState                              #Fills empty energy array with calculated energy for this MC step\n",
    "    \n",
    "    return grid, epsilon, typeMove                              #Returing grid after N_S steps and energy development array\n"
   ]
  },
  {
   "cell_type": "markdown",
   "id": "a033420b",
   "metadata": {},
   "source": [
    "The MC_Polymers function takes inn how many $N_s$ steps to perform, an initial polymer grid, and which type of movement. Standard is set to rigid.\n",
    "We use our previous size if $N=20$, as this is not too small such that there is no free moving space, as well as it is not too big for them not to reach eachother.\n",
    "The first part of this function is initializing. We use .copy() to create a copy of the initial grid and we create a list of arrays of length $N_s$ which will be filled with calculated energy for each MC step. This will be used to plot the energy development after $N_s$ steps. We calculate the initial energy of the grid and add this to our energy array. Numpys function unique is used to get each unique value for the polymers, in order that we can choose which polymer to move. We also create an array with numbered directions in the order: right, left, up, down.\n",
    "\n",
    "In the next part we will iterate $N_s$ times, where it for each step tests if the move is desireable.  first choose a random value $k$ and direction along with the rigid move to create a grid with a moved polymer. Secondly we calculate the temporary energy and check if the energy has lowered, this is the most desired move considering that lower potential energy is more stable. If this is the case, the grid will be updated with the desired move. If not, there is still a possibility that it will move towards a unfavorable direction, expressed as:\n",
    "$$p < \\exp(- \\frac{1}{\\beta\\Delta E})$$\n",
    "where $p$ is a random number between $0$ and $1$. This move is then realized, thus updating the next grid and energy element. If this is not the case either the polymers will not move and the grid stays the same, hence use the old grid. The energy element is then added to the energy array. Finally the function returns an array after repeating this process $N_s$ times together with the energy development.\n",
    "\n",
    "This is a run of our MC polymers after 30000 MC steps"
   ]
  },
  {
   "cell_type": "markdown",
   "id": "d842f0f0",
   "metadata": {},
   "source": [
    "# 2EF"
   ]
  },
  {
   "cell_type": "markdown",
   "id": "f6288f6c",
   "metadata": {},
   "source": [
    "The more flexible movements we are able to implement the more realistic is the simulations we are able to run. Therefore we needed to create a more flexibile type of movement for the polymers. We wanted to implement a move with medium flexibility, that is a function that moves every monomer in the polymer in the same horizontal (vertical) direction, but if there exist any monomer in a row (column) that is not able to move, the entire row (column) stays in place. To make this a viable movement we also needed a function to check wheter or not a polymer is broken. Both of these functions can be veiwed in the cell below."
   ]
  },
  {
   "cell_type": "code",
   "execution_count": null,
   "id": "f9d79141",
   "metadata": {},
   "outputs": [],
   "source": [
    "@jit(nopython=True)\n",
    "def isBroken(grid, N, k):\n",
    "    isolatedGrid = np.zeros((N,N))                                                          #Initializing empty grid of size NxN\n",
    "    locationOfMonomers = np.argwhere(grid)                                                  #Creating array containg locations of monomers in the grid\n",
    "\n",
    "    m = 1                                                                                   \n",
    "    for y, x in locationOfMonomers:                                                         #Moving each monomer which is part of the given polymer into the empty grid and assigning\n",
    "        if grid[y, x] == k:                                                                 #each one with an unique positive integer\n",
    "            isolatedGrid[y, x] = m\n",
    "            m += 1\n",
    "\n",
    "    clusterGrid, numberOfClusters, sizes = cluster(isolatedGrid, N, 0)                      #using the cluster function to return the amount of clusters in the grid containg the polymer of interest\n",
    "    if numberOfClusters > 1:                                                                #Checking whether or not the grid containg the polymer contains more than one cluster.\n",
    "        return True                                                                         #Return true if the polymer is broke\n",
    "    else:\n",
    "        return False\n",
    "\n",
    "@jit(nopython=True)\n",
    "def mediumFlexibilityMove(k, direction, grid):                                      \n",
    "    N = len(grid)                                                                           #Defining the grid size N\n",
    "    newGrid = grid.copy()                                                                   #Copying the grid\n",
    "    isolatedGrid = np.zeros((N,N))                                                          #Initializing a en empty grid of size NxN\n",
    "    locationOfMonomers = np.argwhere(grid)                                                  #Array containg every nonzero location in the grid \n",
    "\n",
    "    for y, x in locationOfMonomers:                                                         #Moving the polymer of interest into the isolated grid, whilst removing it from the grid given as input\n",
    "        if grid[y, x] == k:\n",
    "            newGrid[y, x] = 0\n",
    "            isolatedGrid[y, x] = k\n",
    "\n",
    "    if direction == 0: #right                                                               #Seting the parameter a = +-1 given the direction of movement\n",
    "        a = 1\n",
    "    \n",
    "    if direction == 1: #left\n",
    "        a = -1\n",
    "\n",
    "    if direction == 2: #down                                                                #Needing to transpose the grid in cases of movement in the second axis\n",
    "        a = 1\n",
    "        isolatedGrid = np.transpose(isolatedGrid)\n",
    "        newGrid = np.transpose(newGrid)\n",
    "\n",
    "    if direction == 3: #down\n",
    "        a = -1\n",
    "        isolatedGrid = np.transpose(isolatedGrid)\n",
    "        newGrid = np.transpose(newGrid)\n",
    "\n",
    "    locationOfMonomersOnLine = np.argwhere(isolatedGrid)                                     #creating a list of locations of monomers in the isolated grid\n",
    "    \n",
    "    for i in range(len(isolatedGrid)):                                                       #Tony forklar \n",
    "        move = True\n",
    "        for j in range(len(isolatedGrid[i])):\n",
    "            if not move:\n",
    "                break\n",
    "            for l in range(len(locationOfMonomersOnLine)):\n",
    "                if np.array_equal(locationOfMonomersOnLine[l], np.array([i,j])):\n",
    "                    if newGrid[i,(j + a)%N] != 0: #\n",
    "                        move = False\n",
    "                        break\n",
    "        if move:\n",
    "            isolatedGrid[i] = np.roll(isolatedGrid[i], a)\n",
    "                \n",
    "    if direction == 2 or direction == 3:\n",
    "        isolatedGrid = np.transpose(isolatedGrid)\n",
    "        newGrid = np.transpose(newGrid)\n",
    "\n",
    "    allowedMove = True\n",
    "\n",
    "    if isBroken(isolatedGrid,N,k):\n",
    "        allowedMove = False \n",
    "\n",
    "    if allowedMove == True:\n",
    "        return newGrid + isolatedGrid\n",
    "    else:\n",
    "        return grid"
   ]
  },
  {
   "cell_type": "markdown",
   "id": "d6535740",
   "metadata": {},
   "source": [
    "isBroken(grid, N, k) takes three inputs, the grid in whcih the movement is happening, the grid size N and the polymer of interest, k. In the same manner as the function rigidMove() this function starts off by initiating an empty grid of size NxN and creates an array containg the locations of the monomers in the system. Furthermore the function moves every location in the grid which is occupied by a monomer in polymer k to the isolated grid. All of these monomers is assigned a unique positive integer. From here the function cluster is used to return the amount of clusters there is in the isolated grid. If the amount of clusters are more than one the funstion returns True, since the polymer is broken. If the amount of clusters equal one, the function returns False.\n",
    "\n",
    "\n",
    "mediumFlexibilityMove(k, direction, grid) takes in the usual $k$, direction and grid to copys the grid to save the initial. By iterating through the grid, it deletes the polymer from the new grid while putting them int an isolated grid, where every other entry is $0$. By Numba restrictions, np.roll can only roll 1D-arrays sideways, making the function transpose the matrix for up and down movement. Then iterating though every row/column then every monomer, the function checks if the \"next square\" is occupied or not. If any monomer fail, the entire for-lopo for the row/column breaks before starting a new line. Lastly, by isBroken(), it checks if the move is allowed or not, returning the initial grid. If a move suceeds, the function adds the isolated grid with the new grid and return the updated posistions. "
   ]
  },
  {
   "cell_type": "markdown",
   "id": "9a0b350c",
   "metadata": {},
   "source": [
    "To see what kind of impact the felxible move has on our Monte Carlo simulations, we ran two different simulations on the same initial grid, one with the rigid move and one with the medium flexible move. Furthermore, we plotted the total energy of the systems as a function of time in the same plot. The plots of interest is seen below."
   ]
  },
  {
   "cell_type": "code",
   "execution_count": null,
   "id": "c2c5fae3",
   "metadata": {},
   "outputs": [],
   "source": [
    "N_s = 30000\n",
    "N = 20\n",
    "M = 4\n",
    "L = 12\n",
    "T = 200\n",
    "T2 = 500\n",
    "\n",
    "initialGrid = createSystemOfPolymers(N, M, L)\n",
    "\n",
    "\n",
    "grid_flex, epsilon_flex, typeMove = MC_Polymers(N_s, initialGrid, T, move = \"flexibility\")\n",
    "grid_rigid, epsilon_rigid, typeMove = MC_Polymers(N_s, initialGrid, T, move= \"rigid\")\n",
    "\n",
    "start = time.time()\n",
    "    \n",
    "grids = [initialGrid, grid_flex, grid_rigid]\n",
    "info = [[\"Initial\", \"Medium flexible\", \"Rigid\"],[0, N_s, N_s],[M, M, M],[T, T, T],[L, L, L],[False, False, False],[True, True, True]]\n",
    "plotSystems(grids, info, f\"System of polymers after {N_s} steps with T = {T} using medium flexibility moves\")\n",
    "\n",
    "plotEnergy(epsilon_flex, \"Energy polymer system\", t=T, comparison=True, epsilon2=epsilon_rigid, move=\"flex\", move2=\"rigid\")\n",
    "print(\"It took: \", time.time() - start, \"seconds\")"
   ]
  },
  {
   "cell_type": "markdown",
   "id": "dfe3bf65",
   "metadata": {},
   "source": [
    "From the plots we see that the MC-simulation running the medium felxible move formes larger clusters than the simulation using the rigid move. This is linked to the larger degree of freedom conserning the polymers ability to move around the grid. It is natural to assume that this increased ability to move is going to result in a larger ability to obtain lower states of energy for the system. This is also proven to be the case, as shown in the plot compairing the energy of the systems.  "
   ]
  },
  {
   "cell_type": "markdown",
   "id": "51a41e5f",
   "metadata": {},
   "source": [
    "In our last large scale Monte Carlo simulation we want to study two quantities: the mean cluster size, <d>, devidend by the multivalency, $L$, and the average numbers of clusters $\\langle m \\rangle$ in a grid. Both of these quantities should be functions of the parameter $L$. \n",
    "\n",
    "During these simulations we would like to do n meassurments of both quantities after the system has reached equilibrium. The amount of time steps needed to to reach equilibrium is assumed to follow the same model as before. To reduce the run time, but still get a resonable amount of meassurments for each of the different values of $L$, we chose to do $n = 10$ meassurments after equilibrium.\n",
    "\n",
    "The algorithem we created to accumulate this data, is presented below."
   ]
  },
  {
   "cell_type": "code",
   "execution_count": null,
   "id": "eb82ac8d",
   "metadata": {},
   "outputs": [],
   "source": [
    "def meanSizePolyEdition(initialGrid, N, T, n):\n",
    "    grid = initialGrid.copy()                                                                   #copying the initial grid\n",
    "\n",
    "    t_eq = t_equili(T, 100)                                                                     #Computing the amount of time steps needed for equilibrium\n",
    "    \n",
    "    grid_eq, epsilon_eq, initialGrid = MC_Polymers(t_eq, grid, T, move = \"rigid\")               #Using monte carlo to obtain a system in equilibrium\n",
    "\n",
    "    grid_i = grid_eq\n",
    "\n",
    "    meanDOfL = list()                                                                           #initiating the lists in which the mean values are appended\n",
    "    meanNumberOfClusters = list()                                                               \n",
    "    for i in range(n):                                                                          #Doing meassurments after t_r steps, n times\n",
    "        grid_i, epsilon_i, initialGrid = MC_Polymers(t_r, grid_i, T, move = \"rigid\")\n",
    "\n",
    "        clusterGrid, numberOfClusters, sizes = cluster(grid_i, N, 0)\n",
    "\n",
    "        meanDOfL.append(sum(sizes)/numberOfClusters)\n",
    "        meanNumberOfClusters.append(numberOfClusters) \n",
    "    \n",
    "    return mean(meanDOfL), mean(meanNumberOfClusters)                                           #returning the mean cluster size and the average number of clusters in the grid\n",
    "\n",
    "def functionsOfL(N, M, L, T):\n",
    "    dOfL = np.zeros(len(L))                                                                     #initializing arrays in which the data of interest is added\n",
    "    mOfL = np.zeros(len(L))\n",
    "\n",
    "    for i in range(len(L)):                                                                     #Doing meassurments for each value of L\n",
    "        print(i)\n",
    "        grid = createSystemOfPolymers(N, M, L[i])\n",
    "\n",
    "        meanDOfL, meanNumberOfClusters = meanSizePolyEdition(grid, N, T, n)\n",
    "\n",
    "        dOfL[i] = meanDOfL/L[i]\n",
    "        mOfL[i] = meanNumberOfClusters\n",
    "\n",
    "    return L, dOfL, mOfL                                                                        #Returning the values of interest "
   ]
  },
  {
   "cell_type": "markdown",
   "id": "be51e35f",
   "metadata": {},
   "source": [
    "meanSizePolyEdition() operates in much of the same way as the function meanSize() which finds the mean cluster size as a function of temperature.\n",
    "In the polymer case the function does not iterate through a series of temperatures, since the change of temperature is not of interest. Hence the functions only for-loop is used to do n meassurments of both the mean cluster size and the average amount of clusters.\n",
    "\n",
    "functionsOfL() uses meanSizePolyEdition() to create an array containing the mean cluster size devided by L, as well as the average amount of clusters in the grid, both as functions of L.\n",
    "\n",
    "The two quantities is ploted below."
   ]
  },
  {
   "cell_type": "code",
   "execution_count": null,
   "id": "3e9baeeb",
   "metadata": {},
   "outputs": [],
   "source": [
    "plt.figure()\n",
    "plt.plot(L, dOfL)\n",
    "plt.plot(L, mOfL)\n",
    "plt.show()\n",
    "print(dOfL * mOfL)"
   ]
  },
  {
   "cell_type": "markdown",
   "id": "e8552492",
   "metadata": {},
   "source": [
    "We expect some kind of inverse proportional correlation between $\\frac{\\langle d \\rangle}{L}$ and $\\langle m \\rangle$. We include some rigorous proofs on why. \n",
    "\n",
    "We have shown earlier that $\\langle d \\rangle$ esimates $d$ which is given by an average, namely $\\frac{1}{n} \\sum d_i$. Here $n$ is the number of clusters, that is $m$, and $d_i$ wil always sum up to all monomers, $2ML$, meaning. \n",
    "\n",
    "$$ \\langle d \\rangle = \\frac{1}{n} \\sum_{i=1}^n d_i = \\frac{2ML}{m} $$\n",
    "\n",
    "Rearranging we get\n",
    "\n",
    "$$ \\frac{\\langle d \\rangle m}{L} =   2M $$\n",
    "\n",
    "Meaning the expected product of $\\frac{\\langle d \\rangle}{L}$ and $\\langle m \\rangle$ is constant. and our claim follows. \n",
    "\n",
    "Our plots seems to illustrate this relation quite well, whilst one are increasing the other is decreasing and vice verse. Also their product gives an good estimate for $2M$. The deviation is due to $\\langle m \\rangle \\neq m$ all empiric sample spaces. "
   ]
  },
  {
   "cell_type": "markdown",
   "id": "8c0056ca",
   "metadata": {},
   "source": [
    "**Sicke ord**\n",
    "\n",
    "Chaos\n",
    "inconsistency\n",
    "simultaneously"
   ]
  },
  {
   "cell_type": "markdown",
   "id": "2e19c5f7",
   "metadata": {},
   "source": [
    "**Scrap**"
   ]
  },
  {
   "cell_type": "markdown",
   "id": "d2905c66",
   "metadata": {},
   "source": [
    "1F\n",
    "The following plots presents the results of our first Monte Carlo simulations. We ran two simulations each for a different temperature, T_1 = 200 K and T_2 = 500 K. The purpose of the simulations were to compare how the energy of a system behaves as a function of time for the different temperatures. Furthermore we used the same initial grid for both simulations to create a better basis for comparison. The numerical values for the different parameters of the metropolis algorithem is listed in the cell below."
   ]
  },
  {
   "cell_type": "markdown",
   "id": "5e5b5cb2",
   "metadata": {},
   "source": [
    "1f\n",
    "From the above plots we can derive by visual consideration the amount of Monte Carlo steps needed to reach equilibrium for each of the given temperatures. For T_1 = 200 K t_equili seems to be around 20 000 MC-steps, whilst considering T_2 = 500 K t_equili is about 2 000 MC-steps. \n",
    "\n",
    "These observations can be explaiend by..."
   ]
  },
  {
   "cell_type": "markdown",
   "id": "45959bda",
   "metadata": {},
   "source": [
    "1g)\n",
    "The practicale implementation of the law of conservation of energy is the formation of aggregates in the system, that is, the clustering of monomers*. To reduce the overall energy of the system, monomers of opposite charges go together to create structures where there are as few equaly charged monomers side by side as possible. In our first large scale Monte Carlo simulation we want to observe how the mean cluster size behave as a function of temperature.\n",
    "\n",
    "To execute these simulations we needed an efficient algorithem to create a grid where every monomer in the same cluster is represented by the same positive integer. This function is presented below.\n",
    "\n",
    "e wanted to meassure the mean cluster size of systems for different temperatures, after equilibrium is obtained n times. For larger temperatures the amount of time steps required to reach equilibrium is severilly reduced compared to smaller temperatures."
   ]
  },
  {
   "cell_type": "markdown",
   "id": "c72f1f53",
   "metadata": {},
   "source": [
    "Now we want to run 10 consecutive simluations with different temperatures to find cluster size as a function of temperature."
   ]
  },
  {
   "cell_type": "markdown",
   "id": "2ae91152",
   "metadata": {},
   "source": [
    "**Plotting $\\langle d\\rangle$**\n",
    "\n",
    "As we have discused before, a freezing enviroment will fluxuate around a low energy state. Opposite neighbour charges gives the highest negativ energy contribution, meaning monomers is merged together like a chess board grid. Such systems will only have a few such blobes, meaning the cluster sizes will be enermous.\n",
    "\n",
    "We are expecting a mononotic decrease in $\\langle d \\rangle$ since higher temperatures will make monomers deviante from the grid. Our graphs illustraed our presumption quite well. However, in our plots, there might be a little dent. Our suspicion is that systemes are not independent enough after $t_r=1000$. A \"bad\" system of monomers, where say every monomer are grouped together, might give 10 equally skewed samples, making a dent in our graph"
   ]
  },
  {
   "cell_type": "markdown",
   "id": "9feab77f",
   "metadata": {},
   "source": [
    "In the beginning part of this project we wanted to run large scale Monte Carlo simulations on simplified monomer systems. Therfore we needed efficient algorithmes to both initiate such grids of monomers, as well as visualizing them in an adequate way. To shorten the run time of our simulations, we were using built in functions of the NumPy library. These go well with the Numba library, which gave us access to the opportunity to use jit to further boost our computational efficiency.\n",
    "\n",
    "The algorithems we implemented for these purposes is presented below."
   ]
  },
  {
   "cell_type": "markdown",
   "id": "f9ac87f5",
   "metadata": {},
   "source": [
    "**What is a good sample space**\n",
    "\n",
    "For our system, it might be hard to define a \"good\" sample space, especially since our samples are semidependet. We chose our sample space to be $n=10$. By the smoothness of the graph, corresponding to our expectations, we will consider this plot realistic. "
   ]
  },
  {
   "cell_type": "markdown",
   "id": "39ba36b1",
   "metadata": {},
   "source": [
    "**CreateSystemOfPolymers**\n",
    "\n",
    "When considering our code, there is a slight probability that createSystemOfPolymers() will run indefinitely. Big clusters of polymers may cage in sectors such that new polymers lack spaces to fully forge. Our while-lopp will always try to find a legal space to expand. However, if there are none, this loop will continue forever. This is a minor flaw that we are aware of. Thus far, it has caused close to no problem. If $M,L$ were relatively large compared to $N$, this would be a serious concern. However, our initial values have proven compatible with our code."
   ]
  }
 ],
 "metadata": {
  "kernelspec": {
   "display_name": "Python 3",
   "language": "python",
   "name": "python3"
  },
  "language_info": {
   "codemirror_mode": {
    "name": "ipython",
    "version": 3
   },
   "file_extension": ".py",
   "mimetype": "text/x-python",
   "name": "python",
   "nbconvert_exporter": "python",
   "pygments_lexer": "ipython3",
   "version": "3.6.6+"
  }
 },
 "nbformat": 4,
 "nbformat_minor": 5
}
