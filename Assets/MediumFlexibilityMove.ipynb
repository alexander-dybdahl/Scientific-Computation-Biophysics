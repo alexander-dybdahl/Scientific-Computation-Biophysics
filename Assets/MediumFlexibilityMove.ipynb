{
 "cells": [
  {
   "cell_type": "code",
   "execution_count": null,
   "metadata": {},
   "outputs": [],
   "source": [
    "    if direction == 0: # right\n",
    "        for i in range(len(grid)):\n",
    "            row = grid[i]\n",
    "            for j in range(len(row)):\n",
    "                if grid[i, j] == k:\n",
    "                    for x in range(j, j+len(row)):\n",
    "                        if row[x%N] != k and row[x%N] != 0 and row[(x-1)%N] == k:\n",
    "                            allowedMove = False\n",
    "                            break\n",
    "                if allowedMove == True:\n",
    "                    movedGrid.append(row)\n",
    "                else:\n",
    "                    movedGrid.append(list(len(row)))\n"
   ]
  }
 ],
 "metadata": {
  "kernelspec": {
   "display_name": "Python 3",
   "language": "python",
   "name": "python3"
  },
  "language_info": {
   "codemirror_mode": {
    "name": "ipython",
    "version": 3
   },
   "file_extension": ".py",
   "mimetype": "text/x-python",
   "name": "python",
   "nbconvert_exporter": "python",
   "pygments_lexer": "ipython3",
   "version": "3.6.6+"
  }
 },
 "nbformat": 4,
 "nbformat_minor": 2
}
